{
 "cells": [
  {
   "cell_type": "markdown",
   "metadata": {},
   "source": [
    "#### COMPANION WORKBOOK\n",
    "\n",
    "# NumPy\n",
    "\n",
    "To make the most out this program, we strongly recommend you to:\n",
    "1. First practice writing and implementing all of the code from Coding Section of the online lesson.\n",
    "2. Then, freely experiment with and explore any interesting or confusing concepts. Simply insert new code cells and then use the help of Google and official documentation.\n",
    "3. Finally, tackle all of the exercises at the end. They will help you tie everything together and **learn in context.**\n",
    "\n",
    "#### <span style=\"color:#555\">LESSON CODE SANDBOX</span>\n",
    "\n",
    "Use this space to practice writing and implementing all of the code from Coding Section of the online lesson. Insert new code cells as needed, and feel free to write notes to yourself in Markdown."
   ]
  },
  {
   "cell_type": "markdown",
   "metadata": {},
   "source": [
    "First, let's import the actual NumPy library."
   ]
  },
  {
   "cell_type": "code",
   "execution_count": 106,
   "metadata": {},
   "outputs": [],
   "source": [
    "import numpy as np"
   ]
  },
  {
   "cell_type": "markdown",
   "metadata": {},
   "source": [
    "## I. NumPy Arrays are homogeneous."
   ]
  },
  {
   "cell_type": "code",
   "execution_count": 107,
   "metadata": {},
   "outputs": [
    {
     "name": "stdout",
     "output_type": "stream",
     "text": [
      "[1 2 3 4]\n",
      "<class 'numpy.ndarray'>\n"
     ]
    }
   ],
   "source": [
    "array_a = np.array([1,2,3,4])\n",
    "\n",
    "print(array_a)\n",
    "\n",
    "print(type(array_a))\n"
   ]
  },
  {
   "cell_type": "code",
   "execution_count": 108,
   "metadata": {},
   "outputs": [
    {
     "name": "stdout",
     "output_type": "stream",
     "text": [
      "int64\n"
     ]
    }
   ],
   "source": [
    "print(array_a.dtype)"
   ]
  },
  {
   "cell_type": "code",
   "execution_count": 109,
   "metadata": {},
   "outputs": [
    {
     "name": "stdout",
     "output_type": "stream",
     "text": [
      "['five' '7' '3']\n"
     ]
    }
   ],
   "source": [
    "# numpy arrays are homogenous\n",
    "\n",
    "array_b = np.array(['five', 7, 3])\n",
    "\n",
    "print(array_b)"
   ]
  },
  {
   "cell_type": "code",
   "execution_count": 110,
   "metadata": {
    "scrolled": true
   },
   "outputs": [
    {
     "name": "stdout",
     "output_type": "stream",
     "text": [
      "(4,)\n",
      "(3,)\n"
     ]
    }
   ],
   "source": [
    "# Shape & Axes\n",
    "\n",
    "print(array_a.shape)\n",
    "print(array_b.shape)"
   ]
  },
  {
   "cell_type": "code",
   "execution_count": 111,
   "metadata": {},
   "outputs": [
    {
     "data": {
      "text/plain": [
       "4"
      ]
     },
     "execution_count": 111,
     "metadata": {},
     "output_type": "execute_result"
    }
   ],
   "source": [
    "# indexing array\n",
    "\n",
    "array_a[0]\n",
    "\n",
    "array_a[-1]"
   ]
  },
  {
   "cell_type": "code",
   "execution_count": 112,
   "metadata": {},
   "outputs": [
    {
     "name": "stdout",
     "output_type": "stream",
     "text": [
      "[3 4]\n"
     ]
    }
   ],
   "source": [
    "#Slicing numpy array\n",
    "\n",
    "print(array_a[2:4])"
   ]
  },
  {
   "cell_type": "code",
   "execution_count": 113,
   "metadata": {},
   "outputs": [
    {
     "name": "stdout",
     "output_type": "stream",
     "text": [
      "[ 4.  5.  9. nan 10.]\n"
     ]
    }
   ],
   "source": [
    "# NaN & Missing Data\n",
    "\n",
    "array_with_missing_values = np.array([4.0,5,9, np.nan, 10])\n",
    "\n",
    "print(array_with_missing_values)"
   ]
  },
  {
   "cell_type": "code",
   "execution_count": 114,
   "metadata": {},
   "outputs": [
    {
     "name": "stdout",
     "output_type": "stream",
     "text": [
      "float64\n"
     ]
    }
   ],
   "source": [
    "# check the array data type\n",
    "\n",
    "print(array_with_missing_values.dtype)"
   ]
  },
  {
   "cell_type": "markdown",
   "metadata": {},
   "source": [
    "## II. NumPy Arrays are multidimensional."
   ]
  },
  {
   "cell_type": "code",
   "execution_count": 115,
   "metadata": {},
   "outputs": [
    {
     "name": "stdout",
     "output_type": "stream",
     "text": [
      "[[2 4 9]\n",
      " [1 3 9]]\n",
      "(2, 3)\n"
     ]
    }
   ],
   "source": [
    "# create a 2 x 3 array\n",
    "\n",
    "array_c = np.array([[2,4,9],[1,3,9]])\n",
    "\n",
    "print(array_c)\n",
    "\n",
    "print(array_c.shape)"
   ]
  },
  {
   "cell_type": "code",
   "execution_count": 116,
   "metadata": {},
   "outputs": [
    {
     "name": "stdout",
     "output_type": "stream",
     "text": [
      "[[2 4]\n",
      " [9 1]\n",
      " [3 9]]\n"
     ]
    }
   ],
   "source": [
    "# reshaping array to 3 x 2\n",
    "\n",
    "print(array_c.reshape(3, 2))\n",
    "\n"
   ]
  },
  {
   "cell_type": "code",
   "execution_count": 117,
   "metadata": {},
   "outputs": [
    {
     "name": "stdout",
     "output_type": "stream",
     "text": [
      "[[2]\n",
      " [4]\n",
      " [9]\n",
      " [1]\n",
      " [3]\n",
      " [9]]\n"
     ]
    }
   ],
   "source": [
    "# reshape array to 6 x 1\n",
    "\n",
    "print(array_c.reshape(6, 1))"
   ]
  },
  {
   "cell_type": "code",
   "execution_count": 120,
   "metadata": {},
   "outputs": [
    {
     "name": "stdout",
     "output_type": "stream",
     "text": [
      "[[2 4 9 1 3 9]]\n"
     ]
    }
   ],
   "source": [
    "# reshape to 1 x 6\n",
    "\n",
    "print(array_c.reshape(1, 6))"
   ]
  },
  {
   "cell_type": "code",
   "execution_count": 121,
   "metadata": {},
   "outputs": [
    {
     "ename": "ValueError",
     "evalue": "cannot reshape array of size 6 into shape (2,4)",
     "output_type": "error",
     "traceback": [
      "\u001b[0;31m---------------------------------------------------------------------------\u001b[0m",
      "\u001b[0;31mValueError\u001b[0m                                Traceback (most recent call last)",
      "\u001b[0;32m/var/folders/4h/_83sbzt9083fbl90zplwz89m0000gn/T/ipykernel_924/3138039687.py\u001b[0m in \u001b[0;36m<module>\u001b[0;34m\u001b[0m\n\u001b[1;32m      1\u001b[0m \u001b[0;31m# reshape to 2 x 4\u001b[0m\u001b[0;34m\u001b[0m\u001b[0;34m\u001b[0m\u001b[0m\n\u001b[1;32m      2\u001b[0m \u001b[0;34m\u001b[0m\u001b[0m\n\u001b[0;32m----> 3\u001b[0;31m \u001b[0mprint\u001b[0m\u001b[0;34m(\u001b[0m\u001b[0marray_c\u001b[0m\u001b[0;34m.\u001b[0m\u001b[0mreshape\u001b[0m\u001b[0;34m(\u001b[0m\u001b[0;36m2\u001b[0m\u001b[0;34m,\u001b[0m \u001b[0;36m4\u001b[0m\u001b[0;34m)\u001b[0m\u001b[0;34m)\u001b[0m\u001b[0;34m\u001b[0m\u001b[0;34m\u001b[0m\u001b[0m\n\u001b[0m",
      "\u001b[0;31mValueError\u001b[0m: cannot reshape array of size 6 into shape (2,4)"
     ]
    }
   ],
   "source": [
    "# reshape to 2 x 4\n",
    "\n",
    "print(array_c.reshape(2, 4))"
   ]
  },
  {
   "cell_type": "code",
   "execution_count": 122,
   "metadata": {},
   "outputs": [
    {
     "name": "stdout",
     "output_type": "stream",
     "text": [
      "[2 4 9 1 3 9]\n"
     ]
    }
   ],
   "source": [
    "# Flattening an array\n",
    "print(array_c.flatten())"
   ]
  },
  {
   "cell_type": "code",
   "execution_count": 123,
   "metadata": {},
   "outputs": [
    {
     "name": "stdout",
     "output_type": "stream",
     "text": [
      "[[2 1]\n",
      " [4 3]\n",
      " [9 9]]\n"
     ]
    }
   ],
   "source": [
    "# Transposing arrays\n",
    "\n",
    "print(array_c.transpose())"
   ]
  },
  {
   "cell_type": "code",
   "execution_count": 124,
   "metadata": {},
   "outputs": [
    {
     "name": "stdout",
     "output_type": "stream",
     "text": [
      "[[1 2 3]\n",
      " [4 5 6]\n",
      " [7 8 9]]\n"
     ]
    }
   ],
   "source": [
    "# create a 3 x 3 array\n",
    "\n",
    "array_d = np.array(range(1,10)).reshape(3,3)\n",
    "print(array_d)"
   ]
  },
  {
   "cell_type": "code",
   "execution_count": 125,
   "metadata": {},
   "outputs": [
    {
     "name": "stdout",
     "output_type": "stream",
     "text": [
      "[1 2 3]\n"
     ]
    }
   ],
   "source": [
    "# select first row\n",
    "\n",
    "print(array_d[0, :])"
   ]
  },
  {
   "cell_type": "code",
   "execution_count": 126,
   "metadata": {},
   "outputs": [
    {
     "name": "stdout",
     "output_type": "stream",
     "text": [
      "[4 5 6]\n"
     ]
    }
   ],
   "source": [
    "# select second row\n",
    "\n",
    "print(array_d[1, :])"
   ]
  },
  {
   "cell_type": "code",
   "execution_count": 127,
   "metadata": {},
   "outputs": [
    {
     "name": "stdout",
     "output_type": "stream",
     "text": [
      "[2 5 8]\n"
     ]
    }
   ],
   "source": [
    "# select second column\n",
    "\n",
    "print(array_d[: , 1])"
   ]
  },
  {
   "cell_type": "code",
   "execution_count": 128,
   "metadata": {},
   "outputs": [
    {
     "name": "stdout",
     "output_type": "stream",
     "text": [
      "[3 6 9]\n"
     ]
    }
   ],
   "source": [
    "# select third column \n",
    "\n",
    "print(array_d[: , 2])"
   ]
  },
  {
   "cell_type": "code",
   "execution_count": 129,
   "metadata": {},
   "outputs": [
    {
     "name": "stdout",
     "output_type": "stream",
     "text": [
      "[[4 5 6]\n",
      " [7 8 9]]\n"
     ]
    }
   ],
   "source": [
    "# select  from second row to the last\n",
    "print(array_d[1:,])"
   ]
  },
  {
   "cell_type": "code",
   "execution_count": 130,
   "metadata": {},
   "outputs": [
    {
     "name": "stdout",
     "output_type": "stream",
     "text": [
      "[[5 6]\n",
      " [8 9]]\n"
     ]
    }
   ],
   "source": [
    "# select  from second row to the last and select from second column to the last\n",
    "print(array_d[1:, 1:])"
   ]
  },
  {
   "cell_type": "code",
   "execution_count": 131,
   "metadata": {},
   "outputs": [
    {
     "name": "stdout",
     "output_type": "stream",
     "text": [
      "[[2 3]\n",
      " [5 6]\n",
      " [8 9]]\n"
     ]
    }
   ],
   "source": [
    "# select from first row to the last and select from second column to the last\n",
    "print(array_d[0:, 1:])"
   ]
  },
  {
   "cell_type": "code",
   "execution_count": null,
   "metadata": {},
   "outputs": [],
   "source": []
  },
  {
   "cell_type": "markdown",
   "metadata": {},
   "source": [
    "## III. NumPy math is elementwise."
   ]
  },
  {
   "cell_type": "code",
   "execution_count": 132,
   "metadata": {},
   "outputs": [
    {
     "name": "stdout",
     "output_type": "stream",
     "text": [
      "[[2.1 3. ]\n",
      " [4.9 5.2]]\n",
      "[[3.2 5. ]\n",
      " [2.8 2.1]]\n"
     ]
    }
   ],
   "source": [
    "# 2 x 2 float matrix\n",
    "\n",
    "x = np.array([[2.1,3.0], [4.9,5.2]])\n",
    "\n",
    "y = np.array([[3.2, 5.0],[2.8, 2.1]])\n",
    "\n",
    "\n",
    "print(x)\n",
    "print(y)"
   ]
  },
  {
   "cell_type": "code",
   "execution_count": 133,
   "metadata": {},
   "outputs": [
    {
     "name": "stdout",
     "output_type": "stream",
     "text": [
      "[[5.3 8. ]\n",
      " [7.7 7.3]]\n"
     ]
    }
   ],
   "source": [
    "# Addition \n",
    "\n",
    "print( x + y)"
   ]
  },
  {
   "cell_type": "code",
   "execution_count": 134,
   "metadata": {},
   "outputs": [
    {
     "name": "stdout",
     "output_type": "stream",
     "text": [
      "Subtraction => [[-1.1 -2. ]\n",
      " [ 2.1  3.1]] \n",
      "\n",
      "Multiplication => [[ 6.72 15.  ]\n",
      " [13.72 10.92]] \n",
      "\n",
      "Division => [[0.65625    0.6       ]\n",
      " [1.75       2.47619048]] \n",
      "\n",
      "Modulo => [[2.1 3. ]\n",
      " [2.1 1. ]] \n",
      "\n"
     ]
    }
   ],
   "source": [
    "# subtraction\n",
    "\n",
    "print('Subtraction => {}'.format(x - y), '\\n')\n",
    "\n",
    "# multiplication\n",
    "\n",
    "print('Multiplication => {}'.format(x * y), '\\n')\n",
    "\n",
    "# division\n",
    "\n",
    "print('Division => {}'.format(x / y), '\\n')\n",
    "\n",
    "# modulo\n",
    "\n",
    "print('Modulo => {}'.format(x % y), '\\n')"
   ]
  },
  {
   "cell_type": "code",
   "execution_count": 135,
   "metadata": {},
   "outputs": [
    {
     "name": "stdout",
     "output_type": "stream",
     "text": [
      "[[4.1 5. ]\n",
      " [6.9 7.2]]\n"
     ]
    }
   ],
   "source": [
    "# single array and scalar operations\n",
    "\n",
    "print( x + 2)"
   ]
  },
  {
   "cell_type": "code",
   "execution_count": 136,
   "metadata": {},
   "outputs": [
    {
     "name": "stdout",
     "output_type": "stream",
     "text": [
      "single array and scalar operations Subtraction => [[0.1 1. ]\n",
      " [2.9 3.2]] \n",
      "\n",
      "single array and scalar operations Multiplication => [[ 4.2  6. ]\n",
      " [ 9.8 10.4]] \n",
      "\n",
      "single array and scalar operations Division => [[1.05 1.5 ]\n",
      " [2.45 2.6 ]] \n",
      "\n",
      "single array and scalar operations Modulo => [[0.1 1. ]\n",
      " [0.9 1.2]] \n",
      "\n"
     ]
    }
   ],
   "source": [
    "# subtraction\n",
    "\n",
    "print('single array and scalar operations Subtraction => {}'.format(x - 2), '\\n')\n",
    "\n",
    "# multiplication\n",
    "\n",
    "print('single array and scalar operations Multiplication => {}'.format(x * 2), '\\n')\n",
    "\n",
    "# division\n",
    "\n",
    "print('single array and scalar operations Division => {}'.format(x / 2), '\\n')\n",
    "\n",
    "# modulo\n",
    "\n",
    "print('single array and scalar operations Modulo => {}'.format(x % 2), '\\n')"
   ]
  },
  {
   "cell_type": "code",
   "execution_count": 137,
   "metadata": {},
   "outputs": [
    {
     "name": "stdout",
     "output_type": "stream",
     "text": [
      "[[ 4.41  9.  ]\n",
      " [24.01 27.04]] \n",
      "\n",
      "[[  9.261  27.   ]\n",
      " [117.649 140.608]] \n",
      "\n",
      "[[  8.16616991  20.08553692]\n",
      " [134.28977968 181.27224188]] \n",
      "\n",
      "[[0.74193734 1.09861229]\n",
      " [1.58923521 1.64865863]] \n",
      "\n",
      "[[1.44913767 1.73205081]\n",
      " [2.21359436 2.28035085]] \n",
      "\n"
     ]
    }
   ],
   "source": [
    "# numpy built in raised to power 2\n",
    "print(np.power(x, 2), '\\n')\n",
    "\n",
    "\n",
    "# numpy built in raised to power 3\n",
    "print(np.power(x, 3), '\\n')\n",
    "\n",
    "\n",
    "# numpy built in exponential\n",
    "print(np.exp(x), '\\n')\n",
    "\n",
    "\n",
    "# numpy built in Natural log\n",
    "print(np.log(x), '\\n')\n",
    "\n",
    "\n",
    "# numpy built in square root\n",
    "print(np.sqrt(x), '\\n')\n"
   ]
  },
  {
   "cell_type": "code",
   "execution_count": 138,
   "metadata": {},
   "outputs": [
    {
     "name": "stdout",
     "output_type": "stream",
     "text": [
      "15.2\n",
      "3.8\n",
      "5.2\n",
      "2.1\n",
      "3.95\n"
     ]
    }
   ],
   "source": [
    "# Numpy aggregation functions\n",
    "x = np.array([[2.1,3.0], [4.9,5.2]])\n",
    "\n",
    "# sum \n",
    "print(np.sum(x))\n",
    "\n",
    "# mean\n",
    "print(np.mean(x))\n",
    "\n",
    "# max\n",
    "print(np.max(x))\n",
    "\n",
    "# min\n",
    "print(np.min(x))\n",
    "\n",
    "# median\n",
    "print(np.median(x))\n",
    "\n"
   ]
  },
  {
   "cell_type": "code",
   "execution_count": 139,
   "metadata": {},
   "outputs": [
    {
     "name": "stdout",
     "output_type": "stream",
     "text": [
      "[7.  8.2]\n",
      "[ 5.1 10.1]\n"
     ]
    }
   ],
   "source": [
    "# aggregate across columns or rows\n",
    "\n",
    "# axis = 0 is for aggregation across columns\n",
    "# axis = 1 is for aggregation across rows\n",
    "\n",
    "\n",
    "# sum of each column\n",
    "print(np.sum(x, axis=0))\n",
    "\n",
    "# sum of each row\n",
    "print(np.sum(x, axis=1))\n"
   ]
  },
  {
   "cell_type": "code",
   "execution_count": 140,
   "metadata": {},
   "outputs": [
    {
     "name": "stdout",
     "output_type": "stream",
     "text": [
      "<function sum at 0x7fa4d90a88b0>\n"
     ]
    }
   ],
   "source": [
    "print(np.sum)"
   ]
  },
  {
   "cell_type": "markdown",
   "metadata": {},
   "source": [
    "## IV. NumPy is reliably random."
   ]
  },
  {
   "cell_type": "code",
   "execution_count": 141,
   "metadata": {},
   "outputs": [
    {
     "name": "stdout",
     "output_type": "stream",
     "text": [
      "[3 8 7 1 5 7 8 3 7 0 7 2 1 8 0 8 9 8 4 5 4 9 1 8 2 0 7 2 8 0 5 6 3 8 7 2 1\n",
      " 3 5 3 9 2 8 0 3 2 1 2 0 5 4 3 7 4 2 0 8 3 0 0 9 4 6 9]\n"
     ]
    }
   ],
   "source": [
    "# Numpy random tools\n",
    "\n",
    "np.random\n",
    "\n",
    "# generate a 8x8 matrix of random digits from 0 to 9\n",
    "\n",
    "# Randomly draw 64 samples from a uniform distribution from [0, 10)\n",
    "\n",
    "# low: Lower boundary for sampling (inclusive)\n",
    "# high: Upper boundary for sampling (exclusive)\n",
    "# size: Number of samples to draw\n",
    "\n",
    "samples = np.random.randint(low=0, high=10, size=64)\n",
    "\n",
    "print(samples)"
   ]
  },
  {
   "cell_type": "code",
   "execution_count": 142,
   "metadata": {},
   "outputs": [
    {
     "name": "stdout",
     "output_type": "stream",
     "text": [
      "[[3 8 7 1 5 7 8 3]\n",
      " [7 0 7 2 1 8 0 8]\n",
      " [9 8 4 5 4 9 1 8]\n",
      " [2 0 7 2 8 0 5 6]\n",
      " [3 8 7 2 1 3 5 3]\n",
      " [9 2 8 0 3 2 1 2]\n",
      " [0 5 4 3 7 4 2 0]\n",
      " [8 3 0 0 9 4 6 9]]\n"
     ]
    }
   ],
   "source": [
    "# reshape the array into an 8 X 8 matrix\n",
    "\n",
    "\n",
    "print(samples.reshape(8, 8))"
   ]
  },
  {
   "cell_type": "code",
   "execution_count": 143,
   "metadata": {},
   "outputs": [
    {
     "name": "stdout",
     "output_type": "stream",
     "text": [
      "[[6 5 3 5 1 7 5 9]\n",
      " [3 6 2 2 6 0 8 1]\n",
      " [7 2 9 1 0 9 1 7]\n",
      " [1 2 3 4 2 7 8 4]\n",
      " [3 2 4 4 6 6 0 2]\n",
      " [3 4 2 0 8 0 7 4]\n",
      " [0 9 6 5 4 1 1 7]\n",
      " [4 4 0 8 4 1 9 9]]\n"
     ]
    }
   ],
   "source": [
    "# Another approach \n",
    "\n",
    "generated_matrix = np.random.randint(0,10, (8,8))\n",
    "\n",
    "print(generated_matrix)"
   ]
  },
  {
   "cell_type": "code",
   "execution_count": 144,
   "metadata": {},
   "outputs": [
    {
     "name": "stdout",
     "output_type": "stream",
     "text": [
      "[[2 1 0 7 0 9 0 0]\n",
      " [9 3 6 8 2 8 7 1]\n",
      " [0 1 4 3 4 4 0 5]\n",
      " [9 2 4 5 9 0 8 2]\n",
      " [8 1 7 2 9 2 8 4]\n",
      " [5 1 1 2 3 0 2 5]\n",
      " [6 7 5 7 4 6 0 4]\n",
      " [9 0 0 5 4 9 0 3]]\n"
     ]
    }
   ],
   "source": [
    "generated_matrix = np.random.randint(0,10, (8,8))\n",
    "\n",
    "print(generated_matrix)"
   ]
  },
  {
   "cell_type": "code",
   "execution_count": 145,
   "metadata": {},
   "outputs": [
    {
     "name": "stdout",
     "output_type": "stream",
     "text": [
      "[[4 9 8 1 8 8 4 5]\n",
      " [8 3 5 1 4 6 5 7]\n",
      " [7 2 2 3 9 2 1 2]\n",
      " [1 1 0 4 4 3 0 3]\n",
      " [7 4 5 7 0 8 7 1]\n",
      " [0 2 5 6 1 0 7 2]\n",
      " [8 3 0 3 9 8 5 6]\n",
      " [0 2 7 5 2 3 9 9]]\n"
     ]
    }
   ],
   "source": [
    "# add random seed\n",
    "\n",
    "np.random.seed(321)\n",
    "\n",
    "generated_matrix = np.random.randint(0,10, (8,8))\n",
    "\n",
    "print(generated_matrix)"
   ]
  },
  {
   "cell_type": "code",
   "execution_count": 146,
   "metadata": {},
   "outputs": [
    {
     "name": "stdout",
     "output_type": "stream",
     "text": [
      "[[4 9 8 1 8 8 4 5]\n",
      " [8 3 5 1 4 6 5 7]\n",
      " [7 2 2 3 9 2 1 2]\n",
      " [1 1 0 4 4 3 0 3]\n",
      " [7 4 5 7 0 8 7 1]\n",
      " [0 2 5 6 1 0 7 2]\n",
      " [8 3 0 3 9 8 5 6]\n",
      " [0 2 7 5 2 3 9 9]]\n"
     ]
    }
   ],
   "source": [
    "np.random.seed(321)\n",
    "\n",
    "generated_matrix = np.random.randint(0,10, (8,8))\n",
    "\n",
    "print(generated_matrix)"
   ]
  },
  {
   "cell_type": "code",
   "execution_count": 147,
   "metadata": {},
   "outputs": [
    {
     "name": "stdout",
     "output_type": "stream",
     "text": [
      "[[4 9 8 1 8 8 4 5]\n",
      " [8 3 5 1 4 6 5 7]\n",
      " [7 2 2 3 9 2 1 2]\n",
      " [1 1 0 4 4 3 0 3]\n",
      " [7 4 5 7 0 8 7 1]\n",
      " [0 2 5 6 1 0 7 2]\n",
      " [8 3 0 3 9 8 5 6]\n",
      " [0 2 7 5 2 3 9 9]]\n"
     ]
    }
   ],
   "source": [
    "# set seed for reproductilbility\n",
    "np.random.seed(321)\n",
    "\n",
    "generated_matrix = np.random.randint(0,10, (8,8))\n",
    "\n",
    "print(generated_matrix)"
   ]
  },
  {
   "cell_type": "code",
   "execution_count": 148,
   "metadata": {},
   "outputs": [
    {
     "name": "stdout",
     "output_type": "stream",
     "text": [
      "[0 7 0 4 0]\n"
     ]
    }
   ],
   "source": [
    "# randomly select element from the generated matrix\n",
    "# set seed for reproductilbility\n",
    "np.random.seed(55)\n",
    "\n",
    "# random choice takes the array and the number of element to select\n",
    "\n",
    "\n",
    "# Randomly select 5 elements from first column of generated_matrix\n",
    "print(np.random.choice(generated_matrix[:, 0], 5))\n",
    "\n",
    "# random.choice sampled the above with replacements"
   ]
  },
  {
   "cell_type": "code",
   "execution_count": 149,
   "metadata": {},
   "outputs": [
    {
     "name": "stdout",
     "output_type": "stream",
     "text": [
      "[7 0 8 8 1]\n"
     ]
    }
   ],
   "source": [
    "# random choice without replacements\n",
    "\n",
    "#set seed for reproducibility\n",
    "np.random.seed(55)\n",
    "\n",
    "\n",
    "print(np.random.choice(generated_matrix[:, 0], 5, replace=False))"
   ]
  },
  {
   "cell_type": "code",
   "execution_count": null,
   "metadata": {},
   "outputs": [],
   "source": []
  },
  {
   "cell_type": "markdown",
   "metadata": {},
   "source": [
    "#### <span style=\"color:#555\">EXERCISES</span>\n",
    "\n",
    "Complete each of the following exercises.\n",
    "\n",
    "## <span style=\"color:RoyalBlue\">Exercise 4.1 - Business Park Arrays</span>\n",
    "\n",
    "#### In the previous lesson...\n",
    "\n",
    "In the previous lesson, we decided on Park Royal as our first stop in our training mission to London. Now we've arrived at the tube station! Park Royal is home to London's largest business park. \n",
    "* Assume the business park supports 1,700 businesses.\n",
    "* HQ sent you a manual with their names and locations. \n",
    "* *They are listed in order from smallest to largest* (this will be important later).\n",
    "\n",
    "#### A.) First, let's create a NumPy array called <code style=\"color:steelblue\">business_ids</code>.\n",
    "* The first business has ID <code>1</code>, the second one has ID <code>2</code> and so on.\n",
    "* Remember that Python is zero-indexed... but your business ID array should still start from 1!\n",
    "* The array should have shape <code style=\"color:steelblue\">(1700,)</code>."
   ]
  },
  {
   "cell_type": "code",
   "execution_count": 150,
   "metadata": {},
   "outputs": [
    {
     "name": "stdout",
     "output_type": "stream",
     "text": [
      "[   1    2    3 ... 1698 1699 1700]\n"
     ]
    }
   ],
   "source": [
    "# Create array of business_ids with values ranging from 1 to 1700\n",
    "\n",
    "business_ids = np.array(range(1,1701))\n",
    "print(business_ids)"
   ]
  },
  {
   "cell_type": "markdown",
   "metadata": {},
   "source": [
    "#### B.) Next, print the shape of <code style=\"color:steelblue\">business_ids</code> to confirm it has shape <code style=\"color:steelblue\">(1700,)</code>."
   ]
  },
  {
   "cell_type": "code",
   "execution_count": 151,
   "metadata": {},
   "outputs": [
    {
     "name": "stdout",
     "output_type": "stream",
     "text": [
      "(1700,)\n"
     ]
    }
   ],
   "source": [
    "# Print shape of business_ids\n",
    "print(business_ids.shape)"
   ]
  },
  {
   "cell_type": "markdown",
   "metadata": {},
   "source": [
    "<strong style=\"color:RoyalBlue\">Expected output:</strong>\n",
    "\n",
    "<pre>\n",
    "(1700,)\n",
    "</pre>"
   ]
  },
  {
   "cell_type": "markdown",
   "metadata": {},
   "source": [
    "#### C.) Finally, print the last 10 business ID's to confirm the array is set up properly."
   ]
  },
  {
   "cell_type": "code",
   "execution_count": 154,
   "metadata": {
    "scrolled": true
   },
   "outputs": [
    {
     "name": "stdout",
     "output_type": "stream",
     "text": [
      "[1691 1692 1693 1694 1695 1696 1697 1698 1699 1700]\n"
     ]
    }
   ],
   "source": [
    "# Print last 10 business ID's\n",
    "print(business_ids[-10:])"
   ]
  },
  {
   "cell_type": "markdown",
   "metadata": {},
   "source": [
    "<strong style=\"color:RoyalBlue\">Expected output:</strong>\n",
    "\n",
    "<pre>\n",
    "[1691 1692 1693 1694 1695 1696 1697 1698 1699 1700]\n",
    "</pre>"
   ]
  },
  {
   "cell_type": "markdown",
   "metadata": {},
   "source": [
    "## <span style=\"color:RoyalBlue\">Exercise 4.2 - Stratified Random Sampling</span>\n",
    "\n",
    "There are **1700** businesses in Park Royal's business park. However, you only have **10** hours to stay in Park Royal before you need to move on to the next location. Assuming you could only visit **5** businesses per hour, which businesses should you visit?\n",
    "\n",
    "#### Well, 2 options immediately come to mind:\n",
    "1. You could just visit the first 50 businesses.\n",
    "2. You could randomly sample 50 businesses.\n",
    "\n",
    "While these appear fine at first glance, there are potential flaws with both of these approaches. *Remember, we learned that the businesses were listed in order from smallest to largest! Therefore...*\n",
    "1. Just visiting the first 50 would give us a biased sample of only the smallest businesses.\n",
    "2. Visiting a random sample of 50 is better, but there's still a chance that our sample ends up biased from pure chance.\n",
    "\n",
    "#### Instead, let's take a *stratified random sample* based on the size of the business.\n",
    "* Stratified random sampling is a sampling method by which you first group your observations based on a **key variable**, and then randomly sampling from those groups.\n",
    "* This will ensure your sample is **representative** of the broader dataset along that key variable. In other words, your sample will be \"spread out\" across different values of that key variable.\n",
    "\n",
    "<p style=\"text-align:center\">\n",
    "<img src=\"https://upload.wikimedia.org/wikipedia/commons/f/fa/Stratified_sampling.PNG\" alt=\"Stratified Random Sampling\" style=\"width: 280px;\"/>\n",
    "<br>\n",
    "<em>Stratified Random Sampling</em>\n",
    "</p>\n",
    "\n",
    "#### For this exercise, stratified random sampling just means that...\n",
    "* We'll start by splitting our businesses into 10 groups of 170 businesses each.\n",
    "* The first group will have ID's from 1 to 170, the second will have ID's from 171 to 340, etc.\n",
    "* Then we'll randomly select 5 businesses from each group of 170.\n",
    "* Since the businesses are already ordered by size, this will ensure that small, medium, and big businesses are all represented in our sample.\n",
    "\n",
    "#### A.) First, reshape the 1-dimensional <code style=\"color:steelblue\">business_ids</code> array into a new 2-dimensional <code style=\"color:steelblue\">id_matrix</code> array.\n",
    "* <code style=\"color:steelblue\">id_matrix</code> should have **10 columns**... one for each group of businesses.\n",
    "* How many rows should it have?\n",
    "* What does the number of rows represent?"
   ]
  },
  {
   "cell_type": "code",
   "execution_count": 155,
   "metadata": {},
   "outputs": [
    {
     "name": "stdout",
     "output_type": "stream",
     "text": [
      "(170, 10)\n",
      "[[   1    2    3 ...    8    9   10]\n",
      " [  11   12   13 ...   18   19   20]\n",
      " [  21   22   23 ...   28   29   30]\n",
      " ...\n",
      " [1671 1672 1673 ... 1678 1679 1680]\n",
      " [1681 1682 1683 ... 1688 1689 1690]\n",
      " [1691 1692 1693 ... 1698 1699 1700]]\n"
     ]
    }
   ],
   "source": [
    "# Create id_matrix by reshaping business_ids to have 10 columns\n",
    "id_matrix = business_ids.reshape(170,10)\n",
    "\n",
    "\n",
    "# Print shape\n",
    "print(id_matrix.shape)\n",
    "print(id_matrix)\n",
    "\n"
   ]
  },
  {
   "cell_type": "markdown",
   "metadata": {},
   "source": [
    "<strong style=\"color:RoyalBlue\">Expected output:</strong>\n",
    "\n",
    "<pre>\n",
    "(170, 10)\n",
    "</pre>"
   ]
  },
  {
   "cell_type": "markdown",
   "metadata": {},
   "source": [
    "Great, now we have a matrix with 10 columns representing 10 groups of businesses. But remember, our goal is to stratify our sample by size of the business, and because our businesses are ordered by size, the first group should be 1 to 170, the second group should be 171 to 340, and so on.\n",
    "\n",
    "#### B.) Print the first column (group) of <code style=\"color:steelblue\">id_matrix</code>.\n",
    "* Does it contain businesses 1 to 170?"
   ]
  },
  {
   "cell_type": "code",
   "execution_count": 156,
   "metadata": {},
   "outputs": [
    {
     "name": "stdout",
     "output_type": "stream",
     "text": [
      "[   1   11   21   31   41   51   61   71   81   91  101  111  121  131\n",
      "  141  151  161  171  181  191  201  211  221  231  241  251  261  271\n",
      "  281  291  301  311  321  331  341  351  361  371  381  391  401  411\n",
      "  421  431  441  451  461  471  481  491  501  511  521  531  541  551\n",
      "  561  571  581  591  601  611  621  631  641  651  661  671  681  691\n",
      "  701  711  721  731  741  751  761  771  781  791  801  811  821  831\n",
      "  841  851  861  871  881  891  901  911  921  931  941  951  961  971\n",
      "  981  991 1001 1011 1021 1031 1041 1051 1061 1071 1081 1091 1101 1111\n",
      " 1121 1131 1141 1151 1161 1171 1181 1191 1201 1211 1221 1231 1241 1251\n",
      " 1261 1271 1281 1291 1301 1311 1321 1331 1341 1351 1361 1371 1381 1391\n",
      " 1401 1411 1421 1431 1441 1451 1461 1471 1481 1491 1501 1511 1521 1531\n",
      " 1541 1551 1561 1571 1581 1591 1601 1611 1621 1631 1641 1651 1661 1671\n",
      " 1681 1691]\n"
     ]
    }
   ],
   "source": [
    "# Print first column of id_matrix\n",
    "\n",
    "print(id_matrix[:,0])"
   ]
  },
  {
   "cell_type": "markdown",
   "metadata": {},
   "source": [
    "<strong style=\"color:RoyalBlue\">Expected output:</strong>\n",
    "\n",
    "<pre>\n",
    "[   1   11   21   31   41   51   61   71   81   91  101  111  121  131  141\n",
    "  151  161  171  181  191  201  211  221  231  241  251  261  271  281  291\n",
    "  301  311  321  331  341  351  361  371  381  391  401  411  421  431  441\n",
    "  451  461  471  481  491  501  511  521  531  541  551  561  571  581  591\n",
    "  601  611  621  631  641  651  661  671  681  691  701  711  721  731  741\n",
    "  751  761  771  781  791  801  811  821  831  841  851  861  871  881  891\n",
    "  901  911  921  931  941  951  961  971  981  991 1001 1011 1021 1031 1041\n",
    " 1051 1061 1071 1081 1091 1101 1111 1121 1131 1141 1151 1161 1171 1181 1191\n",
    " 1201 1211 1221 1231 1241 1251 1261 1271 1281 1291 1301 1311 1321 1331 1341\n",
    " 1351 1361 1371 1381 1391 1401 1411 1421 1431 1441 1451 1461 1471 1481 1491\n",
    " 1501 1511 1521 1531 1541 1551 1561 1571 1581 1591 1601 1611 1621 1631 1641\n",
    " 1651 1661 1671 1681 1691]\n",
    "</pre>"
   ]
  },
  {
   "cell_type": "markdown",
   "metadata": {},
   "source": [
    "Crap, that's not what we wanted. Ah, but we should have seen this coming!\n",
    "\n",
    "Remember, when you <code style=\"color:steelblue\">.reshape</code> an array, the new array keeps the order of the elements. Let's see how we can solve this."
   ]
  },
  {
   "cell_type": "markdown",
   "metadata": {},
   "source": [
    "## <span style=\"color:RoyalBlue\">Exercise 4.3 - Toy Problem Interlude</span>\n",
    "\n",
    "Let's walk through a miniature example of what we just did in the previous exercise, because it will be easier to understand by peeking under the hood. \n",
    "* Instead of 1700 businesses, let's say we only had **170** businesses to visit, but we still want to group them into **10** groups by ID.\n",
    "* Therefore, we want the first group to have businesses **1 to 17**, the second group to have **18 to 34**, the third group to have **35 to 51**, and so on.\n",
    "\n",
    "By using this type of \"toy problem,\" we can actually print the entire matrix and see what's going on under the hood when we reshape an array.\n",
    "\n",
    "#### A.) Create a new <code>mini_business_ids</code> array with only 170 businesses (10% of the size of our full problem).\n",
    "* Then reshape it to only have 10 columns and store it as <code>mini_id_matrix</code>.\n",
    "* Finally, display <code>mini_id_matrix</code>."
   ]
  },
  {
   "cell_type": "code",
   "execution_count": 157,
   "metadata": {},
   "outputs": [
    {
     "name": "stdout",
     "output_type": "stream",
     "text": [
      "[[  1   2   3   4   5   6   7   8   9  10]\n",
      " [ 11  12  13  14  15  16  17  18  19  20]\n",
      " [ 21  22  23  24  25  26  27  28  29  30]\n",
      " [ 31  32  33  34  35  36  37  38  39  40]\n",
      " [ 41  42  43  44  45  46  47  48  49  50]\n",
      " [ 51  52  53  54  55  56  57  58  59  60]\n",
      " [ 61  62  63  64  65  66  67  68  69  70]\n",
      " [ 71  72  73  74  75  76  77  78  79  80]\n",
      " [ 81  82  83  84  85  86  87  88  89  90]\n",
      " [ 91  92  93  94  95  96  97  98  99 100]\n",
      " [101 102 103 104 105 106 107 108 109 110]\n",
      " [111 112 113 114 115 116 117 118 119 120]\n",
      " [121 122 123 124 125 126 127 128 129 130]\n",
      " [131 132 133 134 135 136 137 138 139 140]\n",
      " [141 142 143 144 145 146 147 148 149 150]\n",
      " [151 152 153 154 155 156 157 158 159 160]\n",
      " [161 162 163 164 165 166 167 168 169 170]]\n"
     ]
    }
   ],
   "source": [
    "# Create array of 170 ID's\n",
    "mini_business_ids = np.array(range(1,171))\n",
    "\n",
    "# Reshape to have 10 columns\n",
    "mini_id_matrix = mini_business_ids.reshape(17,10)\n",
    "\n",
    "# Display mini_id_matrix\n",
    "\n",
    "print(mini_id_matrix)\n"
   ]
  },
  {
   "cell_type": "markdown",
   "metadata": {},
   "source": [
    "<strong style=\"color:RoyalBlue\">Expected output:</strong>\n",
    "\n",
    "<pre>\n",
    "[[  1   2   3   4   5   6   7   8   9  10]\n",
    " [ 11  12  13  14  15  16  17  18  19  20]\n",
    " [ 21  22  23  24  25  26  27  28  29  30]\n",
    " [ 31  32  33  34  35  36  37  38  39  40]\n",
    " [ 41  42  43  44  45  46  47  48  49  50]\n",
    " [ 51  52  53  54  55  56  57  58  59  60]\n",
    " [ 61  62  63  64  65  66  67  68  69  70]\n",
    " [ 71  72  73  74  75  76  77  78  79  80]\n",
    " [ 81  82  83  84  85  86  87  88  89  90]\n",
    " [ 91  92  93  94  95  96  97  98  99 100]\n",
    " [101 102 103 104 105 106 107 108 109 110]\n",
    " [111 112 113 114 115 116 117 118 119 120]\n",
    " [121 122 123 124 125 126 127 128 129 130]\n",
    " [131 132 133 134 135 136 137 138 139 140]\n",
    " [141 142 143 144 145 146 147 148 149 150]\n",
    " [151 152 153 154 155 156 157 158 159 160]\n",
    " [161 162 163 164 165 166 167 168 169 170]]\n",
    "</pre>"
   ]
  },
  {
   "cell_type": "markdown",
   "metadata": {},
   "source": [
    "There! Do you see how it fills in the matrix one row at a time?\n",
    "* So, when you select the first **column**, you're not getting businesses 1 to 17. \n",
    "* Instead, you're getting every 10th business: 1, 11, 21, 31, etc...\n",
    "\n",
    "#### B.) Aha, now we're on to something... so instead of reshaping to 17 rows and 10 columns, let's try reshaping it to 10 rows and 17 columns."
   ]
  },
  {
   "cell_type": "code",
   "execution_count": 158,
   "metadata": {},
   "outputs": [
    {
     "name": "stdout",
     "output_type": "stream",
     "text": [
      "[[  1   2   3   4   5   6   7   8   9  10  11  12  13  14  15  16  17]\n",
      " [ 18  19  20  21  22  23  24  25  26  27  28  29  30  31  32  33  34]\n",
      " [ 35  36  37  38  39  40  41  42  43  44  45  46  47  48  49  50  51]\n",
      " [ 52  53  54  55  56  57  58  59  60  61  62  63  64  65  66  67  68]\n",
      " [ 69  70  71  72  73  74  75  76  77  78  79  80  81  82  83  84  85]\n",
      " [ 86  87  88  89  90  91  92  93  94  95  96  97  98  99 100 101 102]\n",
      " [103 104 105 106 107 108 109 110 111 112 113 114 115 116 117 118 119]\n",
      " [120 121 122 123 124 125 126 127 128 129 130 131 132 133 134 135 136]\n",
      " [137 138 139 140 141 142 143 144 145 146 147 148 149 150 151 152 153]\n",
      " [154 155 156 157 158 159 160 161 162 163 164 165 166 167 168 169 170]]\n"
     ]
    }
   ],
   "source": [
    "# Reshape to have 10 rows\n",
    "reform = mini_id_matrix.reshape(10,17)\n",
    "\n",
    "# Display mini id matrix\n",
    "print(reform)\n"
   ]
  },
  {
   "cell_type": "markdown",
   "metadata": {},
   "source": [
    "<strong style=\"color:RoyalBlue\">Expected output:</strong>\n",
    "\n",
    "<pre>\n",
    "[[  1   2   3   4   5   6   7   8   9  10  11  12  13  14  15  16  17]\n",
    " [ 18  19  20  21  22  23  24  25  26  27  28  29  30  31  32  33  34]\n",
    " [ 35  36  37  38  39  40  41  42  43  44  45  46  47  48  49  50  51]\n",
    " [ 52  53  54  55  56  57  58  59  60  61  62  63  64  65  66  67  68]\n",
    " [ 69  70  71  72  73  74  75  76  77  78  79  80  81  82  83  84  85]\n",
    " [ 86  87  88  89  90  91  92  93  94  95  96  97  98  99 100 101 102]\n",
    " [103 104 105 106 107 108 109 110 111 112 113 114 115 116 117 118 119]\n",
    " [120 121 122 123 124 125 126 127 128 129 130 131 132 133 134 135 136]\n",
    " [137 138 139 140 141 142 143 144 145 146 147 148 149 150 151 152 153]\n",
    " [154 155 156 157 158 159 160 161 162 163 164 165 166 167 168 169 170]]\n",
    "</pre>"
   ]
  },
  {
   "cell_type": "markdown",
   "metadata": {},
   "source": [
    "Now we have 10 rows instead of 10 columns. \n",
    "* The first **row** has the businesses 1 to 17, which is what we want!\n",
    "* And if we want the first **column** to have businesses 1 to 17, we can simply **transpose** this matrix.\n",
    "\n",
    "Working through toy problems is an underappreciated and very useful skill in data science... Toy problems are basically miniature versions of your problem that are easier to break apart and understand conceptually. You'll often be working with difficult datasets or solving tough analytical problems. If you get stuck, it can be helpful to work through a simpler version of the problem by reducing the size of your dataset or trying easier algorithms!"
   ]
  },
  {
   "cell_type": "markdown",
   "metadata": {},
   "source": [
    "## <span style=\"color:RoyalBlue\">Exercise 4.4 - SRS Round 2</span>\n",
    "\n",
    "Let's try building that <code style=\"color:steelblue\">id_matrix</code> again. \n",
    "\n",
    "#### A.) This time, reshape it to have 10 rows, each representing 1 group of businesses.\n",
    "* The first row should contain businesses 1 to 170."
   ]
  },
  {
   "cell_type": "code",
   "execution_count": 175,
   "metadata": {},
   "outputs": [],
   "source": [
    "# Reshape business_ids to have 10 rows, with 170 businesses each\n",
    "\n",
    "id_matrix = business_ids.reshape(10,170)\n"
   ]
  },
  {
   "cell_type": "markdown",
   "metadata": {},
   "source": [
    "#### B.) Now, print the first *row* of <code style=\"color:steelblue\">id_matrix</code>."
   ]
  },
  {
   "cell_type": "code",
   "execution_count": 176,
   "metadata": {},
   "outputs": [
    {
     "name": "stdout",
     "output_type": "stream",
     "text": [
      "[  1   2   3   4   5   6   7   8   9  10  11  12  13  14  15  16  17  18\n",
      "  19  20  21  22  23  24  25  26  27  28  29  30  31  32  33  34  35  36\n",
      "  37  38  39  40  41  42  43  44  45  46  47  48  49  50  51  52  53  54\n",
      "  55  56  57  58  59  60  61  62  63  64  65  66  67  68  69  70  71  72\n",
      "  73  74  75  76  77  78  79  80  81  82  83  84  85  86  87  88  89  90\n",
      "  91  92  93  94  95  96  97  98  99 100 101 102 103 104 105 106 107 108\n",
      " 109 110 111 112 113 114 115 116 117 118 119 120 121 122 123 124 125 126\n",
      " 127 128 129 130 131 132 133 134 135 136 137 138 139 140 141 142 143 144\n",
      " 145 146 147 148 149 150 151 152 153 154 155 156 157 158 159 160 161 162\n",
      " 163 164 165 166 167 168 169 170]\n"
     ]
    }
   ],
   "source": [
    "# Print the first row of id_matrix\n",
    "print(id_matrix[0])\n"
   ]
  },
  {
   "cell_type": "markdown",
   "metadata": {},
   "source": [
    "<strong style=\"color:RoyalBlue\">Expected output:</strong>\n",
    "\n",
    "<pre>\n",
    "[  1   2   3   4   5   6   7   8   9  10  11  12  13  14  15  16  17  18\n",
    "  19  20  21  22  23  24  25  26  27  28  29  30  31  32  33  34  35  36\n",
    "  37  38  39  40  41  42  43  44  45  46  47  48  49  50  51  52  53  54\n",
    "  55  56  57  58  59  60  61  62  63  64  65  66  67  68  69  70  71  72\n",
    "  73  74  75  76  77  78  79  80  81  82  83  84  85  86  87  88  89  90\n",
    "  91  92  93  94  95  96  97  98  99 100 101 102 103 104 105 106 107 108\n",
    " 109 110 111 112 113 114 115 116 117 118 119 120 121 122 123 124 125 126\n",
    " 127 128 129 130 131 132 133 134 135 136 137 138 139 140 141 142 143 144\n",
    " 145 146 147 148 149 150 151 152 153 154 155 156 157 158 159 160 161 162\n",
    " 163 164 165 166 167 168 169 170]\n",
    "</pre>"
   ]
  },
  {
   "cell_type": "markdown",
   "metadata": {},
   "source": [
    "You should see the businesses with ID's from **1 to 170**. Now, what if we still want our groups to be grouped by column, instead of by row? Let's *flip our rows and columns* now that the rows have the correct groups.\n",
    "\n",
    "#### C.) Overwrite <code style=\"color:steelblue\">id_matrix</code> with its transposed version.\n",
    "* After you do so, print the first column in the new <code style=\"color:steelblue\">id_matrix</code> to confirm the group is correct.\n",
    "* Also print the shape of the new <code style=\"color:steelblue\">id_matrix</code> to confirm your new dimensions are correct."
   ]
  },
  {
   "cell_type": "code",
   "execution_count": 177,
   "metadata": {},
   "outputs": [
    {
     "name": "stdout",
     "output_type": "stream",
     "text": [
      "[  1   2   3   4   5   6   7   8   9  10  11  12  13  14  15  16  17  18\n",
      "  19  20  21  22  23  24  25  26  27  28  29  30  31  32  33  34  35  36\n",
      "  37  38  39  40  41  42  43  44  45  46  47  48  49  50  51  52  53  54\n",
      "  55  56  57  58  59  60  61  62  63  64  65  66  67  68  69  70  71  72\n",
      "  73  74  75  76  77  78  79  80  81  82  83  84  85  86  87  88  89  90\n",
      "  91  92  93  94  95  96  97  98  99 100 101 102 103 104 105 106 107 108\n",
      " 109 110 111 112 113 114 115 116 117 118 119 120 121 122 123 124 125 126\n",
      " 127 128 129 130 131 132 133 134 135 136 137 138 139 140 141 142 143 144\n",
      " 145 146 147 148 149 150 151 152 153 154 155 156 157 158 159 160 161 162\n",
      " 163 164 165 166 167 168 169 170]\n",
      "(170, 10)\n"
     ]
    }
   ],
   "source": [
    "# Overwrite id_matrix with flipped version\n",
    "\n",
    "id_matrix = id_matrix.transpose()\n",
    "# Print first column\n",
    "print(id_matrix[:,0])\n",
    "\n",
    "# Print shape of new id_matrix\n",
    "print(id_matrix.shape)\n",
    "\n"
   ]
  },
  {
   "cell_type": "markdown",
   "metadata": {},
   "source": [
    "<strong style=\"color:RoyalBlue\">Expected output:</strong>\n",
    "\n",
    "<pre>\n",
    "[  1   2   3   4   5   6   7   8   9  10  11  12  13  14  15  16  17  18\n",
    "  19  20  21  22  23  24  25  26  27  28  29  30  31  32  33  34  35  36\n",
    "  37  38  39  40  41  42  43  44  45  46  47  48  49  50  51  52  53  54\n",
    "  55  56  57  58  59  60  61  62  63  64  65  66  67  68  69  70  71  72\n",
    "  73  74  75  76  77  78  79  80  81  82  83  84  85  86  87  88  89  90\n",
    "  91  92  93  94  95  96  97  98  99 100 101 102 103 104 105 106 107 108\n",
    " 109 110 111 112 113 114 115 116 117 118 119 120 121 122 123 124 125 126\n",
    " 127 128 129 130 131 132 133 134 135 136 137 138 139 140 141 142 143 144\n",
    " 145 146 147 148 149 150 151 152 153 154 155 156 157 158 159 160 161 162\n",
    " 163 164 165 166 167 168 169 170]\n",
    "(170, 10)\n",
    "</pre>"
   ]
  },
  {
   "cell_type": "markdown",
   "metadata": {},
   "source": [
    "## <span style=\"color:RoyalBlue\">Exercise 4.5 - Final Business Selections</span>\n",
    "\n",
    "Let's take another look at our <code style=\"color:steelblue\">id_matrix</code>. \n",
    "\n",
    "* In <span style=\"color:royalblue\">Exercise 4.2b</span> we displayed the first group (column) and confirmed that the ID's were from **1 to 170**.\n",
    "* Now let's confirm the rest of the array is correct by finding the <code style=\"color:steelblue\">np.min()</code> and <code style=\"color:steelblue\">np.max()</code> of each group.\n",
    "\n",
    "#### A.) First, create and print an object called <code style=\"color:steelblue\">group_min</code> with the minimum ID of each group (column) of <code style=\"color:steelblue\">id_matrix</code>."
   ]
  },
  {
   "cell_type": "code",
   "execution_count": 210,
   "metadata": {},
   "outputs": [
    {
     "name": "stdout",
     "output_type": "stream",
     "text": [
      "[   1  171  341  511  681  851 1021 1191 1361 1531]\n"
     ]
    }
   ],
   "source": [
    "# Create group_min\n",
    "\n",
    "group_min = np.asarray([np.min(id_matrix[:, 0]), np.min(id_matrix[:, 1]), np.min(id_matrix[:, 2]),np.min(id_matrix[:, 3]),np.min(id_matrix[:, 4]),np.min(id_matrix[:, 5]),np.min(id_matrix[:, 6]),np.min(id_matrix[:, 7]),np.min(id_matrix[:, 8]),np.min(id_matrix[:, 9])])\n",
    "\n",
    "\n",
    "# Print group_min\n",
    "print(group_min)\n",
    "\n"
   ]
  },
  {
   "cell_type": "markdown",
   "metadata": {},
   "source": [
    "<strong style=\"color:RoyalBlue\">Expected output:</strong>\n",
    "\n",
    "<pre>\n",
    "[   1  171  341  511  681  851 1021 1191 1361 1531]\n",
    "</pre>"
   ]
  },
  {
   "cell_type": "markdown",
   "metadata": {},
   "source": [
    "#### B.) Next, create and print an object called <code style=\"color:steelblue\">group_max</code> with the maximum ID of each group (column) of <code style=\"color:steelblue\">id_matrix</code>."
   ]
  },
  {
   "cell_type": "code",
   "execution_count": 219,
   "metadata": {},
   "outputs": [
    {
     "name": "stdout",
     "output_type": "stream",
     "text": [
      "[ 170  340  510  680  850 1020 1190 1360 1530 1700]\n"
     ]
    }
   ],
   "source": [
    "# Create group_max\n",
    "\n",
    "group_max = np.asarray([np.max(id_matrix[:, 0]), np.max(id_matrix[:, 1]), np.max(id_matrix[:, 2]),np.max(id_matrix[:, 3]),np.max(id_matrix[:, 4]),np.max(id_matrix[:, 5]),np.max(id_matrix[:, 6]),np.max(id_matrix[:, 7]),np.max(id_matrix[:, 8]),np.max(id_matrix[:, 9])])\n",
    "# Print group_max\n",
    "\n",
    "print(group_max)\n",
    "\n"
   ]
  },
  {
   "cell_type": "markdown",
   "metadata": {},
   "source": [
    "<strong style=\"color:RoyalBlue\">Expected output:</strong>\n",
    "\n",
    "<pre>\n",
    "[ 170  340  510  680  850 1020 1190 1360 1530 1700]\n",
    "</pre>"
   ]
  },
  {
   "cell_type": "markdown",
   "metadata": {},
   "source": [
    "#### C.) Next, subtract <code style=\"color:steelblue\">group_min</code> from <code style=\"color:steelblue\">group_max</code> to confirm that each of the 10 groups has a <span style=\"tomato\">range</span> of 170.\n",
    "* Remember to add 1 to the difference between max and min because the ends are inclusive \n",
    "    * i.e. $170 - 1 = 169$"
   ]
  },
  {
   "cell_type": "code",
   "execution_count": 232,
   "metadata": {},
   "outputs": [
    {
     "name": "stdout",
     "output_type": "stream",
     "text": [
      "[170 170 170 170 170 170 170 170 170 170]\n"
     ]
    }
   ],
   "source": [
    "# Print range of each group\n",
    "grp = group_max - group_min\n",
    "print(grp + 1)\n",
    "\n"
   ]
  },
  {
   "cell_type": "markdown",
   "metadata": {},
   "source": [
    "<strong style=\"color:RoyalBlue\">Expected output:</strong>\n",
    "\n",
    "<pre>\n",
    "[170 170 170 170 170 170 170 170 170 170]\n",
    "</pre>"
   ]
  },
  {
   "cell_type": "markdown",
   "metadata": {},
   "source": [
    "Great. We are now ready to select 5 businesses from each group in <code style=\"color:steelblue\">id_matrix</code>.\n",
    "\n",
    "#### D.) Finally, write a loop that chooses 5 businesses from column of <code style=\"color:steelblue\">id_matrix</code>.\n",
    "* Set the random seed to 123. (This is just an arbitrary seed chosen for replicable results... you could technically choose any seed you'd like.)\n",
    "* Format the output like in the <span style=\"color:royalblue\">Expected output</span> cell below.\n",
    "* Should we sample with replacement or without replacement? **Hint:** What happens if a business is selected twice?\n",
    "* Bonus points for writing the loop in a way that works with any number of columns."
   ]
  },
  {
   "cell_type": "code",
   "execution_count": 241,
   "metadata": {},
   "outputs": [
    {
     "name": "stdout",
     "output_type": "stream",
     "text": [
      "Group range(1, 10): [9 2 7 8 5]\n",
      "Group range(1, 10): [175 177 176 174 179]\n",
      "Group range(1, 10): [344 343 350 349 342]\n",
      "Group range(1, 10): [517 513 520 512 518]\n",
      "Group range(1, 10): [688 684 687 690 686]\n",
      "Group range(1, 10): [859 856 852 860 854]\n",
      "Group range(1, 10): [1023 1028 1026 1029 1030]\n",
      "Group range(1, 10): [1200 1192 1193 1199 1195]\n",
      "Group range(1, 10): [1363 1369 1370 1362 1364]\n",
      "Group range(1, 10): [1532 1540 1537 1534 1538]\n"
     ]
    }
   ],
   "source": [
    "# Seed random seed\n",
    "np.random.seed(123)\n",
    "\n",
    "# Print selected businesses from each group\n",
    "for arr in id_matrix.transpose():\n",
    "    x = range(1,10)\n",
    "    art = np.random.choice(arr[x], 5, replace=False)\n",
    "    print('Group {}: {}'.format(x, art))\n",
    "\n"
   ]
  },
  {
   "cell_type": "markdown",
   "metadata": {},
   "source": [
    "<strong style=\"color:RoyalBlue\">Expected output:</strong>\n",
    "\n",
    "<pre>\n",
    "Group 1: [ 92  73 139  54 147]\n",
    "Group 2: [182 333 219 292 214]\n",
    "Group 3: [482 384 400 458 477]\n",
    "Group 4: [662 603 676 594 609]\n",
    "Group 5: [827 718 829 845 803]\n",
    "Group 6: [979 893 932 864 984]\n",
    "Group 7: [1115 1103 1093 1062 1160]\n",
    "Group 8: [1308 1248 1231 1222 1330]\n",
    "Group 9: [1492 1406 1401 1456 1398]\n",
    "Group 10: [1680 1674 1697 1534 1540]\n",
    "</pre>"
   ]
  },
  {
   "cell_type": "markdown",
   "metadata": {},
   "source": [
    "Awesome, now we're ready to start visiting the businesses... Let's start with Group 1 and the business with ID 7. After checking our manual, we find out that this business happens to be flower shop. We'll see why that's relevant in the next lesson.\n",
    "\n",
    "#### The mission continues in the next lesson...\n",
    "\n",
    "In this lesson, you narrowed the list of businesses down through stratified random sampling. In the next lesson, you'll visit the flower shop and offer help using your data analysis skills!"
   ]
  }
 ],
 "metadata": {
  "anaconda-cloud": {},
  "kernelspec": {
   "display_name": "Python 3 (ipykernel)",
   "language": "python",
   "name": "python3"
  },
  "language_info": {
   "codemirror_mode": {
    "name": "ipython",
    "version": 3
   },
   "file_extension": ".py",
   "mimetype": "text/x-python",
   "name": "python",
   "nbconvert_exporter": "python",
   "pygments_lexer": "ipython3",
   "version": "3.9.7"
  }
 },
 "nbformat": 4,
 "nbformat_minor": 1
}
