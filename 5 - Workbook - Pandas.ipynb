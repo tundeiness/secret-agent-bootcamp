{
 "cells": [
  {
   "cell_type": "markdown",
   "metadata": {},
   "source": [
    "#### COMPANION WORKBOOK\n",
    "\n",
    "# Pandas\n",
    "\n",
    "To make the most out this program, we strongly recommend you to:\n",
    "1. First practice writing and implementing all of the code from Coding Section of the online lesson.\n",
    "2. Then, freely experiment with and explore any interesting or confusing concepts. Simply insert new code cells and then use the help of Google and official documentation.\n",
    "3. Finally, tackle all of the exercises at the end. They will help you tie everything together and **learn in context.**\n",
    "\n",
    "#### <span style=\"color:#555\">LESSON CODE SANDBOX</span>\n",
    "\n",
    "Use this space to practice writing and implementing all of the code from Coding Section of the online lesson. Insert new code cells as needed, and feel free to write notes to yourself in Markdown."
   ]
  },
  {
   "cell_type": "markdown",
   "metadata": {},
   "source": [
    "## I. Pandas DataFrames are like spreadsheets."
   ]
  },
  {
   "cell_type": "code",
   "execution_count": null,
   "metadata": {},
   "outputs": [],
   "source": []
  },
  {
   "cell_type": "code",
   "execution_count": null,
   "metadata": {},
   "outputs": [],
   "source": []
  },
  {
   "cell_type": "code",
   "execution_count": null,
   "metadata": {},
   "outputs": [],
   "source": []
  },
  {
   "cell_type": "markdown",
   "metadata": {},
   "source": [
    "## II. Pandas Series are like single columns."
   ]
  },
  {
   "cell_type": "code",
   "execution_count": null,
   "metadata": {},
   "outputs": [],
   "source": []
  },
  {
   "cell_type": "code",
   "execution_count": null,
   "metadata": {},
   "outputs": [],
   "source": []
  },
  {
   "cell_type": "code",
   "execution_count": null,
   "metadata": {},
   "outputs": [],
   "source": []
  },
  {
   "cell_type": "markdown",
   "metadata": {},
   "source": [
    "## III. Boolean masks allow you to filter data."
   ]
  },
  {
   "cell_type": "code",
   "execution_count": null,
   "metadata": {},
   "outputs": [],
   "source": []
  },
  {
   "cell_type": "code",
   "execution_count": null,
   "metadata": {},
   "outputs": [],
   "source": []
  },
  {
   "cell_type": "code",
   "execution_count": null,
   "metadata": {},
   "outputs": [],
   "source": []
  },
  {
   "cell_type": "markdown",
   "metadata": {},
   "source": [
    "## IV. Groupbys allow you to segment and aggregate data."
   ]
  },
  {
   "cell_type": "code",
   "execution_count": null,
   "metadata": {},
   "outputs": [],
   "source": []
  },
  {
   "cell_type": "code",
   "execution_count": null,
   "metadata": {},
   "outputs": [],
   "source": []
  },
  {
   "cell_type": "code",
   "execution_count": null,
   "metadata": {},
   "outputs": [],
   "source": []
  },
  {
   "cell_type": "markdown",
   "metadata": {},
   "source": [
    "#### <span style=\"color:#555\">EXERCISES</span>\n",
    "\n",
    "Complete each of the following exercises.\n",
    "\n",
    "First, remember to import Pandas and read in the iris dataset."
   ]
  },
  {
   "cell_type": "code",
   "execution_count": null,
   "metadata": {},
   "outputs": [],
   "source": [
    "import pandas as pd\n",
    "\n",
    "df = pd.read_csv('project_files/iris.csv')"
   ]
  },
  {
   "cell_type": "markdown",
   "metadata": {},
   "source": [
    "## <span style=\"color:RoyalBlue\">Exercise 5.1 - Flowers for Casey</span>\n",
    "\n",
    "In the previous lesson, we discovered that the first local business we need to visit in Park Royal is a local **flower shop.** When we arrive, we find out that the owner, Casey, urgently needs our help!\n",
    "\n",
    "They just received a new shipment of **iris flowers**, but they've never stocked these flowers before. Casey asks us to share what we know about these new flowers. Luckily, we have the *iris dataset* to learn more about them ourselves!\n",
    "\n",
    "In the previous lesson, we also introduced the idea of using a **toy problem** to reduce the size of a problem and break down the concepts. While 150 observations is not exactly \"big data,\" it's still too large to fit on our screen at once. So let's use another toy problem to practice the concepts in this lesson.\n",
    "\n",
    "#### A.) First, create a new DataFrame called <code style=\"color:steelblue\">toy_df</code>. It should contain the first 5 rows plus the last 5 rows from our original Iris dataset.\n",
    "* **Tip:** You already have a <code style=\"color:steelblue\">.head()</code>, but what about a <code style=\"color:steelblue\">.tail()</code>?\n",
    "* **Tip:** <code style=\"color:steelblue\">pd.concat()</code> is your [friend](http://pandas.pydata.org/pandas-docs/stable/generated/pandas.concat.html)."
   ]
  },
  {
   "cell_type": "code",
   "execution_count": null,
   "metadata": {},
   "outputs": [],
   "source": [
    "# Create toy_df\n"
   ]
  },
  {
   "cell_type": "markdown",
   "metadata": {},
   "source": [
    "#### B.) Next, display <code style=\"color:steelblue\">toy_df</code>.\n",
    "* After all, it will only be 10 rows.\n",
    "* In <code style=\"color:steelblue\">toy_df</code>, you should have data from 2 different species of flower. Which are they?"
   ]
  },
  {
   "cell_type": "code",
   "execution_count": null,
   "metadata": {},
   "outputs": [],
   "source": [
    "# Display toy_df\n"
   ]
  },
  {
   "cell_type": "markdown",
   "metadata": {},
   "source": [
    "<strong style=\"color:RoyalBlue\">Expected output:</strong>\n",
    "\n",
    "<table border=\"1\" class=\"dataframe\">\n",
    "  <thead>\n",
    "    <tr style=\"text-align: right\">\n",
    "      <th></th>\n",
    "      <th>sepal_length</th>\n",
    "      <th>sepal_width</th>\n",
    "      <th>petal_length</th>\n",
    "      <th>petal_width</th>\n",
    "      <th>species</th>\n",
    "    </tr>\n",
    "  </thead>\n",
    "  <tbody>\n",
    "    <tr>\n",
    "      <th>0</th>\n",
    "      <td>5.1</td>\n",
    "      <td>3.5</td>\n",
    "      <td>1.4</td>\n",
    "      <td>0.2</td>\n",
    "      <td>setosa</td>\n",
    "    </tr>\n",
    "    <tr>\n",
    "      <th>1</th>\n",
    "      <td>4.9</td>\n",
    "      <td>3.0</td>\n",
    "      <td>1.4</td>\n",
    "      <td>0.2</td>\n",
    "      <td>setosa</td>\n",
    "    </tr>\n",
    "    <tr>\n",
    "      <th>2</th>\n",
    "      <td>4.7</td>\n",
    "      <td>3.2</td>\n",
    "      <td>1.3</td>\n",
    "      <td>0.2</td>\n",
    "      <td>setosa</td>\n",
    "    </tr>\n",
    "    <tr>\n",
    "      <th>3</th>\n",
    "      <td>4.6</td>\n",
    "      <td>3.1</td>\n",
    "      <td>1.5</td>\n",
    "      <td>0.2</td>\n",
    "      <td>setosa</td>\n",
    "    </tr>\n",
    "    <tr>\n",
    "      <th>4</th>\n",
    "      <td>5.0</td>\n",
    "      <td>3.6</td>\n",
    "      <td>1.4</td>\n",
    "      <td>0.2</td>\n",
    "      <td>setosa</td>\n",
    "    </tr>\n",
    "    <tr>\n",
    "      <th>145</th>\n",
    "      <td>6.7</td>\n",
    "      <td>3.0</td>\n",
    "      <td>5.2</td>\n",
    "      <td>2.3</td>\n",
    "      <td>virginica</td>\n",
    "    </tr>\n",
    "    <tr>\n",
    "      <th>146</th>\n",
    "      <td>6.3</td>\n",
    "      <td>2.5</td>\n",
    "      <td>5.0</td>\n",
    "      <td>1.9</td>\n",
    "      <td>virginica</td>\n",
    "    </tr>\n",
    "    <tr>\n",
    "      <th>147</th>\n",
    "      <td>6.5</td>\n",
    "      <td>3.0</td>\n",
    "      <td>5.2</td>\n",
    "      <td>2.0</td>\n",
    "      <td>virginica</td>\n",
    "    </tr>\n",
    "    <tr>\n",
    "      <th>148</th>\n",
    "      <td>6.2</td>\n",
    "      <td>3.4</td>\n",
    "      <td>5.4</td>\n",
    "      <td>2.3</td>\n",
    "      <td>virginica</td>\n",
    "    </tr>\n",
    "    <tr>\n",
    "      <th>149</th>\n",
    "      <td>5.9</td>\n",
    "      <td>3.0</td>\n",
    "      <td>5.1</td>\n",
    "      <td>1.8</td>\n",
    "      <td>virginica</td>\n",
    "    </tr>\n",
    "  </tbody>\n",
    "</table>"
   ]
  },
  {
   "cell_type": "markdown",
   "metadata": {},
   "source": [
    "#### C.) Next, display a summary table for <code style=\"color:steelblue\">toy_df</code>.\n",
    "* It should have the mean, standard deviation, and quartiles for each of the columns.\n",
    "* Since <code style=\"color:steelblue\">toy_df</code> is only 10 rows, you can manually check the **mins** and **maxes**. Are they correct?"
   ]
  },
  {
   "cell_type": "code",
   "execution_count": null,
   "metadata": {},
   "outputs": [],
   "source": [
    "# Describe toy_df\n"
   ]
  },
  {
   "cell_type": "markdown",
   "metadata": {},
   "source": [
    "<strong style=\"color:RoyalBlue\">Expected output:</strong>\n",
    "<table border=\"1\" class=\"dataframe\">\n",
    "  <thead>\n",
    "    <tr style=\"text-align: right\">\n",
    "      <th></th>\n",
    "      <th>sepal_length</th>\n",
    "      <th>sepal_width</th>\n",
    "      <th>petal_length</th>\n",
    "      <th>petal_width</th>\n",
    "    </tr>\n",
    "  </thead>\n",
    "  <tbody>\n",
    "    <tr>\n",
    "      <th>count</th>\n",
    "      <td>10.000000</td>\n",
    "      <td>10.000000</td>\n",
    "      <td>10.000000</td>\n",
    "      <td>10.000000</td>\n",
    "    </tr>\n",
    "    <tr>\n",
    "      <th>mean</th>\n",
    "      <td>5.590000</td>\n",
    "      <td>3.130000</td>\n",
    "      <td>3.290000</td>\n",
    "      <td>1.130000</td>\n",
    "    </tr>\n",
    "    <tr>\n",
    "      <th>std</th>\n",
    "      <td>0.807534</td>\n",
    "      <td>0.316403</td>\n",
    "      <td>1.995244</td>\n",
    "      <td>0.992248</td>\n",
    "    </tr>\n",
    "    <tr>\n",
    "      <th>min</th>\n",
    "      <td>4.600000</td>\n",
    "      <td>2.500000</td>\n",
    "      <td>1.300000</td>\n",
    "      <td>0.200000</td>\n",
    "    </tr>\n",
    "    <tr>\n",
    "      <th>25%</th>\n",
    "      <td>4.925000</td>\n",
    "      <td>3.000000</td>\n",
    "      <td>1.400000</td>\n",
    "      <td>0.200000</td>\n",
    "    </tr>\n",
    "    <tr>\n",
    "      <th>50%</th>\n",
    "      <td>5.500000</td>\n",
    "      <td>3.050000</td>\n",
    "      <td>3.250000</td>\n",
    "      <td>1.000000</td>\n",
    "    </tr>\n",
    "    <tr>\n",
    "      <th>75%</th>\n",
    "      <td>6.275000</td>\n",
    "      <td>3.350000</td>\n",
    "      <td>5.175000</td>\n",
    "      <td>1.975000</td>\n",
    "    </tr>\n",
    "    <tr>\n",
    "      <th>max</th>\n",
    "      <td>6.700000</td>\n",
    "      <td>3.600000</td>\n",
    "      <td>5.400000</td>\n",
    "      <td>2.300000</td>\n",
    "    </tr>\n",
    "  </tbody>\n",
    "</table>"
   ]
  },
  {
   "cell_type": "markdown",
   "metadata": {},
   "source": [
    "## <span style=\"color:RoyalBlue\">Exercise 5.2 - Basic Feature Engineering</span>\n",
    "\n",
    "Elementwise operations are very useful in machine learning, especially for **feature engineering.** Feature engineering is the process of creating new features (model input variables) from existing ones, and its one of the best ways for data scientists to add value.\n",
    "\n",
    "In the Iris dataset, we have petal width and length, but what if we wanted to know petal area? Well, we can create a new <code style=\"color:steelblue\">petal_area</code> feature (yes, the petals are not perfect rectangles, but that's fine).\n",
    "\n",
    "#### A.) First, display the two columns of <code style=\"color:steelblue\">petal_width</code> and <code style=\"color:steelblue\">petal_length</code> in <code style=\"color:steelblue\">toy_df</code>.\n",
    "* **Tip:** You can index a DataFrame using a list of column names too, like so:\n",
    "\n",
    "\n",
    "<pre style=\"color:steelblue\">df[['column_1', 'column_2']]</pre>"
   ]
  },
  {
   "cell_type": "code",
   "execution_count": null,
   "metadata": {},
   "outputs": [],
   "source": [
    "# Display petal_width and petal_length\n"
   ]
  },
  {
   "cell_type": "markdown",
   "metadata": {},
   "source": [
    "<strong style=\"color:RoyalBlue\">Expected output:</strong>\n",
    "<table border=\"1\" class=\"dataframe\">\n",
    "  <thead>\n",
    "    <tr style=\"text-align: right\">\n",
    "      <th></th>\n",
    "      <th>petal_width</th>\n",
    "      <th>petal_length</th>\n",
    "    </tr>\n",
    "  </thead>\n",
    "  <tbody>\n",
    "    <tr>\n",
    "      <th>0</th>\n",
    "      <td>0.2</td>\n",
    "      <td>1.4</td>\n",
    "    </tr>\n",
    "    <tr>\n",
    "      <th>1</th>\n",
    "      <td>0.2</td>\n",
    "      <td>1.4</td>\n",
    "    </tr>\n",
    "    <tr>\n",
    "      <th>2</th>\n",
    "      <td>0.2</td>\n",
    "      <td>1.3</td>\n",
    "    </tr>\n",
    "    <tr>\n",
    "      <th>3</th>\n",
    "      <td>0.2</td>\n",
    "      <td>1.5</td>\n",
    "    </tr>\n",
    "    <tr>\n",
    "      <th>4</th>\n",
    "      <td>0.2</td>\n",
    "      <td>1.4</td>\n",
    "    </tr>\n",
    "    <tr>\n",
    "      <th>145</th>\n",
    "      <td>2.3</td>\n",
    "      <td>5.2</td>\n",
    "    </tr>\n",
    "    <tr>\n",
    "      <th>146</th>\n",
    "      <td>1.9</td>\n",
    "      <td>5.0</td>\n",
    "    </tr>\n",
    "    <tr>\n",
    "      <th>147</th>\n",
    "      <td>2.0</td>\n",
    "      <td>5.2</td>\n",
    "    </tr>\n",
    "    <tr>\n",
    "      <th>148</th>\n",
    "      <td>2.3</td>\n",
    "      <td>5.4</td>\n",
    "    </tr>\n",
    "    <tr>\n",
    "      <th>149</th>\n",
    "      <td>1.8</td>\n",
    "      <td>5.1</td>\n",
    "    </tr>\n",
    "  </tbody>\n",
    "</table>"
   ]
  },
  {
   "cell_type": "markdown",
   "metadata": {},
   "source": [
    "#### B.) Next, create a new <code style=\"color:steelblue\">petal_area</code> feature in <code style=\"color:steelblue\">toy_df</code>.\n",
    "* Multiply the <code style=\"color:steelblue\">petal_width</code> column by the <code style=\"color:steelblue\">petal_length</code> column.\n",
    "* Display <code style=\"color:steelblue\">toy_df</code> after creating the new feature.\n",
    "* Are the values for <code style=\"color:steelblue\">petal_area</code> correct? Manually spot check a few of them just to make sure."
   ]
  },
  {
   "cell_type": "code",
   "execution_count": null,
   "metadata": {},
   "outputs": [],
   "source": [
    "# Create a new petal_area column\n",
    "\n",
    "\n",
    "# Display toy_df\n",
    "\n"
   ]
  },
  {
   "cell_type": "markdown",
   "metadata": {},
   "source": [
    "<strong style=\"color:RoyalBlue\">Expected output:</strong>\n",
    "<table border=\"1\" class=\"dataframe\">\n",
    "  <thead>\n",
    "    <tr style=\"text-align: right\">\n",
    "      <th></th>\n",
    "      <th>sepal_length</th>\n",
    "      <th>sepal_width</th>\n",
    "      <th>petal_length</th>\n",
    "      <th>petal_width</th>\n",
    "      <th>species</th>\n",
    "      <th>petal_area</th>\n",
    "    </tr>\n",
    "  </thead>\n",
    "  <tbody>\n",
    "    <tr>\n",
    "      <th>0</th>\n",
    "      <td>5.1</td>\n",
    "      <td>3.5</td>\n",
    "      <td>1.4</td>\n",
    "      <td>0.2</td>\n",
    "      <td>setosa</td>\n",
    "      <td>0.28</td>\n",
    "    </tr>\n",
    "    <tr>\n",
    "      <th>1</th>\n",
    "      <td>4.9</td>\n",
    "      <td>3.0</td>\n",
    "      <td>1.4</td>\n",
    "      <td>0.2</td>\n",
    "      <td>setosa</td>\n",
    "      <td>0.28</td>\n",
    "    </tr>\n",
    "    <tr>\n",
    "      <th>2</th>\n",
    "      <td>4.7</td>\n",
    "      <td>3.2</td>\n",
    "      <td>1.3</td>\n",
    "      <td>0.2</td>\n",
    "      <td>setosa</td>\n",
    "      <td>0.26</td>\n",
    "    </tr>\n",
    "    <tr>\n",
    "      <th>3</th>\n",
    "      <td>4.6</td>\n",
    "      <td>3.1</td>\n",
    "      <td>1.5</td>\n",
    "      <td>0.2</td>\n",
    "      <td>setosa</td>\n",
    "      <td>0.30</td>\n",
    "    </tr>\n",
    "    <tr>\n",
    "      <th>4</th>\n",
    "      <td>5.0</td>\n",
    "      <td>3.6</td>\n",
    "      <td>1.4</td>\n",
    "      <td>0.2</td>\n",
    "      <td>setosa</td>\n",
    "      <td>0.28</td>\n",
    "    </tr>\n",
    "    <tr>\n",
    "      <th>145</th>\n",
    "      <td>6.7</td>\n",
    "      <td>3.0</td>\n",
    "      <td>5.2</td>\n",
    "      <td>2.3</td>\n",
    "      <td>virginica</td>\n",
    "      <td>11.96</td>\n",
    "    </tr>\n",
    "    <tr>\n",
    "      <th>146</th>\n",
    "      <td>6.3</td>\n",
    "      <td>2.5</td>\n",
    "      <td>5.0</td>\n",
    "      <td>1.9</td>\n",
    "      <td>virginica</td>\n",
    "      <td>9.50</td>\n",
    "    </tr>\n",
    "    <tr>\n",
    "      <th>147</th>\n",
    "      <td>6.5</td>\n",
    "      <td>3.0</td>\n",
    "      <td>5.2</td>\n",
    "      <td>2.0</td>\n",
    "      <td>virginica</td>\n",
    "      <td>10.40</td>\n",
    "    </tr>\n",
    "    <tr>\n",
    "      <th>148</th>\n",
    "      <td>6.2</td>\n",
    "      <td>3.4</td>\n",
    "      <td>5.4</td>\n",
    "      <td>2.3</td>\n",
    "      <td>virginica</td>\n",
    "      <td>12.42</td>\n",
    "    </tr>\n",
    "    <tr>\n",
    "      <th>149</th>\n",
    "      <td>5.9</td>\n",
    "      <td>3.0</td>\n",
    "      <td>5.1</td>\n",
    "      <td>1.8</td>\n",
    "      <td>virginica</td>\n",
    "      <td>9.18</td>\n",
    "    </tr>\n",
    "  </tbody>\n",
    "</table>"
   ]
  },
  {
   "cell_type": "markdown",
   "metadata": {},
   "source": [
    "### C.) Finally, what do we now know about Iris flowers?\n",
    "\n",
    "By creating a <code style=\"color:steelblue\">petal_area</code> feature, it's now much easier to see that virginica flowers have significantly larger petals than setosa flowers do! Often, by creating new features, you can learn more about the data (and improve your machine learning models). As you might guess, a machine learning algorithm and take these features and tease out the underlying patterns in a much more precise and comprehensive way."
   ]
  },
  {
   "cell_type": "markdown",
   "metadata": {},
   "source": [
    "## <span style=\"color:RoyalBlue\">Exercise 5.3 - Mask On Mask Off</span>\n",
    "\n",
    "Now, let's use the <code style=\"color:steelblue\">toy_df</code> to really drive home the concept of **boolean masks**, because we'll be using these very frequently in data science.\n",
    "\n",
    "For example, assume we wanted to display observations where <code style=\"color:steelblue\">petal_area > 10</code> and <code style=\"color:steelblue\">sepal_width > 3</code>. How could we do so?\n",
    "\n",
    "#### A.) First, display <code style=\"color:steelblue\">toy_df</code> again just to have it in front of you."
   ]
  },
  {
   "cell_type": "code",
   "execution_count": null,
   "metadata": {},
   "outputs": [],
   "source": [
    "# Display toy_df\n"
   ]
  },
  {
   "cell_type": "markdown",
   "metadata": {},
   "source": [
    "#### B.) Take a look at the DataFrame and manually count the number that satisfy our conditions.\n",
    "* How many observations have <code style=\"color:steelblue\">petal_area > 10</code>?\n",
    "* How many observations have <code style=\"color:steelblue\">sepal_width > 3</code>?\n",
    "* How many satisfy both conditions?"
   ]
  },
  {
   "cell_type": "markdown",
   "metadata": {},
   "source": [
    "*In the toy_df, there are:*\n",
    "* **3** observations with <code style=\"color:steelblue\">petal_area > 10</code> (indices 145, 147, 148)\n",
    "* **5** observations with <code style=\"color:steelblue\">sepal_width > 3</code> (indices 0,2,3,4,148)\n",
    "* **1** observation that satifies both conditions (index 148)"
   ]
  },
  {
   "cell_type": "markdown",
   "metadata": {},
   "source": [
    "Great. Now we'll see what's going on under the hood when we use our boolean masks.\n",
    "\n",
    "#### C.) Create a boolean mask for <code style=\"color:steelblue\">petal_area > 10</code>.\n",
    "* Name it <code style=\"color:steelblue\">petal_area_mask</code>.\n",
    "* Display the mask after you create it.\n",
    "* Does the result make sense?"
   ]
  },
  {
   "cell_type": "code",
   "execution_count": null,
   "metadata": {},
   "outputs": [],
   "source": [
    "# Mask for petal_area > 10\n",
    "\n",
    "\n",
    "# Display petal_area_mask\n"
   ]
  },
  {
   "cell_type": "markdown",
   "metadata": {},
   "source": [
    "<strong style=\"color:RoyalBlue\">Expected output:</strong>\n",
    "<pre>\n",
    "0      False\n",
    "1      False\n",
    "2      False\n",
    "3      False\n",
    "4      False\n",
    "145     True\n",
    "146    False\n",
    "147     True\n",
    "148     True\n",
    "149    False\n",
    "Name: petal_area, dtype: bool\n",
    "</pre>"
   ]
  },
  {
   "cell_type": "markdown",
   "metadata": {},
   "source": [
    "#### D.) Next, create a boolean mask for <code style=\"color:steelblue\">sepal_width > 3</code>.\n",
    "* Name it <code style=\"color:steelblue\">sepal_width_mask</code>.\n",
    "* Display the mask after you create it.\n",
    "* Does the result make sense?"
   ]
  },
  {
   "cell_type": "code",
   "execution_count": null,
   "metadata": {},
   "outputs": [],
   "source": [
    "# Mask for sepal_width > 3\n",
    "\n",
    "\n",
    "# Display sepal_width_mask\n"
   ]
  },
  {
   "cell_type": "markdown",
   "metadata": {},
   "source": [
    "<strong style=\"color:RoyalBlue\">Expected output:</strong>\n",
    "<pre>\n",
    "0       True\n",
    "1      False\n",
    "2       True\n",
    "3       True\n",
    "4       True\n",
    "145    False\n",
    "146    False\n",
    "147    False\n",
    "148     True\n",
    "149    False\n",
    "Name: sepal_width, dtype: bool\n",
    "</pre>"
   ]
  },
  {
   "cell_type": "markdown",
   "metadata": {},
   "source": [
    "#### E.) Next, display the two masks combined using the <code style=\"color:steelblue\">&</code> operator.\n",
    "* Note how their combination results in another boolean mask!"
   ]
  },
  {
   "cell_type": "code",
   "execution_count": null,
   "metadata": {},
   "outputs": [],
   "source": [
    "# Display both masks, combined\n"
   ]
  },
  {
   "cell_type": "markdown",
   "metadata": {},
   "source": [
    "<strong style=\"color:RoyalBlue\">Expected output:</strong>\n",
    "<pre>\n",
    "0      False\n",
    "1      False\n",
    "2      False\n",
    "3      False\n",
    "4      False\n",
    "145    False\n",
    "146    False\n",
    "147    False\n",
    "148     True\n",
    "149    False\n",
    "dtype: bool\n",
    "</pre>"
   ]
  },
  {
   "cell_type": "markdown",
   "metadata": {},
   "source": [
    "#### F.) Finally, select the observation(s) from <code style=\"color:steelblue\">toy_df</code> where both conditions are met.\n",
    "* Do you get the result you expected based on (B)?"
   ]
  },
  {
   "cell_type": "code",
   "execution_count": null,
   "metadata": {},
   "outputs": [],
   "source": [
    "# Index with both masks\n"
   ]
  },
  {
   "cell_type": "markdown",
   "metadata": {},
   "source": [
    "## <span style=\"color:RoyalBlue\">Exercise 5.4 - Iris Insights</span>\n",
    "\n",
    "With the help of **groupbys**, we're almost ready to return to Casey and share what we've learned about Iris flowers. But before we do, let's just bring back our <code style=\"color:steelblue\">toy_df</code> for one last hoorah, just to make sure we know what's going on under the hood.\n",
    "\n",
    "Let's calculate the median <code style=\"color:steelblue\">petal_area</code> for each species. Since <code style=\"color:steelblue\">toy_df</code> is small, we can do this manually as well and check to make sure the values are correct.\n",
    "\n",
    "\n",
    "#### A.) First, let's manually calculate the median <code style=\"color:steelblue\">petal_area</code> for the virginica flowers in our <code style=\"steelblue\">toy_df</code>.\n",
    "* Display all observations of the virginica species.\n",
    "* Sort them by <code style=\"color:steelblue\">petal_area</code> in ascending order.\n",
    "* **Tip:** Check out the <code style=\"color:steelblue\">.sort_values()</code> function ([documentation](http://pandas.pydata.org/pandas-docs/stable/generated/pandas.DataFrame.sort_values.html))."
   ]
  },
  {
   "cell_type": "code",
   "execution_count": null,
   "metadata": {},
   "outputs": [],
   "source": [
    "# Display all 'virginica' species, sorted by petal_area\n"
   ]
  },
  {
   "cell_type": "markdown",
   "metadata": {},
   "source": [
    "<strong style=\"color:RoyalBlue\">Expected output:</strong>\n",
    "<table border=\"1\" class=\"dataframe\">\n",
    "  <thead>\n",
    "    <tr style=\"text-align: right\">\n",
    "      <th></th>\n",
    "      <th>sepal_length</th>\n",
    "      <th>sepal_width</th>\n",
    "      <th>petal_length</th>\n",
    "      <th>petal_width</th>\n",
    "      <th>species</th>\n",
    "      <th>petal_area</th>\n",
    "    </tr>\n",
    "  </thead>\n",
    "  <tbody>\n",
    "    <tr>\n",
    "      <th>149</th>\n",
    "      <td>5.9</td>\n",
    "      <td>3.0</td>\n",
    "      <td>5.1</td>\n",
    "      <td>1.8</td>\n",
    "      <td>virginica</td>\n",
    "      <td>9.18</td>\n",
    "    </tr>\n",
    "    <tr>\n",
    "      <th>146</th>\n",
    "      <td>6.3</td>\n",
    "      <td>2.5</td>\n",
    "      <td>5.0</td>\n",
    "      <td>1.9</td>\n",
    "      <td>virginica</td>\n",
    "      <td>9.50</td>\n",
    "    </tr>\n",
    "    <tr>\n",
    "      <th>147</th>\n",
    "      <td>6.5</td>\n",
    "      <td>3.0</td>\n",
    "      <td>5.2</td>\n",
    "      <td>2.0</td>\n",
    "      <td>virginica</td>\n",
    "      <td>10.40</td>\n",
    "    </tr>\n",
    "    <tr>\n",
    "      <th>145</th>\n",
    "      <td>6.7</td>\n",
    "      <td>3.0</td>\n",
    "      <td>5.2</td>\n",
    "      <td>2.3</td>\n",
    "      <td>virginica</td>\n",
    "      <td>11.96</td>\n",
    "    </tr>\n",
    "    <tr>\n",
    "      <th>148</th>\n",
    "      <td>6.2</td>\n",
    "      <td>3.4</td>\n",
    "      <td>5.4</td>\n",
    "      <td>2.3</td>\n",
    "      <td>virginica</td>\n",
    "      <td>12.42</td>\n",
    "    </tr>\n",
    "  </tbody>\n",
    "</table>"
   ]
  },
  {
   "cell_type": "markdown",
   "metadata": {},
   "source": [
    "Based on the output above, what's median <code style=\"color:steelblue\">petal_area</code> for the virginica species?\n",
    "\n",
    "#### B.) Next, let's manually calculate the median <code style=\"color:steelblue\">petal_area</code> for the setosa flowers in our <code style=\"steelblue\">toy_df</code>.\n",
    "* Display all observations of the setosa species.\n",
    "* Sort them by <code style=\"color:steelblue\">petal_area</code> in ascending order.\n",
    "* Based on the output, what's median <code style=\"color:steelblue\">petal_area</code> for the setosa species?"
   ]
  },
  {
   "cell_type": "code",
   "execution_count": null,
   "metadata": {},
   "outputs": [],
   "source": [
    "# Display all 'setosa' species\n"
   ]
  },
  {
   "cell_type": "markdown",
   "metadata": {},
   "source": [
    "<strong style=\"color:RoyalBlue\">Expected output:</strong>\n",
    "<table border=\"1\" class=\"dataframe\">\n",
    "  <thead>\n",
    "    <tr style=\"text-align: right\">\n",
    "      <th></th>\n",
    "      <th>sepal_length</th>\n",
    "      <th>sepal_width</th>\n",
    "      <th>petal_length</th>\n",
    "      <th>petal_width</th>\n",
    "      <th>species</th>\n",
    "      <th>petal_area</th>\n",
    "    </tr>\n",
    "  </thead>\n",
    "  <tbody>\n",
    "    <tr>\n",
    "      <th>2</th>\n",
    "      <td>4.7</td>\n",
    "      <td>3.2</td>\n",
    "      <td>1.3</td>\n",
    "      <td>0.2</td>\n",
    "      <td>setosa</td>\n",
    "      <td>0.26</td>\n",
    "    </tr>\n",
    "    <tr>\n",
    "      <th>0</th>\n",
    "      <td>5.1</td>\n",
    "      <td>3.5</td>\n",
    "      <td>1.4</td>\n",
    "      <td>0.2</td>\n",
    "      <td>setosa</td>\n",
    "      <td>0.28</td>\n",
    "    </tr>\n",
    "    <tr>\n",
    "      <th>1</th>\n",
    "      <td>4.9</td>\n",
    "      <td>3.0</td>\n",
    "      <td>1.4</td>\n",
    "      <td>0.2</td>\n",
    "      <td>setosa</td>\n",
    "      <td>0.28</td>\n",
    "    </tr>\n",
    "    <tr>\n",
    "      <th>4</th>\n",
    "      <td>5.0</td>\n",
    "      <td>3.6</td>\n",
    "      <td>1.4</td>\n",
    "      <td>0.2</td>\n",
    "      <td>setosa</td>\n",
    "      <td>0.28</td>\n",
    "    </tr>\n",
    "    <tr>\n",
    "      <th>3</th>\n",
    "      <td>4.6</td>\n",
    "      <td>3.1</td>\n",
    "      <td>1.5</td>\n",
    "      <td>0.2</td>\n",
    "      <td>setosa</td>\n",
    "      <td>0.30</td>\n",
    "    </tr>\n",
    "  </tbody>\n",
    "</table>"
   ]
  },
  {
   "cell_type": "markdown",
   "metadata": {},
   "source": [
    "#### C.) Finally let's calculate the median values using a <code style=\"color:steelblue\">.groupby()</code>.\n",
    "* Do you get the same result?"
   ]
  },
  {
   "cell_type": "code",
   "execution_count": null,
   "metadata": {},
   "outputs": [],
   "source": [
    "# Median petal_area in toy_df\n"
   ]
  },
  {
   "cell_type": "markdown",
   "metadata": {},
   "source": [
    "<strong style=\"color:RoyalBlue\">Expected output:</strong>\n",
    "<pre>\n",
    "species\n",
    "setosa        0.28\n",
    "virginica    10.40\n",
    "Name: petal_area, dtype: float64\n",
    "</pre>"
   ]
  },
  {
   "cell_type": "markdown",
   "metadata": {},
   "source": [
    "#### Congratulations... You've completed the training mission!\n",
    "\n",
    "In this lesson, you explored the Iris dataset using Pandas. After arming yourself with Pandas, you've successfully completed the rest of the training mission!*"
   ]
  }
 ],
 "metadata": {
  "anaconda-cloud": {},
  "kernelspec": {
   "display_name": "Python 3",
   "language": "python",
   "name": "python3"
  },
  "language_info": {
   "codemirror_mode": {
    "name": "ipython",
    "version": 3
   },
   "file_extension": ".py",
   "mimetype": "text/x-python",
   "name": "python",
   "nbconvert_exporter": "python",
   "pygments_lexer": "ipython3",
   "version": "3.7.0"
  }
 },
 "nbformat": 4,
 "nbformat_minor": 1
}
