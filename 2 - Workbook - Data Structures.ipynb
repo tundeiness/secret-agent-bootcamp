{
 "cells": [
  {
   "cell_type": "markdown",
   "metadata": {},
   "source": [
    "#### COMPANION WORKBOOK\n",
    "\n",
    "# Data Structures\n",
    "\n",
    "To make the most out of this program, we strongly recommend you to:\n",
    "1. First practice writing and implementing all of the code from Coding Section of the online module.\n",
    "2. Then, freely experiment with and explore any interesting or confusing concepts. Simply insert new code cells and then use the help of Google and official documentation.\n",
    "3. Finally, tackle all of the exercises at the end. They will help you tie everything together and **learn in context.**\n",
    "\n",
    "#### <span style=\"color:#555\">MODULE CODE SANDBOX</span>\n",
    "\n",
    "Use this space to practice writing and implementing all of the code from Coding Section of the online module. Insert new code cells as needed, and feel free to write notes to yourself in Markdown."
   ]
  },
  {
   "cell_type": "markdown",
   "metadata": {},
   "source": [
    "## I. Lists are mutable sequences of objects."
   ]
  },
  {
   "cell_type": "code",
   "execution_count": 2,
   "metadata": {},
   "outputs": [
    {
     "name": "stdout",
     "output_type": "stream",
     "text": [
      "[0, 1, 2, 4, 3, 6, 7, 5]\n",
      "<class 'list'>\n"
     ]
    }
   ],
   "source": [
    "integer_list = [0,1,2,4,3,6,7,5]\n",
    "print(integer_list)\n",
    "print(type(integer_list))"
   ]
  },
  {
   "cell_type": "code",
   "execution_count": 4,
   "metadata": {},
   "outputs": [
    {
     "name": "stdout",
     "output_type": "stream",
     "text": [
      "[1, 'hello', 9, True, 'world', 'black']\n"
     ]
    }
   ],
   "source": [
    "mixed_list = [1, 'hello', 9, True, 'world', 'black']\n",
    "print(mixed_list)"
   ]
  },
  {
   "cell_type": "code",
   "execution_count": 11,
   "metadata": {},
   "outputs": [
    {
     "name": "stdout",
     "output_type": "stream",
     "text": [
      "1\n",
      "9\n",
      "[1, 'hello', 9, True]\n",
      "['hello', 9, True]\n",
      "[True, 'world']\n",
      "['hello', 9, True, 'world', 'black']\n"
     ]
    }
   ],
   "source": [
    "print(mixed_list[0])\n",
    "print(mixed_list[2])\n",
    "print(mixed_list[:4])\n",
    "print(mixed_list[1:4])\n",
    "print(mixed_list[3:5])\n",
    "print(mixed_list[1:])"
   ]
  },
  {
   "cell_type": "code",
   "execution_count": 13,
   "metadata": {},
   "outputs": [
    {
     "name": "stdout",
     "output_type": "stream",
     "text": [
      "[1, 'hello', 9, True, 'world']\n",
      "['hello', 9, True, 'world']\n"
     ]
    }
   ],
   "source": [
    "print(mixed_list[:-1])\n",
    "print(mixed_list[1: -1])"
   ]
  },
  {
   "cell_type": "code",
   "execution_count": 15,
   "metadata": {},
   "outputs": [
    {
     "name": "stdout",
     "output_type": "stream",
     "text": [
      "['AFREF', 'hello', 9, True, 'world', 'black']\n"
     ]
    }
   ],
   "source": [
    "mixed_list[0] = \"AFREF\"\n",
    "print(mixed_list)"
   ]
  },
  {
   "cell_type": "code",
   "execution_count": 16,
   "metadata": {},
   "outputs": [
    {
     "name": "stdout",
     "output_type": "stream",
     "text": [
      "['AFREF', 'hello', 9, True, 'world', 'black', 'Columbia']\n",
      "['AFREF', 'hello', 9, True, 'black', 'Columbia']\n"
     ]
    }
   ],
   "source": [
    "mixed_list.append('Columbia')\n",
    "print(mixed_list)\n",
    "mixed_list.remove('world')\n",
    "print(mixed_list)"
   ]
  },
  {
   "cell_type": "code",
   "execution_count": 1,
   "metadata": {},
   "outputs": [
    {
     "name": "stdout",
     "output_type": "stream",
     "text": [
      "3\n"
     ]
    }
   ],
   "source": [
    "a=[1,2,3]\n",
    "b=[7,2,9,2]\n",
    "\n",
    "a + b\n",
    "\n",
    "# unpack list\n",
    "a,b,c = a\n",
    "\n",
    "print(c)"
   ]
  },
  {
   "cell_type": "code",
   "execution_count": 18,
   "metadata": {},
   "outputs": [
    {
     "name": "stdout",
     "output_type": "stream",
     "text": [
      "[1, 2, 3, 1, 2, 3, 1, 2, 3]\n"
     ]
    }
   ],
   "source": [
    "print(a * 3)"
   ]
  },
  {
   "cell_type": "code",
   "execution_count": 19,
   "metadata": {},
   "outputs": [
    {
     "name": "stdout",
     "output_type": "stream",
     "text": [
      "True\n"
     ]
    }
   ],
   "source": [
    "print(9 in b)"
   ]
  },
  {
   "cell_type": "code",
   "execution_count": 22,
   "metadata": {},
   "outputs": [
    {
     "name": "stdout",
     "output_type": "stream",
     "text": [
      "4\n",
      "9\n",
      "1\n"
     ]
    }
   ],
   "source": [
    "print(len(b))\n",
    "print(max(b))\n",
    "print(min(a))"
   ]
  },
  {
   "cell_type": "markdown",
   "metadata": {},
   "source": [
    "## II. Tuples are immutable sequences of objects."
   ]
  },
  {
   "cell_type": "code",
   "execution_count": 23,
   "metadata": {},
   "outputs": [
    {
     "name": "stdout",
     "output_type": "stream",
     "text": [
      "(1, 2, 3, 4, 5, 6, 7, 9)\n",
      "<class 'tuple'>\n"
     ]
    }
   ],
   "source": [
    "int_tuple = (1,2,3,4,5,6,7,9)\n",
    "print(int_tuple)\n",
    "print(type(int_tuple))"
   ]
  },
  {
   "cell_type": "code",
   "execution_count": 25,
   "metadata": {},
   "outputs": [
    {
     "name": "stdout",
     "output_type": "stream",
     "text": [
      "7\n",
      "5\n",
      "('Job', 5, 'Nick', 9, 'green', 'indigo')\n",
      "(5, 'Nick')\n",
      "(True, 'Job', 5)\n",
      "('Job', 5, 'Nick', 9)\n"
     ]
    }
   ],
   "source": [
    "mixed_tuples = (True, 'Job', 5, 'Nick', 9, 'green', 'indigo')\n",
    "print(len(mixed_tuples))\n",
    "\n",
    "print(mixed_tuples[2])\n",
    "print(mixed_tuples[1:])\n",
    "print(mixed_tuples[2:4])\n",
    "print(mixed_tuples[:3])\n",
    "print(mixed_tuples[1: -2])"
   ]
  },
  {
   "cell_type": "code",
   "execution_count": 26,
   "metadata": {},
   "outputs": [
    {
     "ename": "TypeError",
     "evalue": "'tuple' object does not support item assignment",
     "output_type": "error",
     "traceback": [
      "\u001b[0;31m---------------------------------------------------------------------------\u001b[0m",
      "\u001b[0;31mTypeError\u001b[0m                                 Traceback (most recent call last)",
      "\u001b[0;32m/var/folders/4h/_83sbzt9083fbl90zplwz89m0000gn/T/ipykernel_7538/3197489675.py\u001b[0m in \u001b[0;36m<module>\u001b[0;34m\u001b[0m\n\u001b[0;32m----> 1\u001b[0;31m \u001b[0mmixed_tuples\u001b[0m\u001b[0;34m[\u001b[0m\u001b[0;36m0\u001b[0m\u001b[0;34m]\u001b[0m \u001b[0;34m=\u001b[0m \u001b[0;34m'Cluster'\u001b[0m\u001b[0;34m\u001b[0m\u001b[0;34m\u001b[0m\u001b[0m\n\u001b[0m",
      "\u001b[0;31mTypeError\u001b[0m: 'tuple' object does not support item assignment"
     ]
    }
   ],
   "source": [
    "mixed_tuples[0] = 'Cluster'"
   ]
  },
  {
   "cell_type": "code",
   "execution_count": 29,
   "metadata": {},
   "outputs": [
    {
     "name": "stdout",
     "output_type": "stream",
     "text": [
      "green\n"
     ]
    }
   ],
   "source": [
    "#unpack tuples\n",
    "a,b,c,d,e,f,g = mixed_tuples\n",
    "print(f)"
   ]
  },
  {
   "cell_type": "code",
   "execution_count": 32,
   "metadata": {},
   "outputs": [
    {
     "name": "stdout",
     "output_type": "stream",
     "text": [
      "(1, 2, 3, 4, 4, 7, 9, '😔')\n",
      "(1, 2, 3, 4, 1, 2, 3, 4)\n",
      "True\n",
      "4\n",
      "1\n"
     ]
    }
   ],
   "source": [
    "a = (1,2,3,4)\n",
    "b = (4,7,9,'😔')\n",
    "\n",
    "print(a + b)\n",
    "print(a * 2)\n",
    "print(9 in b)\n",
    "print(max(a))\n",
    "print(min(a))"
   ]
  },
  {
   "cell_type": "code",
   "execution_count": null,
   "metadata": {},
   "outputs": [],
   "source": []
  },
  {
   "cell_type": "markdown",
   "metadata": {},
   "source": [
    "## III. Sets are collections of unique objects."
   ]
  },
  {
   "cell_type": "code",
   "execution_count": 4,
   "metadata": {},
   "outputs": [
    {
     "name": "stdout",
     "output_type": "stream",
     "text": [
      "{0, 1, 2, 3, 4}\n",
      "<class 'set'>\n",
      "5\n"
     ]
    }
   ],
   "source": [
    "my_set = {0,1,2,3,4}\n",
    "\n",
    "print(my_set)\n",
    "print(type(my_set))\n",
    "\n",
    "print(len(my_set))"
   ]
  },
  {
   "cell_type": "code",
   "execution_count": 7,
   "metadata": {},
   "outputs": [
    {
     "name": "stdout",
     "output_type": "stream",
     "text": [
      "{1, 2, 3, 4, 5, 6}\n"
     ]
    },
    {
     "ename": "TypeError",
     "evalue": "'set' object is not subscriptable",
     "output_type": "error",
     "traceback": [
      "\u001b[0;31m---------------------------------------------------------------------------\u001b[0m",
      "\u001b[0;31mTypeError\u001b[0m                                 Traceback (most recent call last)",
      "\u001b[0;32m/var/folders/4h/_83sbzt9083fbl90zplwz89m0000gn/T/ipykernel_1373/706358835.py\u001b[0m in \u001b[0;36m<module>\u001b[0;34m\u001b[0m\n\u001b[1;32m      3\u001b[0m \u001b[0;34m\u001b[0m\u001b[0m\n\u001b[1;32m      4\u001b[0m \u001b[0;34m\u001b[0m\u001b[0m\n\u001b[0;32m----> 5\u001b[0;31m \u001b[0mprint\u001b[0m\u001b[0;34m(\u001b[0m\u001b[0mfibo_set\u001b[0m\u001b[0;34m[\u001b[0m\u001b[0;36m3\u001b[0m\u001b[0;34m]\u001b[0m\u001b[0;34m)\u001b[0m\u001b[0;34m\u001b[0m\u001b[0;34m\u001b[0m\u001b[0m\n\u001b[0m",
      "\u001b[0;31mTypeError\u001b[0m: 'set' object is not subscriptable"
     ]
    }
   ],
   "source": [
    "fibo_set = {1,1,2,2,3,4,5,5,6}\n",
    "print(fibo_set)\n",
    "\n",
    "\n",
    "print(fibo_set[3])"
   ]
  },
  {
   "cell_type": "code",
   "execution_count": 8,
   "metadata": {},
   "outputs": [
    {
     "name": "stdout",
     "output_type": "stream",
     "text": [
      "{1, 2, 3, 4, 5, 7, 8}\n"
     ]
    }
   ],
   "source": [
    "#convert list to set\n",
    "fibo_list = [1,1,1,1,2,3,4,3,7,8,5]\n",
    "\n",
    "new_set = set(fibo_list)\n",
    "\n",
    "print(new_set)"
   ]
  },
  {
   "cell_type": "code",
   "execution_count": 9,
   "metadata": {},
   "outputs": [
    {
     "name": "stdout",
     "output_type": "stream",
     "text": [
      "{2, 3, 4, 5, 7, 8, 9}\n",
      "{2, 3, 4, 5, 7, 8, 9}\n"
     ]
    }
   ],
   "source": [
    "set_one = {2,4,5,3,7,9}\n",
    "set_two = {2,4,5,8,9,7}\n",
    "\n",
    "\n",
    "set_union = set_one.union(set_two)\n",
    "\n",
    "print(set_union)\n",
    "\n",
    "set_union_two = set_one | set_two\n",
    "\n",
    "print(set_union_two)\n",
    "\n"
   ]
  },
  {
   "cell_type": "code",
   "execution_count": 10,
   "metadata": {},
   "outputs": [
    {
     "name": "stdout",
     "output_type": "stream",
     "text": [
      "{2, 4, 5, 7, 9}\n",
      "{2, 4, 5, 7, 9}\n"
     ]
    }
   ],
   "source": [
    "set_intersect = set_one.intersection(set_two)\n",
    "\n",
    "print(set_intersect)\n",
    "\n",
    "set_inter = set_one & set_two\n",
    "\n",
    "print(set_inter)"
   ]
  },
  {
   "cell_type": "code",
   "execution_count": 12,
   "metadata": {},
   "outputs": [
    {
     "name": "stdout",
     "output_type": "stream",
     "text": [
      "{3}\n",
      "{8}\n"
     ]
    }
   ],
   "source": [
    "set_diff = set_one - set_two\n",
    "\n",
    "print(set_diff)\n",
    "\n",
    "set_diff_two = set_two - set_one\n",
    "\n",
    "print(set_diff_two)"
   ]
  },
  {
   "cell_type": "markdown",
   "metadata": {},
   "source": [
    "## IV. Dictionaries are collections of key-value pairs."
   ]
  },
  {
   "cell_type": "code",
   "execution_count": 14,
   "metadata": {},
   "outputs": [
    {
     "name": "stdout",
     "output_type": "stream",
     "text": [
      "{40: 'hello world', 'zero': 'nullon', 'one': 'sandy', 'two': 'johnny', 'three': 'shrek'}\n",
      "<class 'dict'>\n"
     ]
    }
   ],
   "source": [
    "my_dict = {\n",
    "    40 : 'hello world',\n",
    "    'zero' : 'nullon',\n",
    "    'one' : 'sandy',\n",
    "    'two' : 'johnny',\n",
    "    'three' : 'shrek'\n",
    "}\n",
    "\n",
    "print(my_dict)\n",
    "\n",
    "print(type(my_dict))"
   ]
  },
  {
   "cell_type": "code",
   "execution_count": 16,
   "metadata": {},
   "outputs": [
    {
     "name": "stdout",
     "output_type": "stream",
     "text": [
      "hello world\n",
      "johnny\n"
     ]
    }
   ],
   "source": [
    "#access dict via key\n",
    "\n",
    "print(my_dict[40])\n",
    "\n",
    "print(my_dict['two'])"
   ]
  },
  {
   "cell_type": "code",
   "execution_count": 17,
   "metadata": {},
   "outputs": [
    {
     "name": "stdout",
     "output_type": "stream",
     "text": [
      "{40: 'hello world', 'zero': 'Dillon', 'one': 'sandy', 'two': 'johnny', 'three': 'shrek'}\n"
     ]
    }
   ],
   "source": [
    "#update key-value pair\n",
    "\n",
    "my_dict['zero'] = 'Dillon'\n",
    "\n",
    "print(my_dict)"
   ]
  },
  {
   "cell_type": "code",
   "execution_count": 18,
   "metadata": {},
   "outputs": [
    {
     "ename": "AttributeError",
     "evalue": "'str' object has no attribute 'append'",
     "output_type": "error",
     "traceback": [
      "\u001b[0;31m---------------------------------------------------------------------------\u001b[0m",
      "\u001b[0;31mAttributeError\u001b[0m                            Traceback (most recent call last)",
      "\u001b[0;32m/var/folders/4h/_83sbzt9083fbl90zplwz89m0000gn/T/ipykernel_1373/1890291282.py\u001b[0m in \u001b[0;36m<module>\u001b[0;34m\u001b[0m\n\u001b[1;32m      1\u001b[0m \u001b[0;31m#update value of a key\u001b[0m\u001b[0;34m\u001b[0m\u001b[0;34m\u001b[0m\u001b[0m\n\u001b[1;32m      2\u001b[0m \u001b[0;34m\u001b[0m\u001b[0m\n\u001b[0;32m----> 3\u001b[0;31m \u001b[0mmy_dict\u001b[0m\u001b[0;34m[\u001b[0m\u001b[0;34m'two'\u001b[0m\u001b[0;34m]\u001b[0m\u001b[0;34m.\u001b[0m\u001b[0mappend\u001b[0m\u001b[0;34m(\u001b[0m\u001b[0;34m'shrek forever'\u001b[0m\u001b[0;34m)\u001b[0m\u001b[0;34m\u001b[0m\u001b[0;34m\u001b[0m\u001b[0m\n\u001b[0m\u001b[1;32m      4\u001b[0m \u001b[0mprint\u001b[0m\u001b[0;34m(\u001b[0m\u001b[0mmy_dict\u001b[0m\u001b[0;34m)\u001b[0m\u001b[0;34m\u001b[0m\u001b[0;34m\u001b[0m\u001b[0m\n",
      "\u001b[0;31mAttributeError\u001b[0m: 'str' object has no attribute 'append'"
     ]
    }
   ],
   "source": [
    "#update value of a key\n",
    "\n",
    "my_dict['two'].append('shrek forever')\n",
    "print(my_dict)"
   ]
  },
  {
   "cell_type": "code",
   "execution_count": 19,
   "metadata": {},
   "outputs": [
    {
     "name": "stdout",
     "output_type": "stream",
     "text": [
      "{40: 'hello world', 'zero': 'Dillon', 'one': 'sandy', 'two': 'johnny', 'three': ['warrior', 'blues', 67, 'jiving']}\n"
     ]
    }
   ],
   "source": [
    "my_dict['three'] = ['warrior', 'blues', 67, 'jiving']\n",
    "\n",
    "print(my_dict)"
   ]
  },
  {
   "cell_type": "code",
   "execution_count": 20,
   "metadata": {},
   "outputs": [
    {
     "name": "stdout",
     "output_type": "stream",
     "text": [
      "{40: 'hello world', 'zero': 'Dillon', 'one': 'sandy', 'two': 'johnny', 'three': ['warrior', 'blues', 67, 'jiving', 'shrek forever']}\n"
     ]
    }
   ],
   "source": [
    "my_dict['three'].append('shrek forever')\n",
    "\n",
    "print(my_dict)"
   ]
  },
  {
   "cell_type": "code",
   "execution_count": 21,
   "metadata": {},
   "outputs": [
    {
     "name": "stdout",
     "output_type": "stream",
     "text": [
      "{40: 'hello world', 'zero': 'Dillon', 'one': 'sandy', 'two': 'johnny', 'three': ['warrior', 'blues', 67, 'jiving', 'shrek forever'], 'blast': 50}\n"
     ]
    }
   ],
   "source": [
    "#create new key value pair\n",
    "\n",
    "my_dict['blast'] = 50\n",
    "\n",
    "print(my_dict)"
   ]
  },
  {
   "cell_type": "code",
   "execution_count": 30,
   "metadata": {},
   "outputs": [
    {
     "name": "stdout",
     "output_type": "stream",
     "text": [
      "dict_keys([40, 'zero', 'one', 'two', 'three', 'blast'])\n",
      "dict_values(['hello world', 'Dillon', 'sandy', 'johnny', ['warrior', 'blues', 67, 'jiving', 'shrek forever'], 50])\n",
      "<class 'dict_values'>\n"
     ]
    }
   ],
   "source": [
    "# print all keys\n",
    "\n",
    "print(my_dict.keys())\n",
    "\n",
    "print(my_dict.values())\n",
    "\n",
    "print(type(my_dict.values()))"
   ]
  },
  {
   "cell_type": "code",
   "execution_count": 33,
   "metadata": {},
   "outputs": [
    {
     "name": "stdout",
     "output_type": "stream",
     "text": [
      "dict_items([(40, 'hello world'), ('zero', 'Dillon'), ('one', 'sandy'), ('two', 'johnny'), ('three', ['warrior', 'blues', 67, 'jiving', 'shrek forever']), ('blast', 50)])\n"
     ]
    }
   ],
   "source": [
    "print(my_dict.items())"
   ]
  },
  {
   "cell_type": "code",
   "execution_count": null,
   "metadata": {},
   "outputs": [],
   "source": []
  },
  {
   "cell_type": "markdown",
   "metadata": {},
   "source": [
    "#### <span style=\"color:#555\">EXERCISES</span>\n",
    "\n",
    "Complete each of the following exercises.\n",
    "\n",
    "## <span style=\"color:RoyalBlue\">Exercise 2.1 - Listing the Locations</span>\n",
    "\n",
    "#### In the previous module...\n",
    "\n",
    "In the previous module, you learned about the training mission: a visit to London. You also made sure you had enough water for the trip by performing calculations. Now, it's time to start planning the locations in London to visit! Before we start, let's import lists of locations by borough. \n",
    "* These are stored in text files that HQ has provided for you. \n",
    "* Python has a variety of **input/output** methods. We won't cover them here, but you can learn more about them in the [documentation](https://docs.python.org/3/tutorial/inputoutput.html).\n",
    "\n",
    "#### A.) First, run this code. This will read lists of locations by borough."
   ]
  },
  {
   "cell_type": "code",
   "execution_count": 34,
   "metadata": {},
   "outputs": [],
   "source": [
    "# Read lists of locations (simply run this code block)\n",
    "with open('project_files/brent.txt', 'r') as f:\n",
    "    brent = f.read().splitlines()\n",
    "    \n",
    "with open('project_files/camden.txt', 'r') as f:\n",
    "    camden = f.read().splitlines()\n",
    "\n",
    "with open('project_files/redbridge.txt', 'r') as f:\n",
    "    redbridge = f.read().splitlines()\n",
    "\n",
    "with open('project_files/southwark.txt', 'r') as f:\n",
    "    southwark = f.read().splitlines()"
   ]
  },
  {
   "cell_type": "markdown",
   "metadata": {},
   "source": [
    "Note that when text files are read using the <code style=\"color:steelblue\">splitlines()</code> function, the resulting object is a list.\n",
    "\n",
    "So the four objects you just created from the files - <code style=\"color:steelblue\">brent</code>, <code style=\"color:steelblue\">camden</code>, <code style=\"color:steelblue\">redbridge</code>, and <code style=\"color:steelblue\">southwark</code> - are all lists.\n",
    "\n",
    "#### B.) Confirm that the new objects are all Python lists."
   ]
  },
  {
   "cell_type": "code",
   "execution_count": 35,
   "metadata": {},
   "outputs": [
    {
     "name": "stdout",
     "output_type": "stream",
     "text": [
      "<class 'list'>\n",
      "<class 'list'>\n",
      "<class 'list'>\n",
      "<class 'list'>\n"
     ]
    }
   ],
   "source": [
    "# Display the classes of your new objects\n",
    "\n",
    "print(type(brent))\n",
    "print(type(camden))\n",
    "print(type(redbridge))\n",
    "print(type(southwark))"
   ]
  },
  {
   "cell_type": "markdown",
   "metadata": {},
   "source": [
    "Let's start exploring this data.\n",
    "\n",
    "#### C.) Print the first 5 locations in the Camden list."
   ]
  },
  {
   "cell_type": "code",
   "execution_count": 40,
   "metadata": {},
   "outputs": [
    {
     "name": "stdout",
     "output_type": "stream",
     "text": [
      "['Chalk Farm', 'Dartmouth Park', 'Fitzrovia', 'Frognal', 'Bloomsbury']\n"
     ]
    }
   ],
   "source": [
    "# Print the first 5 locations in Camden\n",
    "\n",
    "print(camden[:5])\n"
   ]
  },
  {
   "cell_type": "markdown",
   "metadata": {},
   "source": [
    "<strong style=\"color:RoyalBlue\">Expected output:</strong>\n",
    "\n",
    "<pre>['Chalk Farm', 'Dartmouth Park', 'Fitzrovia', 'Frognal', 'Bloomsbury']</pre>"
   ]
  },
  {
   "cell_type": "markdown",
   "metadata": {},
   "source": [
    "Next, we need to know how many locations are in each borough. \n",
    "\n",
    "#### D.) Print the number of locations in each list.\n",
    "* Which borough has the most locations?\n",
    "* Which borough has the fewest locations?"
   ]
  },
  {
   "cell_type": "code",
   "execution_count": 39,
   "metadata": {},
   "outputs": [
    {
     "name": "stdout",
     "output_type": "stream",
     "text": [
      "19\n",
      "22\n",
      "18\n",
      "15\n"
     ]
    }
   ],
   "source": [
    "# Print length of each list\n",
    "print(len(brent))\n",
    "print(len(camden))\n",
    "print(len(redbridge))\n",
    "print(len(southwark))"
   ]
  },
  {
   "cell_type": "markdown",
   "metadata": {},
   "source": [
    "<strong style=\"color:RoyalBlue\">Expected output:</strong>\n",
    "<pre>\n",
    "19\n",
    "22\n",
    "18\n",
    "15\n",
    "</pre>\n",
    "\n",
    "*Camden has the most locations and Southwark has the fewest.*"
   ]
  },
  {
   "cell_type": "markdown",
   "metadata": {},
   "source": [
    "#### E.) Next, HQ wants to check a few locations. Do the following:\n",
    "* **Print <code style=\"color:steelblue\">True</code> if <code>'Newbury Park'</code> is in Redbridge or <code style=\"color:steelblue\">False</code> if it's not.**\n",
    "* **Print <code style=\"color:steelblue\">True</code> if <code>'Peckham'</code> is in Brent or <code style=\"color:steelblue\">False</code> if it's not.**"
   ]
  },
  {
   "cell_type": "code",
   "execution_count": 48,
   "metadata": {},
   "outputs": [
    {
     "name": "stdout",
     "output_type": "stream",
     "text": [
      "True\n",
      "False\n"
     ]
    }
   ],
   "source": [
    "# Is 'Newbury Park' in Redbridge?\n",
    "\n",
    "with open('project_files/redbridge.txt', 'r') as f:\n",
    "    Redbridge = f.read().splitlines()\n",
    "\n",
    "print('Newbury Park' in Redbridge)\n",
    "\n",
    "\n",
    "\n",
    "# Is 'Peckham' in Brent?\n",
    "\n",
    "print('Peckham' in brent)\n"
   ]
  },
  {
   "cell_type": "markdown",
   "metadata": {},
   "source": [
    "#### F.) Next, try printing the \"minimum\" and \"maximum\" values in the Southwark list.\n",
    "* Why do you think you get those results?\n",
    "* How do you think lists of strings are ordered?"
   ]
  },
  {
   "cell_type": "code",
   "execution_count": 50,
   "metadata": {
    "scrolled": true
   },
   "outputs": [
    {
     "name": "stdout",
     "output_type": "stream",
     "text": [
      "Bankside\n",
      "Walworth\n"
     ]
    }
   ],
   "source": [
    "# Print minimum value in southwark\n",
    "\n",
    "print(min(southwark))\n",
    "\n",
    "\n",
    "# Print maximum value in southwark\n",
    "\n",
    "print(max(southwark))\n"
   ]
  },
  {
   "cell_type": "markdown",
   "metadata": {},
   "source": [
    "#### G.) Finally, try printing the \"minimum\" and \"maximum\" values from all of the other 3 lists.\n",
    "* Do the results confirm your suspicions from (F)?"
   ]
  },
  {
   "cell_type": "code",
   "execution_count": 54,
   "metadata": {},
   "outputs": [
    {
     "name": "stdout",
     "output_type": "stream",
     "text": [
      "Alperton\n",
      "Willesden\n",
      "Belsize Park\n",
      "West Hampstead\n",
      "Aldborough Hatch\n",
      "Woodford Green\n"
     ]
    }
   ],
   "source": [
    "# Print min/max values in brent\n",
    "print(min(brent))\n",
    "print(max(brent))\n",
    "print('brent:', min(brent), ';' max(brent) )\n",
    "\n",
    "# Print min/max values in camden\n",
    "print(min(camden))\n",
    "print(max(camden))\n",
    "print('camden:', min(camden), ';' max(camden) )\n",
    "\n",
    "# Print min/max values in redbridge\n",
    "print(min(redbridge))\n",
    "print(max(redbridge))\n",
    "print('redbridge:', min(redbridge), ';' max(redbridge) )"
   ]
  },
  {
   "cell_type": "markdown",
   "metadata": {},
   "source": [
    "## <span style=\"color:RoyalBlue\">Exercise 2.2 - Setting Uniques</span>\n",
    "\n",
    "Let's continue planning locations to visit for our training mission to London. Before we continue, we need to remove duplicates from our lists because we don't have time to visit the same location twice.\n",
    "\n",
    "#### A.) For each of the 4 lists of locations, print <code style=\"color:steelblue\">True</code> if it has duplicate locations and <code style=\"color:steelblue\">False</code> if it doesn't.\n",
    "* Hint: A list with duplicates will have a greater length than a set of the same locations."
   ]
  },
  {
   "cell_type": "code",
   "execution_count": 65,
   "metadata": {},
   "outputs": [
    {
     "name": "stdout",
     "output_type": "stream",
     "text": [
      "False\n",
      "True\n",
      "True\n",
      "True\n"
     ]
    }
   ],
   "source": [
    "# Brent has duplicates?\n",
    "brent_set = set(brent)\n",
    "# print(len(brent_set) == len(brent))\n",
    "if len(brent_set) == len(brent):\n",
    "    print(False)\n",
    "else:\n",
    "    print(True)\n",
    "\n",
    "# Camden has duplicates?\n",
    "camden_set = set(camden)\n",
    "# print(len(camden_set) == len(camden))\n",
    "if len(camden_set) == len(camden):\n",
    "    print(False)\n",
    "else:\n",
    "    print(True)\n",
    "\n",
    "# Redbridge has duplicates?\n",
    "redbridge_set = set(redbridge)\n",
    "# print(len(redbridge_set) == len(redbridge))\n",
    "if len(redbridge_set) == len(redbridge):\n",
    "    print(False)\n",
    "else:\n",
    "    print(True)\n",
    "\n",
    "# Southwark has duplicates?\n",
    "southwark_set = set(southwark)\n",
    "# print(len(southwark_set) == len(southwark))\n",
    "if len(southwark_set) == len(southwark):\n",
    "    print(False)\n",
    "else:\n",
    "    print(True)\n",
    "    \n",
    "    \n",
    "# Brent has duplicates?\n",
    "print( len(brent) > len(set(brent)) )\n",
    "\n",
    "# Camden has duplicates?\n",
    "print( len(camden) > len(set(camden)) )\n",
    "\n",
    "# Redbridge has duplicates?\n",
    "print( len(redbridge) > len(set(redbridge)) )\n",
    "\n",
    "# Southwark has duplicates?\n",
    "print( len(southwark) > len(set(southwark)) )"
   ]
  },
  {
   "cell_type": "markdown",
   "metadata": {},
   "source": [
    "<strong style=\"color:RoyalBlue\">Expected output:</strong>\n",
    "<pre>\n",
    "False\n",
    "True\n",
    "True\n",
    "True\n",
    "</pre>"
   ]
  },
  {
   "cell_type": "markdown",
   "metadata": {},
   "source": [
    "#### B.) For the lists with duplicates, remove duplicates by converting them into sets. Then, convert them back into lists.\n",
    "* Hint: <code style=\"color:steelblue\">set()</code> and <code style=\"color:steelblue\">list()</code> are your friends."
   ]
  },
  {
   "cell_type": "code",
   "execution_count": 68,
   "metadata": {},
   "outputs": [
    {
     "name": "stdout",
     "output_type": "stream",
     "text": [
      "{'Willesden', \"Queen's Park\", 'Preston', 'Brent Park', 'Kilburn', 'Dollis Hill', 'Wembley', 'Park Royal', 'Kingsbury', 'Neasden', 'Tokyngton', 'Sudbury', 'Brondesbury', 'Church End', 'Kenton', 'Kensal Green', 'Wembley Park', 'Harlesden', 'Alperton'}\n",
      "['Willesden', \"Queen's Park\", 'Preston', 'Brent Park', 'Kilburn', 'Dollis Hill', 'Wembley', 'Park Royal', 'Kingsbury', 'Neasden', 'Tokyngton', 'Sudbury', 'Brondesbury', 'Church End', 'Kenton', 'Kensal Green', 'Wembley Park', 'Harlesden', 'Alperton']\n",
      "{\"King's Cross\", 'Dartmouth Park', 'Bloomsbury', 'Primrose Hill', 'St Pancras', 'Belsize Park', 'Fitzrovia', 'Kentish Town', 'Hampstead', 'Chalk Farm', 'Somerstown', 'Camden Town', 'Frognal', 'St Giles', 'Swiss Cottage', 'Holborn', 'Gospel Oak', 'Highgate', 'West Hampstead'}\n",
      "[\"King's Cross\", 'Dartmouth Park', 'Bloomsbury', 'Primrose Hill', 'St Pancras', 'Belsize Park', 'Fitzrovia', 'Kentish Town', 'Hampstead', 'Chalk Farm', 'Somerstown', 'Camden Town', 'Frognal', 'St Giles', 'Swiss Cottage', 'Holborn', 'Gospel Oak', 'Highgate', 'West Hampstead']\n",
      "{'Seven Kings', 'Aldborough Hatch', 'Woodford Green', 'Snaresbrook', 'Barkingside', 'Hainault', 'Newbury Park', 'South Woodford', 'Chadwell Heath', 'Woodford', 'Ilford', 'Wanstead', 'Gants Hill', 'Loxford', 'Goodmayes', 'Redbridge'}\n",
      "['Seven Kings', 'Aldborough Hatch', 'Woodford Green', 'Snaresbrook', 'Barkingside', 'Hainault', 'Newbury Park', 'South Woodford', 'Chadwell Heath', 'Woodford', 'Ilford', 'Wanstead', 'Gants Hill', 'Loxford', 'Goodmayes', 'Redbridge']\n",
      "{'Dulwich', 'Surrey Quays', 'Peckham', 'Elephant and Castle', 'Newington', 'East Dulwich', 'Walworth', 'Bankside', 'Nunhead', 'Bermondsey', 'Camberwell', 'Rotherhithe', 'Denmark Hill'}\n",
      "['Dulwich', 'Surrey Quays', 'Peckham', 'Elephant and Castle', 'Newington', 'East Dulwich', 'Walworth', 'Bankside', 'Nunhead', 'Bermondsey', 'Camberwell', 'Rotherhithe', 'Denmark Hill']\n",
      "13\n"
     ]
    }
   ],
   "source": [
    "# Convert lists to sets to remove duplicates, then convert them back to lists \n",
    "brent_set = set(brent)\n",
    "brent_list = list(brent_set)\n",
    "\n",
    "print(brent_set)\n",
    "print(brent_list)\n",
    "\n",
    "\n",
    "camden_set = set(camden)\n",
    "camden_list = list(camden_set)\n",
    "\n",
    "print(camden_set)\n",
    "print(camden_list)\n",
    "\n",
    "\n",
    "redbridge_set = set(redbridge)\n",
    "redbridge_list = list(redbridge_set)\n",
    "\n",
    "print(redbridge_set)\n",
    "print(redbridge_list)\n",
    "\n",
    "\n",
    "\n",
    "southwark_set = set(southwark)\n",
    "southwark_list = list(southwark_set)\n",
    "\n",
    "print(southwark_set)\n",
    "print(southwark_list)\n",
    "print(len(southwark_list))"
   ]
  },
  {
   "cell_type": "markdown",
   "metadata": {},
   "source": [
    "Great, we're now almost ready to visit the locations. \n",
    "\n",
    "But first, let's look at a simple way to store the locations in one place."
   ]
  },
  {
   "cell_type": "markdown",
   "metadata": {},
   "source": [
    "## <span style=\"color:RoyalBlue\">Exercise 2.3 - Dictionary Database</span>\n",
    "\n",
    "We're almost ready to visit the locations in London! However, it's too cumbersome to lug around the 4 different lists we created in the previous exercise.\n",
    "\n",
    "#### A.) Create a single dictionary named <code style=\"color:steelblue\">location_dict</code> for the locations in each borough.\n",
    "* Each key should be the name of the borough.\n",
    "* Their values should be the lists of unique locations you created in <span style=\"color:RoyalBlue\">Exercise 2.2</span>."
   ]
  },
  {
   "cell_type": "code",
   "execution_count": 85,
   "metadata": {},
   "outputs": [
    {
     "name": "stdout",
     "output_type": "stream",
     "text": [
      "{'Brent': ['Willesden', \"Queen's Park\", 'Preston', 'Brent Park', 'Kilburn', 'Dollis Hill', 'Wembley', 'Park Royal', 'Kingsbury', 'Neasden', 'Tokyngton', 'Sudbury', 'Brondesbury', 'Church End', 'Kenton', 'Kensal Green', 'Wembley Park', 'Harlesden', 'Alperton'], 'Camden': [\"King's Cross\", 'Dartmouth Park', 'Bloomsbury', 'Primrose Hill', 'St Pancras', 'Belsize Park', 'Fitzrovia', 'Kentish Town', 'Hampstead', 'Chalk Farm', 'Somerstown', 'Camden Town', 'Frognal', 'St Giles', 'Swiss Cottage', 'Holborn', 'Gospel Oak', 'Highgate', 'West Hampstead'], 'Redbridge': ['Seven Kings', 'Aldborough Hatch', 'Woodford Green', 'Snaresbrook', 'Barkingside', 'Hainault', 'Newbury Park', 'South Woodford', 'Chadwell Heath', 'Woodford', 'Ilford', 'Wanstead', 'Gants Hill', 'Loxford', 'Goodmayes', 'Redbridge'], 'Southwark': ['Dulwich', 'Surrey Quays', 'Peckham', 'Elephant and Castle', 'Newington', 'East Dulwich', 'Walworth', 'Bankside', 'Nunhead', 'Bermondsey', 'Camberwell', 'Rotherhithe', 'Denmark Hill']}\n"
     ]
    }
   ],
   "source": [
    "# Create location_dict\n",
    "\n",
    "location_dict = {\n",
    "    'Brent': ['Willesden', \"Queen's Park\", 'Preston', 'Brent Park', 'Kilburn', 'Dollis Hill', 'Wembley', 'Park Royal', 'Kingsbury', 'Neasden', 'Tokyngton', 'Sudbury', 'Brondesbury', 'Church End', 'Kenton', 'Kensal Green', 'Wembley Park', 'Harlesden', 'Alperton'],\n",
    "    'Camden' : [\"King's Cross\", 'Dartmouth Park', 'Bloomsbury', 'Primrose Hill', 'St Pancras', 'Belsize Park', 'Fitzrovia', 'Kentish Town', 'Hampstead', 'Chalk Farm', 'Somerstown', 'Camden Town', 'Frognal', 'St Giles', 'Swiss Cottage', 'Holborn', 'Gospel Oak', 'Highgate', 'West Hampstead'],\n",
    "    'Redbridge': ['Seven Kings', 'Aldborough Hatch', 'Woodford Green', 'Snaresbrook', 'Barkingside', 'Hainault', 'Newbury Park', 'South Woodford', 'Chadwell Heath', 'Woodford', 'Ilford', 'Wanstead', 'Gants Hill', 'Loxford', 'Goodmayes', 'Redbridge'],\n",
    "    'Southwark': ['Dulwich', 'Surrey Quays', 'Peckham', 'Elephant and Castle', 'Newington', 'East Dulwich', 'Walworth', 'Bankside', 'Nunhead', 'Bermondsey', 'Camberwell', 'Rotherhithe', 'Denmark Hill']\n",
    "}\n",
    "\n",
    "print(location_dict)\n",
    "\n",
    "\n",
    "\n",
    "location_dict_2 = {\n",
    "    'Brent' : brent,\n",
    "    'Camden' : camden,\n",
    "    'Redbridge' : redbridge,\n",
    "    'Southwark' : southwark\n",
    "}"
   ]
  },
  {
   "cell_type": "markdown",
   "metadata": {},
   "source": [
    "Next, let's make sure the dictionary has the correct keys. \n",
    "\n",
    "#### B.) Run the cell below and check the output.\n",
    "* What do you think the code below is doing?\n",
    "* You'll learn more about <code style=\"color:steelblue\">for</code> loops in the next module."
   ]
  },
  {
   "cell_type": "code",
   "execution_count": 86,
   "metadata": {},
   "outputs": [
    {
     "name": "stdout",
     "output_type": "stream",
     "text": [
      "True\n",
      "True\n",
      "True\n",
      "True\n"
     ]
    }
   ],
   "source": [
    "# Run this cell\n",
    "for borough in ['Brent', 'Camden', 'Redbridge', 'Southwark']:\n",
    "    print( borough in location_dict )"
   ]
  },
  {
   "cell_type": "markdown",
   "metadata": {},
   "source": [
    "<strong style=\"color:RoyalBlue\">Expected output:</strong>\n",
    "<pre>\n",
    "True\n",
    "True\n",
    "True\n",
    "True\n",
    "</pre>"
   ]
  },
  {
   "cell_type": "markdown",
   "metadata": {},
   "source": [
    "Did you get the expected output? If not, check the answer key before moving on.\n",
    "\n",
    "You've just received a message from HQ. *\"Now that you've set up your dictionary, you won't need the original lists anymore. Get rid of them and wipe them clean.\"*\n",
    "\n",
    "#### C.) Overwrite the original borough lists with <code style=\"color:steelblue\">None</code>.\n",
    "* <code style=\"color:steelblue\">None</code> is an object that denotes emptiness. It's a separate object type within Python, similar to integers, floats, etc.\n",
    "* There are different ways to approach this. See if you can do it in just one line of code! (Hint: \"unpacking\") The answer key has the solution that uses only one line of code."
   ]
  },
  {
   "cell_type": "code",
   "execution_count": 95,
   "metadata": {},
   "outputs": [],
   "source": [
    "# Wipe your original lists clean with None\n",
    "\n",
    "brent_list = None\n",
    "camden_list = None\n",
    "redbridge_list = None\n",
    "southwark_list = None\n",
    "\n",
    "brent, camden, redbridge, southwark = None, None, None, None"
   ]
  },
  {
   "cell_type": "markdown",
   "metadata": {},
   "source": [
    "#### D.) Confirm that all of your lists were wiped successfully. Print out each one's new class/type.\n",
    "* Tip: When you overwrite a variable with a new object, it keeps the same variable name, but the object could be a completely different type of object."
   ]
  },
  {
   "cell_type": "code",
   "execution_count": 96,
   "metadata": {
    "scrolled": true
   },
   "outputs": [
    {
     "name": "stdout",
     "output_type": "stream",
     "text": [
      "<class 'NoneType'>\n",
      "<class 'NoneType'>\n",
      "<class 'NoneType'>\n",
      "<class 'NoneType'>\n"
     ]
    }
   ],
   "source": [
    "print(type(brent_list))\n",
    "print(type(camden_list))\n",
    "print(type(redbridge_list))\n",
    "print(type(southwark_list))"
   ]
  },
  {
   "cell_type": "markdown",
   "metadata": {},
   "source": [
    "<strong style=\"color:RoyalBlue\">Expected output:</strong>\n",
    "<pre>\n",
    "&lt;class 'NoneType'>\n",
    "&lt;class 'NoneType'>\n",
    "&lt;class 'NoneType'>\n",
    "&lt;class 'NoneType'>\n",
    "</pre>"
   ]
  },
  {
   "cell_type": "markdown",
   "metadata": {},
   "source": [
    "Now, we want to split our visit to London into two trips: one for Inner London and one for Outer London.\n",
    "\n",
    "#### E.) Add two new items to your dictionary:\n",
    "1. **Key:** <code style=\"color:steelblue\">'Inner London'</code>... **Value:** All locations in <code style=\"color:steelblue\">'Camden'</code> and <code style=\"color:steelblue\">'Southwark'</code>.\n",
    "2. **Key:** <code style=\"color:steelblue\">'Outer London'</code>... **Value:** All locations in <code style=\"color:steelblue\">'Brent'</code> and <code style=\"color:steelblue\">'Redbridge'</code>.\n",
    "\n",
    "Since you got rid of your original lists, you'll have to use the values you've already stored in your dictionary."
   ]
  },
  {
   "cell_type": "code",
   "execution_count": 124,
   "metadata": {},
   "outputs": [],
   "source": [
    "# Create a new key-value pair for 'Inner London'\n",
    "location_dict['Inner London'] = list(camden_set) + list(southwark_set)\n",
    "\n",
    "\n",
    "# Create a new key-value pair for 'Outer London'\n",
    "location_dict['Outer London'] = list(brent_set) + list(redbridge_set)"
   ]
  },
  {
   "cell_type": "markdown",
   "metadata": {},
   "source": [
    "Finally, let's just check that we have the right number of locations for each trip.\n",
    "* You should have 32 for Inner London\n",
    "* You should have 35 for Outer London\n",
    "\n",
    "#### F.) Run the cell below and check that you get the expected output.\n",
    "* The <code>len</code> function counts the number of elements in a list-like object. You'll see this pop up many times throughout this program."
   ]
  },
  {
   "cell_type": "code",
   "execution_count": 125,
   "metadata": {},
   "outputs": [
    {
     "name": "stdout",
     "output_type": "stream",
     "text": [
      "32\n",
      "35\n"
     ]
    }
   ],
   "source": [
    "print( len(location_dict['Inner London']) )\n",
    "print( len(location_dict['Outer London']) )"
   ]
  },
  {
   "cell_type": "markdown",
   "metadata": {},
   "source": [
    "<strong style=\"color:RoyalBlue\">Expected output:</strong>\n",
    "<pre>\n",
    "32\n",
    "35\n",
    "</pre>"
   ]
  },
  {
   "cell_type": "markdown",
   "metadata": {},
   "source": [
    "If you don't have the right number of locations, doublecheck that you removed duplicates and that you're concatenating the correct lists. You can also check the answer key for the solution.\n",
    "\n",
    "#### G.) Once you have the right number of locations, let's save this object so we can use it in the next module. Run the cell below.\n",
    "* We'll use a Python built-in package called <code style=\"color:steelblue\">pickle</code> to do so.\n",
    "* Pickle saves an entire object in a file on your computer."
   ]
  },
  {
   "cell_type": "code",
   "execution_count": 126,
   "metadata": {},
   "outputs": [],
   "source": [
    "import pickle\n",
    "\n",
    "# Save object to disk\n",
    "with open('location_dict.pkl', 'wb') as f:\n",
    "    pickle.dump(location_dict, f)"
   ]
  },
  {
   "cell_type": "markdown",
   "metadata": {},
   "source": [
    "#### The mission continues in the next module...\n",
    "\n",
    "Now you have a dictionary of locations in London by borough. In the next module, we'll look through the locations and pick one to start with."
   ]
  }
 ],
 "metadata": {
  "anaconda-cloud": {},
  "kernelspec": {
   "display_name": "Python 3 (ipykernel)",
   "language": "python",
   "name": "python3"
  },
  "language_info": {
   "codemirror_mode": {
    "name": "ipython",
    "version": 3
   },
   "file_extension": ".py",
   "mimetype": "text/x-python",
   "name": "python",
   "nbconvert_exporter": "python",
   "pygments_lexer": "ipython3",
   "version": "3.9.7"
  }
 },
 "nbformat": 4,
 "nbformat_minor": 1
}
