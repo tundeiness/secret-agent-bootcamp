{
 "cells": [
  {
   "cell_type": "markdown",
   "metadata": {},
   "source": [
    "#### COMPANION WORKBOOK\n",
    "\n",
    "# Python Basics\n",
    "\n",
    "To make the most out of this program, we strongly recommend you to:\n",
    "1. First practice writing and implementing all of the code from Coding Section of the online module.\n",
    "2. Then, freely experiment with and explore any interesting or confusing concepts. Simply insert new code cells and then use the help of Google and official documentation.\n",
    "3. Finally, tackle all of the exercises at the end. They will help you tie everything together and **learn in context.**\n",
    "\n",
    "#### <span style=\"color:#555\">MODULE CODE SANDBOX</span>\n",
    "\n",
    "Use this space to practice writing and implementing all of the code from Coding Section of the online module. Insert new code cells as needed, and feel free to write notes to yourself in Markdown."
   ]
  },
  {
   "cell_type": "markdown",
   "metadata": {},
   "source": [
    "## I. Python can be used for calculations."
   ]
  },
  {
   "cell_type": "code",
   "execution_count": 1,
   "metadata": {},
   "outputs": [
    {
     "name": "stdout",
     "output_type": "stream",
     "text": [
      "15\n"
     ]
    }
   ],
   "source": [
    "print(10 + 5)"
   ]
  },
  {
   "cell_type": "code",
   "execution_count": 2,
   "metadata": {},
   "outputs": [
    {
     "name": "stdout",
     "output_type": "stream",
     "text": [
      "100\n"
     ]
    }
   ],
   "source": [
    "print(10**2)"
   ]
  },
  {
   "cell_type": "code",
   "execution_count": 3,
   "metadata": {},
   "outputs": [
    {
     "name": "stdout",
     "output_type": "stream",
     "text": [
      "3.3333333333333335\n"
     ]
    }
   ],
   "source": [
    "print(10 / 3)"
   ]
  },
  {
   "cell_type": "code",
   "execution_count": 4,
   "metadata": {},
   "outputs": [
    {
     "name": "stdout",
     "output_type": "stream",
     "text": [
      "0\n"
     ]
    }
   ],
   "source": [
    "print( 10 % 5)"
   ]
  },
  {
   "cell_type": "code",
   "execution_count": 5,
   "metadata": {},
   "outputs": [
    {
     "name": "stdout",
     "output_type": "stream",
     "text": [
      "116.66666666666667\n"
     ]
    }
   ],
   "source": [
    "print(10 + (4 ** 3 * 10) /6)"
   ]
  },
  {
   "cell_type": "code",
   "execution_count": 6,
   "metadata": {},
   "outputs": [
    {
     "name": "stdout",
     "output_type": "stream",
     "text": [
      "True\n",
      "True\n",
      "False\n",
      "False\n",
      "False\n"
     ]
    }
   ],
   "source": [
    "print( 10 > 6)\n",
    "print(5 >= 3)\n",
    "print(5 == 3)\n",
    "print(5 <= 3)\n",
    "print(5 < 3)"
   ]
  },
  {
   "cell_type": "code",
   "execution_count": 8,
   "metadata": {},
   "outputs": [
    {
     "name": "stdout",
     "output_type": "stream",
     "text": [
      "<class 'bool'>\n",
      "<class 'bool'>\n"
     ]
    }
   ],
   "source": [
    "print(type(5 > 5))\n",
    "print(type(True))\n"
   ]
  },
  {
   "cell_type": "code",
   "execution_count": 10,
   "metadata": {},
   "outputs": [
    {
     "name": "stdout",
     "output_type": "stream",
     "text": [
      "<class 'str'>\n"
     ]
    }
   ],
   "source": [
    "print(type('2' + '2'))"
   ]
  },
  {
   "cell_type": "code",
   "execution_count": 11,
   "metadata": {},
   "outputs": [
    {
     "data": {
      "text/plain": [
       "'22'"
      ]
     },
     "execution_count": 11,
     "metadata": {},
     "output_type": "execute_result"
    }
   ],
   "source": [
    "'2' + '2'"
   ]
  },
  {
   "cell_type": "markdown",
   "metadata": {},
   "source": [
    "## II. Floats are numeric objects that allow more precision."
   ]
  },
  {
   "cell_type": "code",
   "execution_count": 12,
   "metadata": {},
   "outputs": [
    {
     "name": "stdout",
     "output_type": "stream",
     "text": [
      "<class 'int'>\n"
     ]
    }
   ],
   "source": [
    "print(type(5))"
   ]
  },
  {
   "cell_type": "code",
   "execution_count": 13,
   "metadata": {},
   "outputs": [
    {
     "name": "stdout",
     "output_type": "stream",
     "text": [
      "<class 'float'>\n"
     ]
    }
   ],
   "source": [
    "print(type(.6))"
   ]
  },
  {
   "cell_type": "code",
   "execution_count": 14,
   "metadata": {},
   "outputs": [
    {
     "name": "stdout",
     "output_type": "stream",
     "text": [
      "<class 'float'>\n"
     ]
    }
   ],
   "source": [
    "print(type(5.3))"
   ]
  },
  {
   "cell_type": "code",
   "execution_count": 15,
   "metadata": {},
   "outputs": [
    {
     "name": "stdout",
     "output_type": "stream",
     "text": [
      "333\n",
      "444.0\n"
     ]
    }
   ],
   "source": [
    "print( 333 )\n",
    "print(float(444)) # convert int to float"
   ]
  },
  {
   "cell_type": "code",
   "execution_count": 16,
   "metadata": {},
   "outputs": [
    {
     "name": "stdout",
     "output_type": "stream",
     "text": [
      "5\n"
     ]
    }
   ],
   "source": [
    "print( int(5.9)) # convert float to int"
   ]
  },
  {
   "cell_type": "code",
   "execution_count": 17,
   "metadata": {},
   "outputs": [
    {
     "name": "stdout",
     "output_type": "stream",
     "text": [
      "6\n"
     ]
    }
   ],
   "source": [
    "print( int(6.3333339))"
   ]
  },
  {
   "cell_type": "code",
   "execution_count": 18,
   "metadata": {},
   "outputs": [
    {
     "name": "stdout",
     "output_type": "stream",
     "text": [
      "6\n"
     ]
    }
   ],
   "source": [
    "print(round(6.333339))"
   ]
  },
  {
   "cell_type": "code",
   "execution_count": 19,
   "metadata": {},
   "outputs": [
    {
     "name": "stdout",
     "output_type": "stream",
     "text": [
      "10.0 <class 'float'>\n"
     ]
    }
   ],
   "source": [
    "print( 4 * 2.5, type(4 * 2.5))"
   ]
  },
  {
   "cell_type": "code",
   "execution_count": 20,
   "metadata": {},
   "outputs": [
    {
     "name": "stdout",
     "output_type": "stream",
     "text": [
      "1.5\n"
     ]
    }
   ],
   "source": [
    "print( 3 / 2.)"
   ]
  },
  {
   "cell_type": "code",
   "execution_count": null,
   "metadata": {},
   "outputs": [],
   "source": []
  },
  {
   "cell_type": "code",
   "execution_count": null,
   "metadata": {},
   "outputs": [],
   "source": []
  },
  {
   "cell_type": "code",
   "execution_count": null,
   "metadata": {},
   "outputs": [],
   "source": []
  },
  {
   "cell_type": "markdown",
   "metadata": {},
   "source": [
    "## III. Strings are text objects enclosed by quotes."
   ]
  },
  {
   "cell_type": "code",
   "execution_count": 21,
   "metadata": {},
   "outputs": [
    {
     "name": "stdout",
     "output_type": "stream",
     "text": [
      "<class 'str'>\n"
     ]
    }
   ],
   "source": [
    "print( type('This is a string'))"
   ]
  },
  {
   "cell_type": "code",
   "execution_count": 22,
   "metadata": {},
   "outputs": [
    {
     "name": "stdout",
     "output_type": "stream",
     "text": [
      "<class 'str'>\n"
     ]
    }
   ],
   "source": [
    "print( type(\"enclosed by double quotes\"))"
   ]
  },
  {
   "cell_type": "code",
   "execution_count": 23,
   "metadata": {},
   "outputs": [
    {
     "name": "stdout",
     "output_type": "stream",
     "text": [
      "True\n"
     ]
    }
   ],
   "source": [
    "print ('992 + 345' == \"992 + 345\")"
   ]
  },
  {
   "cell_type": "code",
   "execution_count": 24,
   "metadata": {},
   "outputs": [
    {
     "name": "stdout",
     "output_type": "stream",
     "text": [
      "It's me.. Mario!\n"
     ]
    }
   ],
   "source": [
    "print( \"It's me.. Mario!\")"
   ]
  },
  {
   "cell_type": "code",
   "execution_count": 25,
   "metadata": {},
   "outputs": [
    {
     "name": "stdout",
     "output_type": "stream",
     "text": [
      "It's me.. Mario!\n"
     ]
    }
   ],
   "source": [
    "print('It\\'s me.. Mario!')"
   ]
  },
  {
   "cell_type": "code",
   "execution_count": 26,
   "metadata": {},
   "outputs": [
    {
     "name": "stdout",
     "output_type": "stream",
     "text": [
      "343 + 992\n"
     ]
    }
   ],
   "source": [
    "print('343 + 992')"
   ]
  },
  {
   "cell_type": "code",
   "execution_count": 27,
   "metadata": {},
   "outputs": [
    {
     "name": "stdout",
     "output_type": "stream",
     "text": [
      "343992\n"
     ]
    }
   ],
   "source": [
    "print('343' + '992')"
   ]
  },
  {
   "cell_type": "code",
   "execution_count": 28,
   "metadata": {},
   "outputs": [
    {
     "data": {
      "text/plain": [
       "'1010101010'"
      ]
     },
     "execution_count": 28,
     "metadata": {},
     "output_type": "execute_result"
    }
   ],
   "source": [
    "'10' * 5 # repeat string"
   ]
  },
  {
   "cell_type": "code",
   "execution_count": 29,
   "metadata": {},
   "outputs": [
    {
     "ename": "TypeError",
     "evalue": "unsupported operand type(s) for /: 'str' and 'str'",
     "output_type": "error",
     "traceback": [
      "\u001b[0;31m---------------------------------------------------------------------------\u001b[0m",
      "\u001b[0;31mTypeError\u001b[0m                                 Traceback (most recent call last)",
      "\u001b[0;32m/var/folders/4h/_83sbzt9083fbl90zplwz89m0000gn/T/ipykernel_13332/3619279087.py\u001b[0m in \u001b[0;36m<module>\u001b[0;34m\u001b[0m\n\u001b[0;32m----> 1\u001b[0;31m \u001b[0;34m'5'\u001b[0m \u001b[0;34m/\u001b[0m \u001b[0;34m'8'\u001b[0m\u001b[0;34m\u001b[0m\u001b[0;34m\u001b[0m\u001b[0m\n\u001b[0m",
      "\u001b[0;31mTypeError\u001b[0m: unsupported operand type(s) for /: 'str' and 'str'"
     ]
    }
   ],
   "source": [
    "'5' / '8'"
   ]
  },
  {
   "cell_type": "code",
   "execution_count": 30,
   "metadata": {},
   "outputs": [
    {
     "name": "stdout",
     "output_type": "stream",
     "text": [
      "401 + 345 = 746\n"
     ]
    }
   ],
   "source": [
    "print('401 + 345 = {}'.format(401 + 345))"
   ]
  },
  {
   "cell_type": "code",
   "execution_count": 31,
   "metadata": {},
   "outputs": [
    {
     "name": "stdout",
     "output_type": "stream",
     "text": [
      "100 + 300 = 400\n"
     ]
    }
   ],
   "source": [
    "print('{} + {} = {}'.format(100, 300, 100 + 300))"
   ]
  },
  {
   "cell_type": "code",
   "execution_count": 36,
   "metadata": {},
   "outputs": [
    {
     "name": "stdout",
     "output_type": "stream",
     "text": [
      "10 ** 5 + 20 = 100020\n"
     ]
    }
   ],
   "source": [
    "print('{} ** {} + {} = {}'.format(10, 5, 20, 10 ** 5 + 20))"
   ]
  },
  {
   "cell_type": "markdown",
   "metadata": {},
   "source": [
    "## IV. Variables store values and keep your code organized."
   ]
  },
  {
   "cell_type": "code",
   "execution_count": 32,
   "metadata": {},
   "outputs": [
    {
     "name": "stdout",
     "output_type": "stream",
     "text": [
      "10\n",
      "hello\n",
      "20\n",
      "100000000000000000000\n"
     ]
    }
   ],
   "source": [
    "# set variables\n",
    "a = 10\n",
    "b = 20\n",
    "c = 'hello'\n",
    "\n",
    "print(a)\n",
    "print(c)\n",
    "print(b)\n",
    "\n",
    "print(a ** b)"
   ]
  },
  {
   "cell_type": "code",
   "execution_count": 35,
   "metadata": {},
   "outputs": [
    {
     "name": "stdout",
     "output_type": "stream",
     "text": [
      "159.27407430000017\n",
      "pct return: 15.93%\n"
     ]
    }
   ],
   "source": [
    "principal = 1000.0\n",
    "yearly_interest_rate = 0.03\n",
    "n_years = 5\n",
    "\n",
    "total_return = principal * (1 + yearly_interest_rate) ** n_years - principal\n",
    "\n",
    "print(total_return)\n",
    "\n",
    "print( 'pct return: {}%'.format(round(total_return/principal * 100, 2)))"
   ]
  },
  {
   "cell_type": "code",
   "execution_count": 1,
   "metadata": {},
   "outputs": [],
   "source": [
    "principal = 1000.0\n",
    "\n",
    "Principal = 'Mr Smith'"
   ]
  },
  {
   "cell_type": "markdown",
   "metadata": {},
   "source": [
    "#### <span style=\"color:#555\">EXERCISES</span>\n",
    "\n",
    "Complete each of the following exercises.\n",
    "\n",
    "\n",
    "## <span style=\"color:RoyalBlue\"> Exercise 1.1 - Python as a Calculator</span>\n",
    "\n",
    "#### A.) A right triangle has a hypotenuse of length 17, and one of its legs has length 8. Calculate the length of the other leg using one line of Python code.\n",
    "* Tip: <a href=\"https://en.wikipedia.org/wiki/Pythagorean_theorem\" target=\"_blank\">Pythagorean Theorem</a>"
   ]
  },
  {
   "cell_type": "code",
   "execution_count": 36,
   "metadata": {
    "scrolled": true
   },
   "outputs": [
    {
     "name": "stdout",
     "output_type": "stream",
     "text": [
      "leg_two: 18.79\n",
      "leg_two: 18.788294228055936\n"
     ]
    }
   ],
   "source": [
    "import math\n",
    "hypotenuse = 17\n",
    "leg_one = 8\n",
    "\n",
    "print('leg_two: {}'.format(round(math.sqrt((hypotenuse ** 2) + (leg_one ** 2)), 2)))\n",
    "print('leg_two: {}'.format(math.sqrt((hypotenuse ** 2) + (leg_one ** 2))))"
   ]
  },
  {
   "cell_type": "markdown",
   "metadata": {},
   "source": [
    "#### B.) You have 5 colleagues going through this Secret Agent Bootcamp with you. If you are definitely the top student, how many total possible ways can all 6 students be ranked?\n",
    "* Hint: You have already taken rank 1. How many people are eligible for rank 2? Once rank 2 has been determined, how many eligible people remain for rank 3? Etc..."
   ]
  },
  {
   "cell_type": "code",
   "execution_count": 32,
   "metadata": {},
   "outputs": [
    {
     "name": "stdout",
     "output_type": "stream",
     "text": [
      "rank 1: 1 way\n",
      "rank 2: 2 ways\n",
      "rank 3: 6 ways\n",
      "rank 4: 24 ways\n",
      "rank 5: 120 ways\n",
      "rank 6: 720 ways\n"
     ]
    }
   ],
   "source": [
    "print('rank 1: {} way'.format(1))\n",
    "print('rank 2: {} ways'.format(1*2))\n",
    "print('rank 3: {} ways'.format(1*2*3))\n",
    "print('rank 4: {} ways'.format(1*2*3*4))\n",
    "print('rank 5: {} ways'.format(1*2*3*4*5))\n",
    "print('rank 6: {} ways'.format(1*2*3*4*5*6))"
   ]
  },
  {
   "cell_type": "markdown",
   "metadata": {},
   "source": [
    "#### C.) Your 5 colleagues have the codenames 'Agent A', 'Agent B', 'Agent C', 'Agent D', 'Agent E' (not very creative, I know). Assuming you are ranked number 1, but your remaining colleagues are ranked completely randomly, what's the probability that the overall ranking is:\n",
    "1. You\n",
    "2. Agent C\n",
    "3. Agent A\n",
    "4. Agent D\n",
    "5. Agent E\n",
    "6. Agent B\n",
    "\n",
    "Display your answer as a percentage rounded to two decimal places, and make sure there is no extra space between the percentage number and the percentage symbol."
   ]
  },
  {
   "cell_type": "code",
   "execution_count": 40,
   "metadata": {},
   "outputs": [
    {
     "name": "stdout",
     "output_type": "stream",
     "text": [
      "9.26%\n"
     ]
    }
   ],
   "source": [
    "#rct = ((6*5*4*3*2)/(6**5))\n",
    "#round(rct * 100, 2)\n",
    "print('{}%'.format(round(((6*5*4*3*2)/(6**5)) * 100, 2)))"
   ]
  },
  {
   "cell_type": "markdown",
   "metadata": {},
   "source": [
    "## <span style=\"color:RoyalBlue\"> Exercise 1.2 - Boolean Alter Egos</span>\n",
    "\n",
    "#### A.) Try adding a <code>True</code> boolean with a <code>False</code> boolean. What do you get?"
   ]
  },
  {
   "cell_type": "code",
   "execution_count": 41,
   "metadata": {},
   "outputs": [
    {
     "data": {
      "text/plain": [
       "1"
      ]
     },
     "execution_count": 41,
     "metadata": {},
     "output_type": "execute_result"
    }
   ],
   "source": [
    "True + False"
   ]
  },
  {
   "cell_type": "markdown",
   "metadata": {},
   "source": [
    "#### B.) Try *multiplying* a <code>True</code> boolean with a <code>False</code> boolean. What do you get?"
   ]
  },
  {
   "cell_type": "code",
   "execution_count": 42,
   "metadata": {
    "scrolled": true
   },
   "outputs": [
    {
     "data": {
      "text/plain": [
       "0"
      ]
     },
     "execution_count": 42,
     "metadata": {},
     "output_type": "execute_result"
    }
   ],
   "source": [
    "True * False"
   ]
  },
  {
   "cell_type": "markdown",
   "metadata": {},
   "source": [
    "#### C.) Try multiplying a <code>True</code> boolean with an arbitrary number, such as 123. What do you get?"
   ]
  },
  {
   "cell_type": "code",
   "execution_count": 43,
   "metadata": {},
   "outputs": [
    {
     "data": {
      "text/plain": [
       "123"
      ]
     },
     "execution_count": 43,
     "metadata": {},
     "output_type": "execute_result"
    }
   ],
   "source": [
    "True * 123"
   ]
  },
  {
   "cell_type": "markdown",
   "metadata": {},
   "source": [
    "#### D.) Try multiplying a <code>False</code> boolean with an arbitrary number, such as 123. What do you get?"
   ]
  },
  {
   "cell_type": "code",
   "execution_count": 44,
   "metadata": {
    "scrolled": true
   },
   "outputs": [
    {
     "data": {
      "text/plain": [
       "0"
      ]
     },
     "execution_count": 44,
     "metadata": {},
     "output_type": "execute_result"
    }
   ],
   "source": [
    "False * 123"
   ]
  },
  {
   "cell_type": "markdown",
   "metadata": {},
   "source": [
    "#### E.) What do you think the outputs above imply about how Python treats boolean values under the hood?\n",
    "* **Tip:** Keep this in the back of your mind. This idea will later."
   ]
  },
  {
   "cell_type": "markdown",
   "metadata": {},
   "source": [
    "## <span style=\"color:RoyalBlue\"> Exercise 1.3 - Training Mission Preparation</span>\n",
    "\n",
    "This is actually the start of a long series of connected exercises. These will all belong to the same **training mission**, and they will continue through the entire Python for Data Science Course.\n",
    "\n",
    "#### Here's the setting...\n",
    "\n",
    "As a new recruit, you're being sent on a training mission.\n",
    "* You will travel to different locations in London.\n",
    "* First, you will prepare for and plan the trip.\n",
    "* After you arrive at each location, you will meet with local business owners and offer your help.\n",
    "\n",
    "Simple enough, right? Let's get started.\n",
    "\n",
    "### Phase 1: Planning\n",
    "\n",
    "You're planning your mission, and HQ wants to know you if you have enough space for water.\n",
    "\n",
    "You take a look inside your bag, and this is what you brought:\n",
    "\n",
    "* You have **3** empty cylinder-shaped bottles. \n",
    "* Each bottle has a height of **16** cm and a radius of **4** cm.\n",
    "* Each bottle can be completely filled (ignore the thickness of the bottle).\n",
    "\n",
    "#### A.) First, calculate the total volume of water you can carry, in cm$^3$.\n",
    "* The formula for the volume of a cylinder is $V = \\pi r^2 h$\n",
    "* Perform your calculation in the code cell below and run the cell. If you get stuck, check the answer key for solutions."
   ]
  },
  {
   "cell_type": "code",
   "execution_count": 49,
   "metadata": {},
   "outputs": [
    {
     "name": "stdout",
     "output_type": "stream",
     "text": [
      "2412.75\n"
     ]
    }
   ],
   "source": [
    "# Total volume of water you can carry\n",
    "\n",
    "import math\n",
    "radius = 4\n",
    "height = 16\n",
    "\n",
    "volume = math.pi * (4**2) * height\n",
    "\n",
    "print(round(volume, 2) * 3)"
   ]
  },
  {
   "cell_type": "markdown",
   "metadata": {},
   "source": [
    "**Tip:** Some (not all) exercises will include an <strong style=\"color:RoyalBlue\">expected output</strong> so you can check your results before moving on.\n",
    "\n",
    "<strong style=\"color:RoyalBlue\">Expected output:</strong>\n",
    "\n",
    "2411.52"
   ]
  },
  {
   "cell_type": "markdown",
   "metadata": {},
   "source": [
    "#### B.) HQ estimates that you'll need at least 2000 cm$^3$ for the mission. Print <code style=\"color:steelblue\">True</code> if you have enough space or <code style=\"color:steelblue\">False</code> if you do not.\n",
    "* Use the **greater-than-or-equal-to** operator."
   ]
  },
  {
   "cell_type": "code",
   "execution_count": 51,
   "metadata": {},
   "outputs": [
    {
     "name": "stdout",
     "output_type": "stream",
     "text": [
      "True\n"
     ]
    }
   ],
   "source": [
    "# Do you have space for at least 2000 cm^3\n",
    "\n",
    "import math\n",
    "\n",
    "rad = 4\n",
    "hgt = 16\n",
    "\n",
    "vol = math.pi * (rad ** 2) * hgt\n",
    "\n",
    "required = 2000\n",
    "\n",
    "if (vol <= required):\n",
    "    print(True)\n",
    "else:\n",
    "    print(False)\n"
   ]
  },
  {
   "cell_type": "markdown",
   "metadata": {},
   "source": [
    "You already told HQ that you have enough space for water, but they didn't hear you clearly... You might need to just print them a message.\n",
    "\n",
    "#### C.) Print the message, which dynamically inserting the calculated total volume capacity from (A):\n",
    "\n",
    "<pre>Yes, I have enough space. I can carry <span style=\"color:steelblue\">total_volume</span> cm^3 of water</pre>"
   ]
  },
  {
   "cell_type": "code",
   "execution_count": 53,
   "metadata": {},
   "outputs": [
    {
     "name": "stdout",
     "output_type": "stream",
     "text": [
      "Yes, I have enough space. I can carry 804.25 cm^3 of water\n"
     ]
    }
   ],
   "source": [
    "# Print message to HQ\n",
    "\n",
    "import math\n",
    "\n",
    "rad = 4\n",
    "hgt = 16\n",
    "\n",
    "vol = math.pi * (rad ** 2) * hgt\n",
    "\n",
    "required = 2000\n",
    "\n",
    "if (vol <= required):\n",
    "    print('Yes, I have enough space. I can carry {} cm^3 of water'.format(round(vol, 2)))\n",
    "else:\n",
    "    print(False)\n"
   ]
  },
  {
   "cell_type": "markdown",
   "metadata": {},
   "source": [
    "**D.) If HQ has provided you with 5000 cm$^3$ of water, what's the maximum number of bottles can you fill completely, assuming you could buy more bottles?**\n",
    "* The output should be an integer (completely full bottles)"
   ]
  },
  {
   "cell_type": "code",
   "execution_count": 55,
   "metadata": {},
   "outputs": [
    {
     "name": "stdout",
     "output_type": "stream",
     "text": [
      "6\n"
     ]
    }
   ],
   "source": [
    "# Max number of bottles you can fill completely\n",
    "import math\n",
    "\n",
    "rad = 4\n",
    "hgt = 16\n",
    "\n",
    "vol = math.pi * (rad ** 2) * hgt\n",
    "\n",
    "max_qty = 5000\n",
    "\n",
    "num_of_bottles = max_qty / vol\n",
    "\n",
    "print(round(num_of_bottles))\n",
    "\n",
    "\n"
   ]
  },
  {
   "cell_type": "markdown",
   "metadata": {},
   "source": [
    "<strong style=\"color:RoyalBlue\">Expected output:</strong>\n",
    "\n",
    "6"
   ]
  },
  {
   "cell_type": "markdown",
   "metadata": {},
   "source": [
    "## <span style=\"color:RoyalBlue\"> Exercise 1.4 - Getting Organized with Variables</span>\n",
    "\n",
    "Repeat the calculations from <span style=\"color:RoyalBlue\">Exercise 1.3</span>, but this time use variables with descriptive names.\n",
    "\n",
    "* You have **3** empty cylinder-shaped bottles. \n",
    "* Each bottle has a height of **16** cm and a radius of **4** cm.\n",
    "* Each bottle can be completely filled (ignore the thickness of the bottle).\n",
    "* The formula for the volume of a cylinder is $V = \\pi r^2 h$\n",
    "\n",
    "#### A.) Start by setting variables with descriptive names for bottle dimensions, the number of bottles, and $\\pi$."
   ]
  },
  {
   "cell_type": "code",
   "execution_count": null,
   "metadata": {},
   "outputs": [],
   "source": [
    "# Set variables\n",
    "import math\n",
    "\n",
    "radius = 4\n",
    "height = 16\n",
    "num_of_bottles = 3\n",
    "\n",
    "volume = math.pi * (radius ** 2) * height\n",
    "\n"
   ]
  },
  {
   "cell_type": "markdown",
   "metadata": {},
   "source": [
    "#### B.) Next, calculate the intermediary step of a single bottle's volume.\n",
    "* Set it to a new variable."
   ]
  },
  {
   "cell_type": "code",
   "execution_count": 57,
   "metadata": {},
   "outputs": [
    {
     "name": "stdout",
     "output_type": "stream",
     "text": [
      "804\n"
     ]
    }
   ],
   "source": [
    "# Calculate volume of one bottle (in cm^3)\n",
    "\n",
    "import math\n",
    "\n",
    "radius = 4\n",
    "height = 16\n",
    "num_of_bottles = 3\n",
    "\n",
    "volume = math.pi * (radius ** 2) * height\n",
    "\n",
    "\n",
    "# Print volume of a single bottle\n",
    "print(round(volume))"
   ]
  },
  {
   "cell_type": "markdown",
   "metadata": {},
   "source": [
    "<strong style=\"color:RoyalBlue\">Expected output:</strong>\n",
    "\n",
    "803.84"
   ]
  },
  {
   "cell_type": "markdown",
   "metadata": {},
   "source": [
    "#### C.) Finally, calculate total volume.\n",
    "* Set it to a new variable."
   ]
  },
  {
   "cell_type": "code",
   "execution_count": 58,
   "metadata": {},
   "outputs": [
    {
     "name": "stdout",
     "output_type": "stream",
     "text": [
      "2413\n"
     ]
    }
   ],
   "source": [
    "# Calculate total volume\n",
    "\n",
    "import math\n",
    "\n",
    "radius = 4\n",
    "height = 16\n",
    "num_of_bottles = 3\n",
    "\n",
    "volume = math.pi * (radius ** 2) * height\n",
    "\n",
    "# Print total volume\n",
    "\n",
    "print(round(volume * 3))"
   ]
  },
  {
   "cell_type": "markdown",
   "metadata": {},
   "source": [
    "#### The mission continues in the next module...\n",
    "\n",
    "Now that you've stocked up on enough water, you're ready to go on your training mission into London. In the next module, we'll start planning the trip and all the locations you'll visit."
   ]
  },
  {
   "cell_type": "code",
   "execution_count": null,
   "metadata": {},
   "outputs": [],
   "source": []
  }
 ],
 "metadata": {
  "anaconda-cloud": {},
  "kernelspec": {
   "display_name": "Python 3 (ipykernel)",
   "language": "python",
   "name": "python3"
  },
  "language_info": {
   "codemirror_mode": {
    "name": "ipython",
    "version": 3
   },
   "file_extension": ".py",
   "mimetype": "text/x-python",
   "name": "python",
   "nbconvert_exporter": "python",
   "pygments_lexer": "ipython3",
   "version": "3.9.7"
  }
 },
 "nbformat": 4,
 "nbformat_minor": 1
}
