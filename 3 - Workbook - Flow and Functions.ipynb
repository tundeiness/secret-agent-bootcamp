{
 "cells": [
  {
   "cell_type": "markdown",
   "metadata": {},
   "source": [
    "#### COMPANION WORKBOOK\n",
    "\n",
    "# Flow and Functions\n",
    "\n",
    "To make the most out of this program, we strongly recommend you to:\n",
    "1. First practice writing and implementing all of the code from Coding Section of the online module.\n",
    "2. Then, freely experiment with and explore any interesting or confusing concepts. Simply insert new code cells and then use the help of Google and official documentation.\n",
    "3. Finally, tackle all of the exercises at the end. They will help you tie everything together and **learn in context.**\n",
    "\n",
    "#### <span style=\"color:#555\">MODULE CODE SANDBOX</span>\n",
    "\n",
    "Use this space to practice writing and implementing all of the code from Coding Section of the online module. Insert new code cells as needed, and feel free to write notes to yourself in Markdown."
   ]
  },
  {
   "cell_type": "markdown",
   "metadata": {},
   "source": [
    "## I. IF statements allow conditional logic."
   ]
  },
  {
   "cell_type": "code",
   "execution_count": null,
   "metadata": {},
   "outputs": [],
   "source": []
  },
  {
   "cell_type": "code",
   "execution_count": null,
   "metadata": {},
   "outputs": [],
   "source": []
  },
  {
   "cell_type": "code",
   "execution_count": null,
   "metadata": {},
   "outputs": [],
   "source": []
  },
  {
   "cell_type": "markdown",
   "metadata": {},
   "source": [
    "## II. FOR loops allow iteration."
   ]
  },
  {
   "cell_type": "code",
   "execution_count": null,
   "metadata": {},
   "outputs": [],
   "source": []
  },
  {
   "cell_type": "code",
   "execution_count": null,
   "metadata": {},
   "outputs": [],
   "source": []
  },
  {
   "cell_type": "code",
   "execution_count": null,
   "metadata": {},
   "outputs": [],
   "source": []
  },
  {
   "cell_type": "markdown",
   "metadata": {},
   "source": [
    "## III. List comprehensions help construct new lists elegantly."
   ]
  },
  {
   "cell_type": "code",
   "execution_count": null,
   "metadata": {},
   "outputs": [],
   "source": []
  },
  {
   "cell_type": "code",
   "execution_count": null,
   "metadata": {},
   "outputs": [],
   "source": []
  },
  {
   "cell_type": "code",
   "execution_count": null,
   "metadata": {},
   "outputs": [],
   "source": []
  },
  {
   "cell_type": "markdown",
   "metadata": {},
   "source": [
    "## IV. Functions are blocks of reusable, modular code."
   ]
  },
  {
   "cell_type": "code",
   "execution_count": null,
   "metadata": {},
   "outputs": [],
   "source": []
  },
  {
   "cell_type": "code",
   "execution_count": null,
   "metadata": {},
   "outputs": [],
   "source": []
  },
  {
   "cell_type": "code",
   "execution_count": null,
   "metadata": {},
   "outputs": [],
   "source": []
  },
  {
   "cell_type": "markdown",
   "metadata": {},
   "source": [
    "#### <span style=\"color:#555\">EXERCISES</span>\n",
    "\n",
    "Complete each of the following exercises.\n",
    "\n",
    "## <span style=\"color:RoyalBlue\">Exercise 3.1 - Optimal Start</span>\n",
    "\n",
    "#### In the previous module...\n",
    "\n",
    "In the previous module, you created a location dictionary for the boroughs we're interested in visting. Now we're ready to pick a location to start with.\n",
    "\n",
    "#### A.) First, let's import <code style=\"color:steelblue\">location_dict</code> again using <code style=\"color:steelblue\">pickle</code>. Run this cell."
   ]
  },
  {
   "cell_type": "code",
   "execution_count": null,
   "metadata": {},
   "outputs": [],
   "source": [
    "import pickle\n",
    "\n",
    "# Read object from disk\n",
    "with open('location_dict.pkl', 'rb') as f:\n",
    "    location_dict = pickle.load(f)"
   ]
  },
  {
   "cell_type": "markdown",
   "metadata": {},
   "source": [
    "Now we have the <code style=\"color:steelblue\">location_dict</code> object again, but what if we forgot which keys are in the dictionary? \n",
    "\n",
    "#### B.) Print the keys in <code style=\"color:steelblue\">location_dict</code>."
   ]
  },
  {
   "cell_type": "code",
   "execution_count": null,
   "metadata": {},
   "outputs": [],
   "source": [
    "# Print the keys in location_dict\n"
   ]
  },
  {
   "cell_type": "markdown",
   "metadata": {},
   "source": [
    "<strong style=\"color:RoyalBlue\">Expected output:</strong>\n",
    "\n",
    "<pre>dict_keys(['Southwark', 'Redbridge', 'Outer London', 'Inner London', 'Camden', 'Brent'])</pre>"
   ]
  },
  {
   "cell_type": "markdown",
   "metadata": {},
   "source": [
    "Ah, yes... Now, we need to choose between starting with <code style=\"color:steelblue\">'Outer London'</code> or with <code style=\"color:steelblue\">'Inner London'</code>. We should start with the list with more locations, so let's find which one it is.\n",
    "\n",
    "#### C.) Write code, using <code style=\"color:steelblue\">if</code> statements, that does the following:\n",
    "* **If** our Inner London list has more locations than our Outer London list, print the message:\n",
    "\n",
    "\n",
    "<pre style=\"color:steelblue\">I want to start in Inner London.</pre>\n",
    "\n",
    "\n",
    "* **Else** if our Outer London list has more locations than our Inner London list, print the message:\n",
    "\n",
    "    \n",
    "<pre style=\"color:steelblue\">I want to start in Outer London.</pre>\n",
    "\n",
    "\n",
    "* **Else** (i.e. they have the same number of locations), print the message:\n",
    "\n",
    "\n",
    "<pre style=\"color:steelblue\">Either is fine. I'll flip a coin.</pre>\n",
    "\n"
   ]
  },
  {
   "cell_type": "code",
   "execution_count": null,
   "metadata": {},
   "outputs": [],
   "source": []
  },
  {
   "cell_type": "markdown",
   "metadata": {},
   "source": [
    "## <span style=\"color:RoyalBlue\">Exercise 3.2 - Judging a Location by Its Cover</span>\n",
    "\n",
    "In the previous exercise, we said that we wanted to start with the list with the most locations.\n",
    "* We already knew that it would be either Inner London or Outer London because those lists are combinations of 2 of the others.\n",
    "* However, what if we didn't know that?\n",
    "\n",
    "#### A.) For each key in <code style=\"color:steelblue\">location_dict</code>, print the number of locations in its list, like so:\n",
    "\n",
    "<pre style=\"color:steelblue\">\n",
    "Southwalk has 13 locations.\n",
    "Redbridge has ...\n",
    "</pre> \n",
    "\n",
    "* **Tip:** You can iterate through keys and values of a dictionary at the same time using <code style=\"color:steelblue\">.items()</code>, like so:\n",
    "\n",
    "<pre style=\"color:#bbb\">\n",
    "for <strong style=\"color:steelblue\">key, value</strong> in location_dict<strong style=\"color:steelblue\">.items()</strong>:\n",
    "    <span style=\"color:dimgray\"># code block</span>\n",
    "</pre>      \n",
    "        \n",
    "* **Tip:** Remember, to insert multiple dynamic values into a string, you can just add more places to <code style=\"color:steelblue\">.format()</code>, like so:\n",
    "\n",
    "<pre style=\"color:#bbb\">\n",
    "'<strong style=\"color:steelblue\">{}</strong> has <strong style=\"color:steelblue\">{}</strong> locations.'.format(<strong style=\"color:steelblue\">first_value, second_value</strong>)\n",
    "</pre>"
   ]
  },
  {
   "cell_type": "code",
   "execution_count": null,
   "metadata": {},
   "outputs": [],
   "source": [
    "# For each key in location_dict, print the number of locations in its list\n"
   ]
  },
  {
   "cell_type": "markdown",
   "metadata": {},
   "source": [
    "<strong style=\"color:RoyalBlue\">Expected output:</strong>\n",
    "\n",
    "<pre>\n",
    "Southwark has 13 locations.\n",
    "Redbridge has 16 locations.\n",
    "Outer London has 35 locations.\n",
    "Inner London has 32 locations.\n",
    "Camden has 19 locations.\n",
    "Brent has 19 locations.\n",
    "</pre>"
   ]
  },
  {
   "cell_type": "markdown",
   "metadata": {},
   "source": [
    "Next, we're going into introduce two simple concepts: <code>in</code> and <code>any()</code>.\n",
    "\n",
    "\n",
    "When used as an \"operator,\" <code>in</code> checks if one object is \"in\" another object. This behaves differently for different object types. For example, you can check to see if a **string** is in another **string**. You can also check to see if a specific object is a member of a **list**. Try it out yourself!\n",
    "\n",
    "Note that this is NOT the same use case as the **in keyword** from a **for loop iterable**. Instead, in this context, \"A in B\" translates to \"does B contain A?\"\n",
    "\n",
    "#### B.) First, select the first 5 *Inner London* locations and save them in a separate list. Display the 5 location names."
   ]
  },
  {
   "cell_type": "code",
   "execution_count": null,
   "metadata": {},
   "outputs": [],
   "source": []
  },
  {
   "cell_type": "markdown",
   "metadata": {},
   "source": [
    "#### C.) Next, check the following:\n",
    "* Is <code>'Primrose Hill'</code> in <code>location_dict['Outer London']</code>?\n",
    "* Is <code>'Primrose Hill'</code> in <code>location_dict['Inner London']</code>?\n",
    "* Is the substring <code>'Primrose'</code> in the string <code>'Primrose Hill'</code>?\n",
    "* Do all of the outputs make sense to you?"
   ]
  },
  {
   "cell_type": "code",
   "execution_count": null,
   "metadata": {
    "scrolled": true
   },
   "outputs": [],
   "source": []
  },
  {
   "cell_type": "markdown",
   "metadata": {},
   "source": [
    "<strong style=\"color:RoyalBlue\">Expected output:</strong>\n",
    "\n",
    "<pre>\n",
    "False\n",
    "True\n",
    "True\n",
    "</pre>"
   ]
  },
  {
   "cell_type": "markdown",
   "metadata": {},
   "source": [
    "The Python built-in function <code>any()</code> checks if any of the values in a list-like object are true. To illustrate this, let's first combine <code>in</code> with a **list comprehension** to confirm that none of our sampled Inner London locations are in Outer London.\n",
    "\n",
    "#### D.) Use a list comprehension to confirm that none of our sampled Inner London locations are in Outer London.\n",
    "* Use the sampled list of 5 locations from (B).\n",
    "* By using <code>in</code>, you should be able to create a new list of booleans.\n",
    "* Display the new list of booleans."
   ]
  },
  {
   "cell_type": "code",
   "execution_count": null,
   "metadata": {},
   "outputs": [],
   "source": []
  },
  {
   "cell_type": "markdown",
   "metadata": {},
   "source": [
    "<strong style=\"color:RoyalBlue\">Expected output:</strong>\n",
    "\n",
    "<pre>\n",
    "[False, False, False, False, False]\n",
    "</pre>"
   ]
  },
  {
   "cell_type": "markdown",
   "metadata": {},
   "source": [
    "#### E.) Now check if <code>any()</code> of our sampled Inner London locations are in Outer London.\n",
    "* Your output should be a single Boolean.\n",
    "* Just for illustrative purposes, create another list with those 5 sampled Inner London locations plus 'Wembley Park' (which is in Outer London). Run your <code>any()</code> check again."
   ]
  },
  {
   "cell_type": "code",
   "execution_count": null,
   "metadata": {},
   "outputs": [],
   "source": [
    "# Check if any sampled Inner London locations are in Outer London\n"
   ]
  },
  {
   "cell_type": "markdown",
   "metadata": {},
   "source": [
    "<strong style=\"color:RoyalBlue\">Expected output:</strong>\n",
    "\n",
    "<pre>\n",
    "False\n",
    "</pre>"
   ]
  },
  {
   "cell_type": "code",
   "execution_count": null,
   "metadata": {},
   "outputs": [],
   "source": [
    "# Check sampled Inner London locations PLUS Wembley Park\n"
   ]
  },
  {
   "cell_type": "markdown",
   "metadata": {},
   "source": [
    "<strong style=\"color:RoyalBlue\">Expected output:</strong>\n",
    "\n",
    "<pre>\n",
    "True\n",
    "</pre>"
   ]
  },
  {
   "cell_type": "markdown",
   "metadata": {},
   "source": [
    "Now that we have <code>in</code> and <code>any()</code>, we have everything we need to \"judge a location by its cover.\" Let's wrap up this exercise.\n",
    "\n",
    "#### F.) Give each location in Outer London a first impression based on its name. Combine <code style=\"color:steelblue\">if</code> and <code style=\"color:steelblue\">for</code> statements. For each location in Outer London...\n",
    "* **If** its name has <code style=\"color:steelblue\">'Farm'</code>, <code style=\"color:steelblue\">'Park'</code>, <code style=\"color:steelblue\">'Hill'</code>, or <code style=\"color:steelblue\">'Green'</code> in it, print:\n",
    "\n",
    "<pre style=\"color:steelblue\">{<strong>name</strong>} sounds pleasant.</pre>\n",
    "\n",
    "* **Else If** its name has <code style=\"color:steelblue\">'Royal'</code>, <code style=\"color:steelblue\">'Queen'</code>, or <code style=\"color:steelblue\">'King'</code> in it, print:\n",
    "\n",
    "<pre style=\"color:steelblue\">{<strong>name</strong>} sounds grand.</pre>\n",
    "    \n",
    "* If its name doesn't sound pleasant or grand, just ignore it.\n",
    "* **Tip:** If you want to check if any word from a list is found in a string, you can use <code style=\"color:steelblue\">any()</code>, like so:\n",
    "\n",
    "<pre style=\"color:steelblue\">\n",
    "any( word in name for word in <strong>list_of_words</strong> )\n",
    "</pre>"
   ]
  },
  {
   "cell_type": "code",
   "execution_count": null,
   "metadata": {},
   "outputs": [],
   "source": [
    "pleasant_sounding = ['Farm', 'Park', 'Hill', 'Green']\n",
    "royal_sounding = ['Royal', 'Queen', 'King']\n",
    "\n",
    "# Print first impression of each location in Outer London based on its names\n",
    "\n",
    "\n"
   ]
  },
  {
   "cell_type": "markdown",
   "metadata": {},
   "source": [
    "<strong style=\"color:RoyalBlue\">Expected output:</strong>\n",
    "\n",
    "<pre>\n",
    "Brent Park sounds pleasant.\n",
    "Dollis Hill sounds pleasant.\n",
    "Kensal Green sounds pleasant.\n",
    "Kingsbury sounds grand.\n",
    "Queen's Park sounds pleasant.\n",
    "Wembley Park sounds pleasant.\n",
    "Park Royal sounds pleasant.\n",
    "Seven Kings sounds grand.\n",
    "Gants Hill sounds pleasant.\n",
    "Woodford Green sounds pleasant.\n",
    "Newbury Park sounds pleasant.\n",
    "</pre>"
   ]
  },
  {
   "cell_type": "markdown",
   "metadata": {},
   "source": [
    "## <span style=\"color:RoyalBlue\">Exercise 3.3 - Pleasant Comprehensions</span>\n",
    "\n",
    "#### A.) Using a list comprehension, create a new list called <code style=\"color:steelblue\">pleasant_locations</code>.\n",
    "* It should contain locations in Outer London that are <code style=\"color:steelblue\">pleasant_sounding</code>.\n",
    "* Then print the list.\n",
    "* **Tip:** To check if any word from a list is found in a string, you can use <code style=\"color:steelblue\">any()</code>. See <span style=\"color:RoyalBlue\">Exercise 3.2</span> if you need a reminder."
   ]
  },
  {
   "cell_type": "code",
   "execution_count": null,
   "metadata": {},
   "outputs": [],
   "source": [
    "# Create pleasant_locations list using a list comprehension\n",
    "\n",
    "\n",
    "# Print the pleasant-sounding locations\n",
    "\n"
   ]
  },
  {
   "cell_type": "markdown",
   "metadata": {},
   "source": [
    "<strong style=\"color:RoyalBlue\">Expected output:</strong>\n",
    "\n",
    "<pre>\n",
    "['Brent Park', 'Dollis Hill', 'Kensal Green', \"Queen's Park\", 'Wembley Park', 'Park Royal', 'Gants Hill', 'Woodford Green', 'Newbury Park']\n",
    "</pre>"
   ]
  },
  {
   "cell_type": "markdown",
   "metadata": {},
   "source": [
    "#### B.) Print the number pleasant-sounding locations we have."
   ]
  },
  {
   "cell_type": "code",
   "execution_count": null,
   "metadata": {
    "scrolled": true
   },
   "outputs": [],
   "source": [
    "# Print number of pleasant-sounding locations\n"
   ]
  },
  {
   "cell_type": "markdown",
   "metadata": {},
   "source": [
    "<strong style=\"color:RoyalBlue\">Expected output:</strong>\n",
    "\n",
    "<pre>\n",
    "9\n",
    "</pre>"
   ]
  },
  {
   "cell_type": "markdown",
   "metadata": {},
   "source": [
    "## <span style=\"color:RoyalBlue\">Exercise 3.4 - Functional Filters</span>\n",
    "\n",
    "For the final exercise of this module, we're going to practice writing functions.\n",
    "\n",
    "#### A.) Write a function called <code style=\"color:steelblue\">filter_locations</code> that takes two arguments:\n",
    "1. <code style=\"color:steelblue\">location_list</code>\n",
    "2. <code style=\"color:steelblue\">words_list</code>\n",
    "\n",
    "The function should return the list of names in <code style=\"color:steelblue\">location_list</code> that have any word in <code style=\"color:steelblue\">words_list</code>.\n",
    "* **Tip:** For help with the code block, see your answer in <span style=\"color:RoyalBlue\">Exercise 3.3</span>."
   ]
  },
  {
   "cell_type": "code",
   "execution_count": null,
   "metadata": {},
   "outputs": [],
   "source": []
  },
  {
   "cell_type": "markdown",
   "metadata": {},
   "source": [
    "Next, let's test that function. \n",
    "\n",
    "#### B.) Create a new <code style=\"color:steelblue\">pleasant_locations</code> list using the function you just wrote.\n",
    "* Pass in the list of Outer London locations and the list of pleasant-sounding words.\n",
    "* You should get the same locations that you got in <span style=\"color:RoyalBlue\">Exercise 3.3</span>.\n",
    "* Print the new list."
   ]
  },
  {
   "cell_type": "code",
   "execution_count": null,
   "metadata": {},
   "outputs": [],
   "source": [
    "# Create pleasant_locations using filter_locations()\n",
    "\n",
    "\n",
    "# Print list of pleasant-sounding locations\n",
    "\n"
   ]
  },
  {
   "cell_type": "markdown",
   "metadata": {},
   "source": [
    "<strong style=\"color:RoyalBlue\">Expected output:</strong>\n",
    "\n",
    "<pre>\n",
    "['Brent Park', 'Dollis Hill', 'Kensal Green', \"Queen's Park\", 'Wembley Park', 'Park Royal', 'Gants Hill', 'Woodford Green', 'Newbury Park']\n",
    "</pre>"
   ]
  },
  {
   "cell_type": "markdown",
   "metadata": {},
   "source": [
    "#### C.) Next, let's use this handy function to create a <code style=\"color:steelblue\">grand_locations</code> list for locations that sound grand.\n",
    "* Pass in the list of Outer London locations and the list of grand-sounding words.\n",
    "* Print the new list and confirm the expected output"
   ]
  },
  {
   "cell_type": "code",
   "execution_count": null,
   "metadata": {},
   "outputs": [],
   "source": [
    "# Create grand_locations using filter_locations()\n",
    "\n",
    "\n",
    "# Print list of grand-sounding locations\n",
    "\n"
   ]
  },
  {
   "cell_type": "markdown",
   "metadata": {},
   "source": [
    "<strong style=\"color:RoyalBlue\">Expected output:</strong>\n",
    "\n",
    "<pre>\n",
    "['Kingsbury', \"Queen's Park\", 'Park Royal', 'Seven Kings']\n",
    "</pre>"
   ]
  },
  {
   "cell_type": "markdown",
   "metadata": {},
   "source": [
    "Awesome, are there any locations in both lists?\n",
    "\n",
    "#### D.) Display the locations in both the <code style=\"color:steelblue\">pleasant_locations</code> and <code style=\"color:steelblue\">grand_locations</code> lists.\n",
    "* You can compare these lists manually because they are short, but try using <code style=\"color:steelblue\">sets</code> and the <code style=\"color:steelblue\">.intersection()</code> function (or <code style=\"color:steelblue\">&</code> operator)!"
   ]
  },
  {
   "cell_type": "code",
   "execution_count": null,
   "metadata": {},
   "outputs": [],
   "source": [
    "# Display locations that sound pleasant and grand\n"
   ]
  },
  {
   "cell_type": "markdown",
   "metadata": {},
   "source": [
    "<strong style=\"color:RoyalBlue\">Expected output:</strong>\n",
    "\n",
    "<pre>\n",
    "{'Park Royal', \"Queen's Park\"}\n",
    "</pre>"
   ]
  },
  {
   "cell_type": "markdown",
   "metadata": {},
   "source": [
    "Great, we'll start with these for our visit. As a side note, notice how Python automatically used double quotes to enclose <code>\"Queen's Park\"</code> so that you don't have to worry about escaping the apostrophe.\n",
    "\n",
    "#### The mission continues in the next module...\n",
    "\n",
    "In this module, we filtered our lists of locations down to two: Park Royal and Queen's Park. In the next module, we'll visit Park Royal and talk with some local businesses there.*"
   ]
  }
 ],
 "metadata": {
  "anaconda-cloud": {},
  "kernelspec": {
   "display_name": "Python 3",
   "language": "python",
   "name": "python3"
  },
  "language_info": {
   "codemirror_mode": {
    "name": "ipython",
    "version": 3
   },
   "file_extension": ".py",
   "mimetype": "text/x-python",
   "name": "python",
   "nbconvert_exporter": "python",
   "pygments_lexer": "ipython3",
   "version": "3.7.0"
  }
 },
 "nbformat": 4,
 "nbformat_minor": 1
}
