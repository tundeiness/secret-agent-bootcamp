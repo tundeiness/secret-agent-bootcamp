{
 "cells": [
  {
   "cell_type": "markdown",
   "metadata": {},
   "source": [
    "#### COMPANION WORKBOOK\n",
    "\n",
    "# Flow and Functions\n",
    "\n",
    "To make the most out of this program, we strongly recommend you to:\n",
    "1. First practice writing and implementing all of the code from Coding Section of the online module.\n",
    "2. Then, freely experiment with and explore any interesting or confusing concepts. Simply insert new code cells and then use the help of Google and official documentation.\n",
    "3. Finally, tackle all of the exercises at the end. They will help you tie everything together and **learn in context.**\n",
    "\n",
    "#### <span style=\"color:#555\">MODULE CODE SANDBOX</span>\n",
    "\n",
    "Use this space to practice writing and implementing all of the code from Coding Section of the online module. Insert new code cells as needed, and feel free to write notes to yourself in Markdown."
   ]
  },
  {
   "cell_type": "markdown",
   "metadata": {},
   "source": [
    "## I. IF statements allow conditional logic."
   ]
  },
  {
   "cell_type": "code",
   "execution_count": 1,
   "metadata": {},
   "outputs": [
    {
     "name": "stdout",
     "output_type": "stream",
     "text": [
      "we have enough fuel for zombie apocalypse\n"
     ]
    }
   ],
   "source": [
    "current_fuel = 85\n",
    "\n",
    "if current_fuel >= 80:\n",
    "    print('we have enough fuel for zombie apocalypse')"
   ]
  },
  {
   "cell_type": "code",
   "execution_count": 3,
   "metadata": {},
   "outputs": [],
   "source": [
    "current_fuel = 50\n",
    "\n",
    "if current_fuel >= 80:\n",
    "    print('we should have enough fuel for zombie apocalypse')"
   ]
  },
  {
   "cell_type": "code",
   "execution_count": 4,
   "metadata": {},
   "outputs": [
    {
     "name": "stdout",
     "output_type": "stream",
     "text": [
      "Restock! we need at least 30 gallons of fuel\n"
     ]
    }
   ],
   "source": [
    "current_fuel = 50\n",
    "\n",
    "if current_fuel >= 80:\n",
    "    print('we have enough fuel for zombie apocalypse')\n",
    "else:\n",
    "    print('Restock! we need at least {} gallons of fuel'.format(80 - current_fuel))"
   ]
  },
  {
   "cell_type": "code",
   "execution_count": 5,
   "metadata": {},
   "outputs": [
    {
     "name": "stdout",
     "output_type": "stream",
     "text": [
      "ALERT! WE ARE WAY TOO LATE ON FUEL\n"
     ]
    }
   ],
   "source": [
    "current_fuel = 50\n",
    "\n",
    "if current_fuel >= 80:\n",
    "    print('we have enough fuel for zombie apocalypse')\n",
    "elif current_fuel < 60:\n",
    "    print('ALERT! WE ARE WAY TOO LATE ON FUEL')\n",
    "else:\n",
    "    print('Restock! we need at least {} gallons of fuel'.format(80 - current_fuel))"
   ]
  },
  {
   "cell_type": "code",
   "execution_count": null,
   "metadata": {},
   "outputs": [],
   "source": []
  },
  {
   "cell_type": "markdown",
   "metadata": {},
   "source": [
    "## II. FOR loops allow iteration."
   ]
  },
  {
   "cell_type": "code",
   "execution_count": 6,
   "metadata": {},
   "outputs": [
    {
     "name": "stdout",
     "output_type": "stream",
     "text": [
      "0\n",
      "1\n",
      "2\n",
      "3\n",
      "4\n",
      "5\n",
      "6\n"
     ]
    }
   ],
   "source": [
    "for num in [0,1,2,3,4,5,6]:\n",
    "    print(num)"
   ]
  },
  {
   "cell_type": "code",
   "execution_count": 8,
   "metadata": {},
   "outputs": [
    {
     "name": "stdout",
     "output_type": "stream",
     "text": [
      "0\n",
      "1\n",
      "2\n",
      "3\n",
      "4\n",
      "5\n",
      "6\n"
     ]
    }
   ],
   "source": [
    "for num in range(7):\n",
    "    print(num)"
   ]
  },
  {
   "cell_type": "code",
   "execution_count": 9,
   "metadata": {},
   "outputs": [
    {
     "name": "stdout",
     "output_type": "stream",
     "text": [
      "6\n",
      "5\n",
      "4\n",
      "3\n",
      "2\n",
      "1\n",
      "0\n"
     ]
    }
   ],
   "source": [
    "for num in reversed(range(7)):\n",
    "    print(num)"
   ]
  },
  {
   "cell_type": "code",
   "execution_count": 14,
   "metadata": {},
   "outputs": [
    {
     "name": "stdout",
     "output_type": "stream",
     "text": [
      "14\n",
      "13\n",
      "buzzzzz\n",
      "11\n",
      "10\n",
      "buzzzzz\n",
      "8\n",
      "7\n",
      "buzzzzz\n",
      "5\n",
      "4\n",
      "buzzzzz\n",
      "2\n",
      "1\n",
      "liftoff!\n"
     ]
    }
   ],
   "source": [
    "range_list = range(15)\n",
    "\n",
    "for num in reversed(range_list):\n",
    "    if num == 0:\n",
    "        print('liftoff!')\n",
    "    elif num % 3 == 0:\n",
    "        print('buzzzzz')\n",
    "    else:\n",
    "        print(num)\n",
    "\n",
    "    "
   ]
  },
  {
   "cell_type": "code",
   "execution_count": 19,
   "metadata": {},
   "outputs": [
    {
     "name": "stdout",
     "output_type": "stream",
     "text": [
      "4 * 6 = 24\n",
      "4 * 4 = 16\n",
      "4 * 2 = 8\n",
      "32 * 6 = 192\n",
      "32 * 4 = 128\n",
      "32 * 2 = 64\n",
      "2 * 6 = 12\n",
      "2 * 4 = 8\n",
      "2 * 2 = 4\n",
      "1 * 6 = 6\n",
      "1 * 4 = 4\n",
      "1 * 2 = 2\n"
     ]
    }
   ],
   "source": [
    "list_a = [4,32,2,1] \n",
    "list_b = [6,4,2]\n",
    "for a in list_a: \n",
    "    for b in list_b: \n",
    "        print(a, '*', b, '=', a * b)"
   ]
  },
  {
   "cell_type": "code",
   "execution_count": 21,
   "metadata": {},
   "outputs": [
    {
     "name": "stdout",
     "output_type": "stream",
     "text": [
      "[0, 2, 4, 6, 8, 10, 12, 14, 16, 18, 20, 22, 24, 26, 28, 30, 32, 34, 36, 38, 40, 42, 44, 46, 48, 50, 52, 54, 56, 58, 60, 62, 64, 66, 68, 70, 72, 74, 76, 78, 80, 82, 84, 86, 88, 90, 92, 94, 96, 98, 100, 102, 104, 106, 108, 110, 112, 114, 116, 118, 120, 122, 124, 126, 128, 130, 132, 134, 136, 138, 140, 142, 144, 146, 148, 150, 152, 154, 156, 158, 160, 162, 164, 166, 168, 170, 172, 174, 176, 178, 180, 182, 184, 186, 188, 190, 192, 194, 196, 198, 200, 202, 204, 206, 208, 210, 212, 214, 216, 218, 220, 222, 224, 226, 228, 230, 232, 234, 236, 238, 240, 242, 244, 246, 248, 250, 252, 254, 256, 258, 260, 262, 264, 266, 268, 270, 272, 274, 276, 278, 280, 282, 284, 286, 288, 290, 292, 294, 296, 298, 300, 302, 304, 306, 308, 310, 312, 314, 316, 318, 320, 322, 324, 326, 328, 330, 332, 334, 336, 338, 340, 342, 344, 346, 348, 350, 352, 354, 356, 358, 360, 362, 364, 366, 368, 370, 372, 374, 376, 378, 380, 382, 384, 386, 388, 390, 392, 394, 396, 398, 400, 402, 404, 406, 408, 410, 412, 414, 416, 418, 420, 422, 424, 426, 428, 430, 432, 434, 436, 438, 440, 442, 444, 446, 448, 450, 452, 454, 456, 458, 460, 462, 464, 466, 468, 470, 472, 474, 476, 478, 480, 482, 484, 486, 488, 490, 492, 494, 496, 498, 500, 502, 504, 506, 508, 510, 512, 514, 516, 518, 520, 522, 524, 526, 528, 530, 532, 534, 536, 538, 540, 542, 544, 546, 548, 550, 552, 554, 556, 558, 560, 562, 564, 566, 568, 570, 572, 574, 576, 578, 580, 582, 584, 586, 588, 590, 592, 594, 596, 598, 600, 602, 604, 606, 608, 610, 612, 614, 616, 618, 620, 622, 624, 626, 628, 630, 632, 634, 636, 638, 640, 642, 644, 646, 648, 650, 652, 654, 656, 658, 660, 662, 664, 666, 668, 670, 672, 674, 676, 678, 680, 682, 684, 686, 688, 690, 692, 694, 696, 698, 700, 702, 704, 706, 708, 710, 712, 714, 716, 718, 720, 722, 724, 726, 728, 730, 732, 734, 736, 738, 740, 742, 744, 746, 748, 750, 752, 754, 756, 758, 760, 762, 764, 766, 768, 770, 772, 774, 776, 778, 780, 782, 784, 786, 788, 790, 792, 794, 796, 798, 800, 802, 804, 806, 808, 810, 812, 814, 816, 818, 820, 822, 824, 826, 828, 830, 832, 834, 836, 838, 840, 842, 844, 846, 848, 850, 852, 854, 856, 858, 860, 862, 864, 866, 868, 870, 872, 874, 876, 878, 880, 882, 884, 886, 888, 890, 892, 894, 896, 898, 900, 902, 904, 906, 908, 910, 912, 914, 916, 918, 920, 922, 924, 926, 928, 930, 932, 934, 936, 938, 940, 942, 944, 946, 948, 950, 952, 954, 956, 958, 960, 962, 964, 966, 968, 970, 972, 974, 976, 978, 980, 982, 984, 986, 988, 990, 992, 994, 996, 998]\n",
      "[1, 3, 5, 7, 9, 11, 13, 15, 17, 19, 21, 23, 25, 27, 29, 31, 33, 35, 37, 39, 41, 43, 45, 47, 49, 51, 53, 55, 57, 59, 61, 63, 65, 67, 69, 71, 73, 75, 77, 79, 81, 83, 85, 87, 89, 91, 93, 95, 97, 99, 101, 103, 105, 107, 109, 111, 113, 115, 117, 119, 121, 123, 125, 127, 129, 131, 133, 135, 137, 139, 141, 143, 145, 147, 149, 151, 153, 155, 157, 159, 161, 163, 165, 167, 169, 171, 173, 175, 177, 179, 181, 183, 185, 187, 189, 191, 193, 195, 197, 199, 201, 203, 205, 207, 209, 211, 213, 215, 217, 219, 221, 223, 225, 227, 229, 231, 233, 235, 237, 239, 241, 243, 245, 247, 249, 251, 253, 255, 257, 259, 261, 263, 265, 267, 269, 271, 273, 275, 277, 279, 281, 283, 285, 287, 289, 291, 293, 295, 297, 299, 301, 303, 305, 307, 309, 311, 313, 315, 317, 319, 321, 323, 325, 327, 329, 331, 333, 335, 337, 339, 341, 343, 345, 347, 349, 351, 353, 355, 357, 359, 361, 363, 365, 367, 369, 371, 373, 375, 377, 379, 381, 383, 385, 387, 389, 391, 393, 395, 397, 399, 401, 403, 405, 407, 409, 411, 413, 415, 417, 419, 421, 423, 425, 427, 429, 431, 433, 435, 437, 439, 441, 443, 445, 447, 449, 451, 453, 455, 457, 459, 461, 463, 465, 467, 469, 471, 473, 475, 477, 479, 481, 483, 485, 487, 489, 491, 493, 495, 497, 499, 501, 503, 505, 507, 509, 511, 513, 515, 517, 519, 521, 523, 525, 527, 529, 531, 533, 535, 537, 539, 541, 543, 545, 547, 549, 551, 553, 555, 557, 559, 561, 563, 565, 567, 569, 571, 573, 575, 577, 579, 581, 583, 585, 587, 589, 591, 593, 595, 597, 599, 601, 603, 605, 607, 609, 611, 613, 615, 617, 619, 621, 623, 625, 627, 629, 631, 633, 635, 637, 639, 641, 643, 645, 647, 649, 651, 653, 655, 657, 659, 661, 663, 665, 667, 669, 671, 673, 675, 677, 679, 681, 683, 685, 687, 689, 691, 693, 695, 697, 699, 701, 703, 705, 707, 709, 711, 713, 715, 717, 719, 721, 723, 725, 727, 729, 731, 733, 735, 737, 739, 741, 743, 745, 747, 749, 751, 753, 755, 757, 759, 761, 763, 765, 767, 769, 771, 773, 775, 777, 779, 781, 783, 785, 787, 789, 791, 793, 795, 797, 799, 801, 803, 805, 807, 809, 811, 813, 815, 817, 819, 821, 823, 825, 827, 829, 831, 833, 835, 837, 839, 841, 843, 845, 847, 849, 851, 853, 855, 857, 859, 861, 863, 865, 867, 869, 871, 873, 875, 877, 879, 881, 883, 885, 887, 889, 891, 893, 895, 897, 899, 901, 903, 905, 907, 909, 911, 913, 915, 917, 919, 921, 923, 925, 927, 929, 931, 933, 935, 937, 939, 941, 943, 945, 947, 949, 951, 953, 955, 957, 959, 961, 963, 965, 967, 969, 971, 973, 975, 977, 979, 981, 983, 985, 987, 989, 991, 993, 995, 997]\n"
     ]
    }
   ],
   "source": [
    "range_list = range(999)\n",
    "\n",
    "even_list = []\n",
    "odd_list = []\n",
    "\n",
    "\n",
    "for num in range_list:\n",
    "    if num % 2 == 0:\n",
    "        even_list.append(num)\n",
    "    else:\n",
    "        odd_list.append(num)\n",
    "        \n",
    "print(even_list)\n",
    "print(odd_list)"
   ]
  },
  {
   "cell_type": "code",
   "execution_count": 26,
   "metadata": {},
   "outputs": [
    {
     "name": "stdout",
     "output_type": "stream",
     "text": [
      "[0, 1, 4, 9, 16, 25, 36, 49, 64, 81]\n",
      "[996004, False]\n"
     ]
    }
   ],
   "source": [
    "square_list = [num ** 2 for num in range(10)]\n",
    "print(square_list)\n",
    "\n",
    "square_listing = [num ** 2, num in reversed(range(10))]\n",
    "print(square_listing)"
   ]
  },
  {
   "cell_type": "code",
   "execution_count": 27,
   "metadata": {},
   "outputs": [
    {
     "name": "stdout",
     "output_type": "stream",
     "text": [
      "[0, 15, 30, 45]\n"
     ]
    }
   ],
   "source": [
    "cond_list = [num * 5 for num in range(10) if num % 3 == 0]\n",
    "print(cond_list)"
   ]
  },
  {
   "cell_type": "code",
   "execution_count": 32,
   "metadata": {},
   "outputs": [
    {
     "name": "stdout",
     "output_type": "stream",
     "text": [
      "['0 is Even', 'Odd', '2 is Even', 'Odd', '4 is Even', 'Odd', '6 is Even', 'Odd', '8 is Even', 'Odd', '10 is Even', 'Odd', '12 is Even', 'Odd', '14 is Even', 'Odd', '16 is Even', 'Odd', '18 is Even', 'Odd', '20 is Even', 'Odd', '22 is Even', 'Odd', '24 is Even']\n"
     ]
    }
   ],
   "source": [
    "even_odd_labels = ['{} is Even'.format(num) if num % 2 == 0 else 'Odd' for num in range(25)]\n",
    "print(even_odd_labels)"
   ]
  },
  {
   "cell_type": "code",
   "execution_count": 33,
   "metadata": {},
   "outputs": [
    {
     "name": "stdout",
     "output_type": "stream",
     "text": [
      "{0, 2, 4, 6, 8, 10, 12, 14, 16, 18, 20, 22, 24, 26, 28, 30, 32, 34, 36, 38, 40, 42, 44, 46, 48}\n"
     ]
    }
   ],
   "source": [
    "double_set = {num * 2 for num in range(25)}\n",
    "\n",
    "print(double_set)"
   ]
  },
  {
   "cell_type": "code",
   "execution_count": null,
   "metadata": {},
   "outputs": [],
   "source": []
  },
  {
   "cell_type": "markdown",
   "metadata": {},
   "source": [
    "## III. List comprehensions help construct new lists elegantly."
   ]
  },
  {
   "cell_type": "code",
   "execution_count": 34,
   "metadata": {},
   "outputs": [
    {
     "name": "stdout",
     "output_type": "stream",
     "text": [
      "[0, 1, 4, 9, 16, 25, 36, 49, 64, 81]\n",
      "[996004, False]\n"
     ]
    }
   ],
   "source": [
    "square_list = [num ** 2 for num in range(10)]\n",
    "print(square_list)\n",
    "\n",
    "square_listing = [num ** 2, num in reversed(range(10))]\n",
    "print(square_listing)"
   ]
  },
  {
   "cell_type": "code",
   "execution_count": 35,
   "metadata": {},
   "outputs": [
    {
     "name": "stdout",
     "output_type": "stream",
     "text": [
      "[0, 15, 30, 45]\n"
     ]
    }
   ],
   "source": [
    "cond_list = [num * 5 for num in range(10) if num % 3 == 0]\n",
    "print(cond_list)"
   ]
  },
  {
   "cell_type": "code",
   "execution_count": 36,
   "metadata": {},
   "outputs": [
    {
     "name": "stdout",
     "output_type": "stream",
     "text": [
      "['0 is Even', 'Odd', '2 is Even', 'Odd', '4 is Even', 'Odd', '6 is Even', 'Odd', '8 is Even', 'Odd', '10 is Even', 'Odd', '12 is Even', 'Odd', '14 is Even', 'Odd', '16 is Even', 'Odd', '18 is Even', 'Odd', '20 is Even', 'Odd', '22 is Even', 'Odd', '24 is Even']\n"
     ]
    }
   ],
   "source": [
    "even_odd_labels = ['{} is Even'.format(num) if num % 2 == 0 else 'Odd' for num in range(25)]\n",
    "print(even_odd_labels)"
   ]
  },
  {
   "cell_type": "code",
   "execution_count": 37,
   "metadata": {},
   "outputs": [
    {
     "name": "stdout",
     "output_type": "stream",
     "text": [
      "{0, 2, 4, 6, 8, 10, 12, 14, 16, 18, 20, 22, 24, 26, 28, 30, 32, 34, 36, 38, 40, 42, 44, 46, 48}\n"
     ]
    }
   ],
   "source": [
    "double_set = {num * 2 for num in range(25)}\n",
    "\n",
    "print(double_set)"
   ]
  },
  {
   "cell_type": "markdown",
   "metadata": {},
   "source": [
    "## IV. Functions are blocks of reusable, modular code."
   ]
  },
  {
   "cell_type": "code",
   "execution_count": 41,
   "metadata": {},
   "outputs": [
    {
     "name": "stdout",
     "output_type": "stream",
     "text": [
      "<class 'function'>\n"
     ]
    },
    {
     "data": {
      "text/plain": [
       "'Hello!'"
      ]
     },
     "execution_count": 41,
     "metadata": {},
     "output_type": "execute_result"
    }
   ],
   "source": [
    "def exciting_message(msg='Hello'):\n",
    "    text = msg + '!'\n",
    "    return text\n",
    "\n",
    "print(type(exciting_message))\n",
    "exciting_message('Johnny')\n",
    "exciting_message()"
   ]
  },
  {
   "cell_type": "code",
   "execution_count": 44,
   "metadata": {},
   "outputs": [
    {
     "name": "stdout",
     "output_type": "stream",
     "text": [
      "256\n",
      "729529\n"
     ]
    }
   ],
   "source": [
    "def sqr(x):\n",
    "    output = x**2\n",
    "    return output\n",
    "\n",
    "\n",
    "def cube(x):\n",
    "    output = x**3\n",
    "    return output\n",
    "\n",
    "print(sqr(16))\n",
    "print(sqr(23) + cube(90))"
   ]
  },
  {
   "cell_type": "code",
   "execution_count": 49,
   "metadata": {},
   "outputs": [
    {
     "name": "stdout",
     "output_type": "stream",
     "text": [
      "word up!...\n"
     ]
    }
   ],
   "source": [
    "def print_message(msg='Hello world', last='...'):\n",
    "    return msg + last\n",
    "\n",
    "\n",
    "def print_msg(msg='Hello world', last='...'):\n",
    "    output = msg + last\n",
    "    print(output)\n",
    "\n",
    "print_message()\n",
    "print_msg('word up!')"
   ]
  },
  {
   "cell_type": "markdown",
   "metadata": {},
   "source": [
    "#### <span style=\"color:#555\">EXERCISES</span>\n",
    "\n",
    "Complete each of the following exercises.\n",
    "\n",
    "## <span style=\"color:RoyalBlue\">Exercise 3.1 - Optimal Start</span>\n",
    "\n",
    "#### In the previous module...\n",
    "\n",
    "In the previous module, you created a location dictionary for the boroughs we're interested in visting. Now we're ready to pick a location to start with.\n",
    "\n",
    "#### A.) First, let's import <code style=\"color:steelblue\">location_dict</code> again using <code style=\"color:steelblue\">pickle</code>. Run this cell."
   ]
  },
  {
   "cell_type": "code",
   "execution_count": 50,
   "metadata": {},
   "outputs": [],
   "source": [
    "import pickle\n",
    "\n",
    "# Read object from disk\n",
    "with open('location_dict.pkl', 'rb') as f:\n",
    "    location_dict = pickle.load(f)"
   ]
  },
  {
   "cell_type": "markdown",
   "metadata": {},
   "source": [
    "Now we have the <code style=\"color:steelblue\">location_dict</code> object again, but what if we forgot which keys are in the dictionary? \n",
    "\n",
    "#### B.) Print the keys in <code style=\"color:steelblue\">location_dict</code>."
   ]
  },
  {
   "cell_type": "code",
   "execution_count": 51,
   "metadata": {},
   "outputs": [
    {
     "data": {
      "text/plain": [
       "dict_keys(['Brent', 'Camden', 'Redbridge', 'Southwark', 'Inner London', 'Outer London'])"
      ]
     },
     "execution_count": 51,
     "metadata": {},
     "output_type": "execute_result"
    }
   ],
   "source": [
    "# Print the keys in location_dict\n",
    "\n",
    "location_dict.keys()\n"
   ]
  },
  {
   "cell_type": "markdown",
   "metadata": {},
   "source": [
    "<strong style=\"color:RoyalBlue\">Expected output:</strong>\n",
    "\n",
    "<pre>dict_keys(['Southwark', 'Redbridge', 'Outer London', 'Inner London', 'Camden', 'Brent'])</pre>"
   ]
  },
  {
   "cell_type": "markdown",
   "metadata": {},
   "source": [
    "Ah, yes... Now, we need to choose between starting with <code style=\"color:steelblue\">'Outer London'</code> or with <code style=\"color:steelblue\">'Inner London'</code>. We should start with the list with more locations, so let's find which one it is.\n",
    "\n",
    "#### C.) Write code, using <code style=\"color:steelblue\">if</code> statements, that does the following:\n",
    "* **If** our Inner London list has more locations than our Outer London list, print the message:\n",
    "\n",
    "\n",
    "<pre style=\"color:steelblue\">I want to start in Inner London.</pre>\n",
    "\n",
    "\n",
    "* **Else** if our Outer London list has more locations than our Inner London list, print the message:\n",
    "\n",
    "    \n",
    "<pre style=\"color:steelblue\">I want to start in Outer London.</pre>\n",
    "\n",
    "\n",
    "* **Else** (i.e. they have the same number of locations), print the message:\n",
    "\n",
    "\n",
    "<pre style=\"color:steelblue\">Either is fine. I'll flip a coin.</pre>\n",
    "\n"
   ]
  },
  {
   "cell_type": "code",
   "execution_count": 54,
   "metadata": {},
   "outputs": [
    {
     "name": "stdout",
     "output_type": "stream",
     "text": [
      "I want to start in Outer London\n"
     ]
    }
   ],
   "source": [
    "if len(location_dict['Inner London']) > len(location_dict['Outer London']):\n",
    "    print('I want to start in Inner London.')\n",
    "elif len(location_dict['Outer London']) > len(location_dict['Inner London']):\n",
    "    print('I want to start in Outer London')\n",
    "else:\n",
    "    print(\"Either is fine. I'll flip a coin\")\n"
   ]
  },
  {
   "cell_type": "markdown",
   "metadata": {},
   "source": [
    "## <span style=\"color:RoyalBlue\">Exercise 3.2 - Judging a Location by Its Cover</span>\n",
    "\n",
    "In the previous exercise, we said that we wanted to start with the list with the most locations.\n",
    "* We already knew that it would be either Inner London or Outer London because those lists are combinations of 2 of the others.\n",
    "* However, what if we didn't know that?\n",
    "\n",
    "#### A.) For each key in <code style=\"color:steelblue\">location_dict</code>, print the number of locations in its list, like so:\n",
    "\n",
    "<pre style=\"color:steelblue\">\n",
    "Southwalk has 13 locations.\n",
    "Redbridge has ...\n",
    "</pre> \n",
    "\n",
    "* **Tip:** You can iterate through keys and values of a dictionary at the same time using <code style=\"color:steelblue\">.items()</code>, like so:\n",
    "\n",
    "<pre style=\"color:#bbb\">\n",
    "for <strong style=\"color:steelblue\">key, value</strong> in location_dict<strong style=\"color:steelblue\">.items()</strong>:\n",
    "    <span style=\"color:dimgray\"># code block</span>\n",
    "</pre>      \n",
    "        \n",
    "* **Tip:** Remember, to insert multiple dynamic values into a string, you can just add more places to <code style=\"color:steelblue\">.format()</code>, like so:\n",
    "\n",
    "<pre style=\"color:#bbb\">\n",
    "'<strong style=\"color:steelblue\">{}</strong> has <strong style=\"color:steelblue\">{}</strong> locations.'.format(<strong style=\"color:steelblue\">first_value, second_value</strong>)\n",
    "</pre>"
   ]
  },
  {
   "cell_type": "code",
   "execution_count": 64,
   "metadata": {},
   "outputs": [
    {
     "name": "stdout",
     "output_type": "stream",
     "text": [
      "Brent has 19 locations.\n",
      "Camden has 19 locations.\n",
      "Redbridge has 16 locations.\n",
      "Southwark has 13 locations.\n",
      "Inner London has 32 locations.\n",
      "Outer London has 35 locations.\n"
     ]
    }
   ],
   "source": [
    "# For each key in location_dict, print the number of locations in its list\n",
    "\n",
    "for key, value in location_dict.items():\n",
    "   print('{} has {} locations.'.format(key, len(location_dict[key])))\n"
   ]
  },
  {
   "cell_type": "markdown",
   "metadata": {},
   "source": [
    "<strong style=\"color:RoyalBlue\">Expected output:</strong>\n",
    "\n",
    "<pre>\n",
    "Southwark has 13 locations.\n",
    "Redbridge has 16 locations.\n",
    "Outer London has 35 locations.\n",
    "Inner London has 32 locations.\n",
    "Camden has 19 locations.\n",
    "Brent has 19 locations.\n",
    "</pre>"
   ]
  },
  {
   "cell_type": "markdown",
   "metadata": {},
   "source": [
    "Next, we're going into introduce two simple concepts: <code>in</code> and <code>any()</code>.\n",
    "\n",
    "\n",
    "When used as an \"operator,\" <code>in</code> checks if one object is \"in\" another object. This behaves differently for different object types. For example, you can check to see if a **string** is in another **string**. You can also check to see if a specific object is a member of a **list**. Try it out yourself!\n",
    "\n",
    "Note that this is NOT the same use case as the **in keyword** from a **for loop iterable**. Instead, in this context, \"A in B\" translates to \"does B contain A?\"\n",
    "\n",
    "#### B.) First, select the first 5 *Inner London* locations and save them in a separate list. Display the 5 location names."
   ]
  },
  {
   "cell_type": "code",
   "execution_count": 67,
   "metadata": {},
   "outputs": [
    {
     "name": "stdout",
     "output_type": "stream",
     "text": [
      "[\"King's Cross\", 'Dartmouth Park', 'Bloomsbury', 'Primrose Hill', 'St Pancras'] ['Willesden', \"Queen's Park\", 'Preston', 'Brent Park', 'Kilburn']\n"
     ]
    }
   ],
   "source": [
    "first_five_list_inner = location_dict['Inner London'][:5]\n",
    "first_five_list_outer = location_dict['Outer London'][:5]\n",
    "print(first_five_list_inner, first_five_list_outer)\n",
    "\n"
   ]
  },
  {
   "cell_type": "markdown",
   "metadata": {},
   "source": [
    "#### C.) Next, check the following:\n",
    "* Is <code>'Primrose Hill'</code> in <code>location_dict['Outer London']</code>?\n",
    "* Is <code>'Primrose Hill'</code> in <code>location_dict['Inner London']</code>?\n",
    "* Is the substring <code>'Primrose'</code> in the string <code>'Primrose Hill'</code>?\n",
    "* Do all of the outputs make sense to you?"
   ]
  },
  {
   "cell_type": "code",
   "execution_count": 75,
   "metadata": {
    "scrolled": true
   },
   "outputs": [
    {
     "name": "stdout",
     "output_type": "stream",
     "text": [
      "False\n",
      "True\n",
      "True\n"
     ]
    }
   ],
   "source": [
    "print('Primrose Hill' in first_five_list_outer)\n",
    "print('Primrose Hill' in first_five_list_inner)\n",
    "print('Primrose' in 'Primrose Hill')"
   ]
  },
  {
   "cell_type": "markdown",
   "metadata": {},
   "source": [
    "<strong style=\"color:RoyalBlue\">Expected output:</strong>\n",
    "\n",
    "<pre>\n",
    "False\n",
    "True\n",
    "True\n",
    "</pre>"
   ]
  },
  {
   "cell_type": "markdown",
   "metadata": {},
   "source": [
    "The Python built-in function <code>any()</code> checks if any of the values in a list-like object are true. To illustrate this, let's first combine <code>in</code> with a **list comprehension** to confirm that none of our sampled Inner London locations are in Outer London.\n",
    "\n",
    "#### D.) Use a list comprehension to confirm that none of our sampled Inner London locations are in Outer London.\n",
    "* Use the sampled list of 5 locations from (B).\n",
    "* By using <code>in</code>, you should be able to create a new list of booleans.\n",
    "* Display the new list of booleans."
   ]
  },
  {
   "cell_type": "code",
   "execution_count": 103,
   "metadata": {},
   "outputs": [
    {
     "name": "stdout",
     "output_type": "stream",
     "text": [
      "[False, False, False, False, False]\n"
     ]
    }
   ],
   "source": [
    "confirmation = [ True if first_five_list_inner[a] == location_dict['Outer London'][a] else False for a in range(len(first_five_list_inner))]\n",
    "print(confirmation)\n"
   ]
  },
  {
   "cell_type": "markdown",
   "metadata": {},
   "source": [
    "<strong style=\"color:RoyalBlue\">Expected output:</strong>\n",
    "\n",
    "<pre>\n",
    "[False, False, False, False, False]\n",
    "</pre>"
   ]
  },
  {
   "cell_type": "markdown",
   "metadata": {},
   "source": [
    "#### E.) Now check if <code>any()</code> of our sampled Inner London locations are in Outer London.\n",
    "* Your output should be a single Boolean.\n",
    "* Just for illustrative purposes, create another list with those 5 sampled Inner London locations plus 'Wembley Park' (which is in Outer London). Run your <code>any()</code> check again."
   ]
  },
  {
   "cell_type": "code",
   "execution_count": 105,
   "metadata": {},
   "outputs": [
    {
     "name": "stdout",
     "output_type": "stream",
     "text": [
      "False\n"
     ]
    }
   ],
   "source": [
    "# Check if any sampled Inner London locations are in Outer London\n",
    "new_five_inner = location_dict['Inner London'][:5]\n",
    "new_five_inner.append('Wembley Park')\n",
    "\n",
    "\n",
    "confirm = any(True if first_five_list_inner[a] == location_dict['Outer London'][a] else False for a in range(len(first_five_list_inner)))\n",
    "print(confirm)\n"
   ]
  },
  {
   "cell_type": "markdown",
   "metadata": {},
   "source": [
    "<strong style=\"color:RoyalBlue\">Expected output:</strong>\n",
    "\n",
    "<pre>\n",
    "False\n",
    "</pre>"
   ]
  },
  {
   "cell_type": "code",
   "execution_count": 108,
   "metadata": {},
   "outputs": [
    {
     "data": {
      "text/plain": [
       "True"
      ]
     },
     "execution_count": 108,
     "metadata": {},
     "output_type": "execute_result"
    }
   ],
   "source": [
    "# Check sampled Inner London locations PLUS Wembley Park\n",
    "#con = any(True if new_five_inner[a] == location_dict['Outer London'][a] else False for a in range(len(new_five_inner)))\n",
    "#print(con)\n",
    "\n",
    "#c = any(new_five_inner)\n",
    "#print(c)\n",
    "\n",
    "any( name == 'Wembley Park' for name in new_five_inner)"
   ]
  },
  {
   "cell_type": "markdown",
   "metadata": {},
   "source": [
    "<strong style=\"color:RoyalBlue\">Expected output:</strong>\n",
    "\n",
    "<pre>\n",
    "True\n",
    "</pre>"
   ]
  },
  {
   "cell_type": "markdown",
   "metadata": {},
   "source": [
    "Now that we have <code>in</code> and <code>any()</code>, we have everything we need to \"judge a location by its cover.\" Let's wrap up this exercise.\n",
    "\n",
    "#### F.) Give each location in Outer London a first impression based on its name. Combine <code style=\"color:steelblue\">if</code> and <code style=\"color:steelblue\">for</code> statements. For each location in Outer London...\n",
    "* **If** its name has <code style=\"color:steelblue\">'Farm'</code>, <code style=\"color:steelblue\">'Park'</code>, <code style=\"color:steelblue\">'Hill'</code>, or <code style=\"color:steelblue\">'Green'</code> in it, print:\n",
    "\n",
    "<pre style=\"color:steelblue\">{<strong>name</strong>} sounds pleasant.</pre>\n",
    "\n",
    "* **Else If** its name has <code style=\"color:steelblue\">'Royal'</code>, <code style=\"color:steelblue\">'Queen'</code>, or <code style=\"color:steelblue\">'King'</code> in it, print:\n",
    "\n",
    "<pre style=\"color:steelblue\">{<strong>name</strong>} sounds grand.</pre>\n",
    "    \n",
    "* If its name doesn't sound pleasant or grand, just ignore it.\n",
    "* **Tip:** If you want to check if any word from a list is found in a string, you can use <code style=\"color:steelblue\">any()</code>, like so:\n",
    "\n",
    "<pre style=\"color:steelblue\">\n",
    "any( word in name for word in <strong>list_of_words</strong> )\n",
    "</pre>"
   ]
  },
  {
   "cell_type": "code",
   "execution_count": 107,
   "metadata": {},
   "outputs": [
    {
     "name": "stdout",
     "output_type": "stream",
     "text": [
      "Queen's Park sounds pleasant\n",
      "Brent Park sounds pleasant\n",
      "Dollis Hill sounds pleasant\n",
      "Park Royal sounds pleasant\n",
      "Kingsbury sounds grand\n",
      "Kensal Green sounds pleasant\n",
      "Wembley Park sounds pleasant\n",
      "Seven Kings sounds grand\n",
      "Woodford Green sounds pleasant\n",
      "Newbury Park sounds pleasant\n",
      "Gants Hill sounds pleasant\n"
     ]
    }
   ],
   "source": [
    "pleasant_sounding = ['Farm', 'Park', 'Hill', 'Green']\n",
    "royal_sounding = ['Royal', 'Queen', 'King']\n",
    "\n",
    "# Print first impression of each location in Outer London based on its names\n",
    "for name in location_dict['Outer London']:\n",
    "    if any( ps in name for ps in pleasant_sounding):\n",
    "        print('{} sounds pleasant'.format(name))\n",
    "    elif any( rs in name for rs in royal_sounding):\n",
    "        print('{} sounds grand'.format(name))\n",
    "\n",
    "\n"
   ]
  },
  {
   "cell_type": "markdown",
   "metadata": {},
   "source": [
    "<strong style=\"color:RoyalBlue\">Expected output:</strong>\n",
    "\n",
    "<pre>\n",
    "Brent Park sounds pleasant.\n",
    "Dollis Hill sounds pleasant.\n",
    "Kensal Green sounds pleasant.\n",
    "Kingsbury sounds grand.\n",
    "Queen's Park sounds pleasant.\n",
    "Wembley Park sounds pleasant.\n",
    "Park Royal sounds pleasant.\n",
    "Seven Kings sounds grand.\n",
    "Gants Hill sounds pleasant.\n",
    "Woodford Green sounds pleasant.\n",
    "Newbury Park sounds pleasant.\n",
    "</pre>"
   ]
  },
  {
   "cell_type": "markdown",
   "metadata": {},
   "source": [
    "## <span style=\"color:RoyalBlue\">Exercise 3.3 - Pleasant Comprehensions</span>\n",
    "\n",
    "#### A.) Using a list comprehension, create a new list called <code style=\"color:steelblue\">pleasant_locations</code>.\n",
    "* It should contain locations in Outer London that are <code style=\"color:steelblue\">pleasant_sounding</code>.\n",
    "* Then print the list.\n",
    "* **Tip:** To check if any word from a list is found in a string, you can use <code style=\"color:steelblue\">any()</code>. See <span style=\"color:RoyalBlue\">Exercise 3.2</span> if you need a reminder."
   ]
  },
  {
   "cell_type": "code",
   "execution_count": 122,
   "metadata": {},
   "outputs": [
    {
     "name": "stdout",
     "output_type": "stream",
     "text": [
      "[\"Queen's Park\", 'Brent Park', 'Dollis Hill', 'Park Royal', 'Kensal Green', 'Wembley Park', 'Woodford Green', 'Newbury Park', 'Gants Hill']\n"
     ]
    }
   ],
   "source": [
    "# Create pleasant_locations list using a list comprehension\n",
    "pleasant_locations = [name for name in location_dict['Outer London'] if any( ps in name for ps in pleasant_sounding)]\n",
    "\n",
    "\n",
    "# Print the pleasant-sounding locations\n",
    "print(pleasant_locations)\n"
   ]
  },
  {
   "cell_type": "markdown",
   "metadata": {},
   "source": [
    "<strong style=\"color:RoyalBlue\">Expected output:</strong>\n",
    "\n",
    "<pre>\n",
    "['Brent Park', 'Dollis Hill', 'Kensal Green', \"Queen's Park\", 'Wembley Park', 'Park Royal', 'Gants Hill', 'Woodford Green', 'Newbury Park']\n",
    "</pre>"
   ]
  },
  {
   "cell_type": "markdown",
   "metadata": {},
   "source": [
    "#### B.) Print the number pleasant-sounding locations we have."
   ]
  },
  {
   "cell_type": "code",
   "execution_count": 123,
   "metadata": {
    "scrolled": true
   },
   "outputs": [
    {
     "name": "stdout",
     "output_type": "stream",
     "text": [
      "9\n"
     ]
    }
   ],
   "source": [
    "# Print number of pleasant-sounding locations\n",
    "print(len(pleasant_locations))"
   ]
  },
  {
   "cell_type": "markdown",
   "metadata": {},
   "source": [
    "<strong style=\"color:RoyalBlue\">Expected output:</strong>\n",
    "\n",
    "<pre>\n",
    "9\n",
    "</pre>"
   ]
  },
  {
   "cell_type": "markdown",
   "metadata": {},
   "source": [
    "## <span style=\"color:RoyalBlue\">Exercise 3.4 - Functional Filters</span>\n",
    "\n",
    "For the final exercise of this module, we're going to practice writing functions.\n",
    "\n",
    "#### A.) Write a function called <code style=\"color:steelblue\">filter_locations</code> that takes two arguments:\n",
    "1. <code style=\"color:steelblue\">location_list</code>\n",
    "2. <code style=\"color:steelblue\">words_list</code>\n",
    "\n",
    "The function should return the list of names in <code style=\"color:steelblue\">location_list</code> that have any word in <code style=\"color:steelblue\">words_list</code>.\n",
    "* **Tip:** For help with the code block, see your answer in <span style=\"color:RoyalBlue\">Exercise 3.3</span>."
   ]
  },
  {
   "cell_type": "code",
   "execution_count": 129,
   "metadata": {},
   "outputs": [],
   "source": [
    "def filter_locations(location_list=[], words_list=[]):\n",
    "    locations = [name for name in location_list if any( ps in name for ps in words_list)]\n",
    "    return locations\n",
    "\n",
    "    "
   ]
  },
  {
   "cell_type": "markdown",
   "metadata": {},
   "source": [
    "Next, let's test that function. \n",
    "\n",
    "#### B.) Create a new <code style=\"color:steelblue\">pleasant_locations</code> list using the function you just wrote.\n",
    "* Pass in the list of Outer London locations and the list of pleasant-sounding words.\n",
    "* You should get the same locations that you got in <span style=\"color:RoyalBlue\">Exercise 3.3</span>.\n",
    "* Print the new list."
   ]
  },
  {
   "cell_type": "code",
   "execution_count": 133,
   "metadata": {},
   "outputs": [
    {
     "name": "stdout",
     "output_type": "stream",
     "text": [
      "[\"Queen's Park\", 'Brent Park', 'Dollis Hill', 'Park Royal', 'Kensal Green', 'Wembley Park', 'Woodford Green', 'Newbury Park', 'Gants Hill']\n"
     ]
    }
   ],
   "source": [
    "# Create pleasant_locations using filter_locations()\n",
    "pleasant_locations = filter_locations(location_dict['Outer London'], pleasant_sounding)\n",
    "\n",
    "# Print list of pleasant-sounding locations\n",
    "print(pleasant_locations)\n"
   ]
  },
  {
   "cell_type": "markdown",
   "metadata": {},
   "source": [
    "<strong style=\"color:RoyalBlue\">Expected output:</strong>\n",
    "\n",
    "<pre>\n",
    "['Brent Park', 'Dollis Hill', 'Kensal Green', \"Queen's Park\", 'Wembley Park', 'Park Royal', 'Gants Hill', 'Woodford Green', 'Newbury Park']\n",
    "</pre>"
   ]
  },
  {
   "cell_type": "markdown",
   "metadata": {},
   "source": [
    "#### C.) Next, let's use this handy function to create a <code style=\"color:steelblue\">grand_locations</code> list for locations that sound grand.\n",
    "* Pass in the list of Outer London locations and the list of grand-sounding words.\n",
    "* Print the new list and confirm the expected output"
   ]
  },
  {
   "cell_type": "code",
   "execution_count": 132,
   "metadata": {},
   "outputs": [
    {
     "name": "stdout",
     "output_type": "stream",
     "text": [
      "[\"Queen's Park\", 'Park Royal', 'Kingsbury', 'Seven Kings']\n"
     ]
    }
   ],
   "source": [
    "# Create grand_locations using filter_locations()\n",
    "grand_locations = filter_locations(location_dict['Outer London'], royal_sounding)\n",
    "\n",
    "# Print list of grand-sounding locations\n",
    "print(grand_locations)\n"
   ]
  },
  {
   "cell_type": "markdown",
   "metadata": {},
   "source": [
    "<strong style=\"color:RoyalBlue\">Expected output:</strong>\n",
    "\n",
    "<pre>\n",
    "['Kingsbury', \"Queen's Park\", 'Park Royal', 'Seven Kings']\n",
    "</pre>"
   ]
  },
  {
   "cell_type": "markdown",
   "metadata": {},
   "source": [
    "Awesome, are there any locations in both lists?\n",
    "\n",
    "#### D.) Display the locations in both the <code style=\"color:steelblue\">pleasant_locations</code> and <code style=\"color:steelblue\">grand_locations</code> lists.\n",
    "* You can compare these lists manually because they are short, but try using <code style=\"color:steelblue\">sets</code> and the <code style=\"color:steelblue\">.intersection()</code> function (or <code style=\"color:steelblue\">&</code> operator)!"
   ]
  },
  {
   "cell_type": "code",
   "execution_count": 135,
   "metadata": {},
   "outputs": [
    {
     "name": "stdout",
     "output_type": "stream",
     "text": [
      "{\"Queen's Park\", 'Park Royal'}\n"
     ]
    }
   ],
   "source": [
    "# Display locations that sound pleasant and grand\n",
    "both_locations = set(pleasant_locations) & set(grand_locations)\n",
    "print(both_locations)"
   ]
  },
  {
   "cell_type": "markdown",
   "metadata": {},
   "source": [
    "<strong style=\"color:RoyalBlue\">Expected output:</strong>\n",
    "\n",
    "<pre>\n",
    "{'Park Royal', \"Queen's Park\"}\n",
    "</pre>"
   ]
  },
  {
   "cell_type": "markdown",
   "metadata": {},
   "source": [
    "Great, we'll start with these for our visit. As a side note, notice how Python automatically used double quotes to enclose <code>\"Queen's Park\"</code> so that you don't have to worry about escaping the apostrophe.\n",
    "\n",
    "#### The mission continues in the next module...\n",
    "\n",
    "In this module, we filtered our lists of locations down to two: Park Royal and Queen's Park. In the next module, we'll visit Park Royal and talk with some local businesses there.*"
   ]
  }
 ],
 "metadata": {
  "anaconda-cloud": {},
  "kernelspec": {
   "display_name": "Python 3 (ipykernel)",
   "language": "python",
   "name": "python3"
  },
  "language_info": {
   "codemirror_mode": {
    "name": "ipython",
    "version": 3
   },
   "file_extension": ".py",
   "mimetype": "text/x-python",
   "name": "python",
   "nbconvert_exporter": "python",
   "pygments_lexer": "ipython3",
   "version": "3.9.7"
  }
 },
 "nbformat": 4,
 "nbformat_minor": 1
}
